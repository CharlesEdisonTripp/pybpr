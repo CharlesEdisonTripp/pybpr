{
 "cells": [
  {
   "cell_type": "markdown",
   "id": "1971f6cf",
   "metadata": {},
   "source": [
    "## Application of WALS on Movielens"
   ]
  },
  {
   "cell_type": "code",
   "execution_count": 20,
   "id": "6985b0da",
   "metadata": {},
   "outputs": [
    {
     "name": "stdout",
     "output_type": "stream",
     "text": [
      "The autoreload extension is already loaded. To reload it, use:\n",
      "  %reload_ext autoreload\n"
     ]
    }
   ],
   "source": [
    "#%load_ext watermark\n",
    "%load_ext autoreload \n",
    "%autoreload 2"
   ]
  },
  {
   "cell_type": "code",
   "execution_count": 21,
   "id": "6f571098",
   "metadata": {},
   "outputs": [],
   "source": [
    "import os\n",
    "import sys\n",
    "import numpy as np\n",
    "import pandas as pd\n",
    "from pybpr import *\n",
    "import matplotlib.pyplot as plt\n",
    "from functools import partial\n",
    "import itertools\n",
    "import scipy.sparse as ss\n",
    "import pathos.multiprocessing as mp\n",
    "import tqdm"
   ]
  },
  {
   "cell_type": "code",
   "execution_count": 22,
   "id": "bcd21924",
   "metadata": {},
   "outputs": [
    {
     "name": "stdout",
     "output_type": "stream",
     "text": [
      "CPU times: user 21.5 ms, sys: 2.22 ms, total: 23.8 ms\n",
      "Wall time: 26 ms\n"
     ]
    },
    {
     "data": {
      "text/html": [
       "<div>\n",
       "<style scoped>\n",
       "    .dataframe tbody tr th:only-of-type {\n",
       "        vertical-align: middle;\n",
       "    }\n",
       "\n",
       "    .dataframe tbody tr th {\n",
       "        vertical-align: top;\n",
       "    }\n",
       "\n",
       "    .dataframe thead th {\n",
       "        text-align: right;\n",
       "    }\n",
       "</style>\n",
       "<table border=\"1\" class=\"dataframe\">\n",
       "  <thead>\n",
       "    <tr style=\"text-align: right;\">\n",
       "      <th></th>\n",
       "      <th>user_id</th>\n",
       "      <th>item_id</th>\n",
       "      <th>rating</th>\n",
       "      <th>timestamp</th>\n",
       "    </tr>\n",
       "  </thead>\n",
       "  <tbody>\n",
       "    <tr>\n",
       "      <th>0</th>\n",
       "      <td>196</td>\n",
       "      <td>242</td>\n",
       "      <td>3</td>\n",
       "      <td>881250949</td>\n",
       "    </tr>\n",
       "    <tr>\n",
       "      <th>1</th>\n",
       "      <td>186</td>\n",
       "      <td>302</td>\n",
       "      <td>3</td>\n",
       "      <td>891717742</td>\n",
       "    </tr>\n",
       "    <tr>\n",
       "      <th>2</th>\n",
       "      <td>22</td>\n",
       "      <td>377</td>\n",
       "      <td>1</td>\n",
       "      <td>878887116</td>\n",
       "    </tr>\n",
       "    <tr>\n",
       "      <th>3</th>\n",
       "      <td>244</td>\n",
       "      <td>51</td>\n",
       "      <td>2</td>\n",
       "      <td>880606923</td>\n",
       "    </tr>\n",
       "    <tr>\n",
       "      <th>4</th>\n",
       "      <td>166</td>\n",
       "      <td>346</td>\n",
       "      <td>1</td>\n",
       "      <td>886397596</td>\n",
       "    </tr>\n",
       "  </tbody>\n",
       "</table>\n",
       "</div>"
      ],
      "text/plain": [
       "   user_id  item_id  rating  timestamp\n",
       "0      196      242       3  881250949\n",
       "1      186      302       3  891717742\n",
       "2       22      377       1  878887116\n",
       "3      244       51       2  880606923\n",
       "4      166      346       1  886397596"
      ]
     },
     "execution_count": 22,
     "metadata": {},
     "output_type": "execute_result"
    }
   ],
   "source": [
    "%%time\n",
    "#df = load_movielens_data('ml-1m')\n",
    "df = load_movielens_data('ml-100k')\n",
    "df.head()"
   ]
  },
  {
   "cell_type": "code",
   "execution_count": 23,
   "id": "eec38ecb",
   "metadata": {},
   "outputs": [
    {
     "name": "stdout",
     "output_type": "stream",
     "text": [
      "--- Memory usage for MovieLens-1m:\n",
      "Sparse User-Item matrix = 0.09 MB\n",
      "User-Item dataframe df = 2.85 MB\n",
      "Item dataframe df_item = 0.03 MB\n",
      "Item dataframe df_user = 0.02 MB\n",
      "---\n",
      "CPU times: user 30.3 ms, sys: 1.53 ms, total: 31.8 ms\n",
      "Wall time: 30.9 ms\n"
     ]
    }
   ],
   "source": [
    "%%time\n",
    "dfshort = df[df['rating'] > 0]\n",
    "cf = UserItemInteractions(\n",
    "    name='MovieLens-1m',\n",
    "    users = dfshort['user_id'], \n",
    "    items = dfshort['item_id'],\n",
    "    min_num_rating_per_user=30,\n",
    "    min_num_rating_per_item=10\n",
    ")\n",
    "cf.print_memory_usage()"
   ]
  },
  {
   "cell_type": "code",
   "execution_count": 24,
   "id": "ab98cffc",
   "metadata": {},
   "outputs": [
    {
     "name": "stdout",
     "output_type": "stream",
     "text": [
      "CPU times: user 1.26 s, sys: 1.8 ms, total: 1.26 s\n",
      "Wall time: 1.26 s\n"
     ]
    }
   ],
   "source": [
    "%%time\n",
    "cf.generate_train_test(user_test_ratio = 0.2)"
   ]
  },
  {
   "cell_type": "code",
   "execution_count": 25,
   "id": "7eb2ba66",
   "metadata": {},
   "outputs": [],
   "source": [
    "wals = MF_WALS(\n",
    "    num_features=10, \n",
    "    reg_lambda=0., \n",
    "    ncores=1, \n",
    "    weighting_strategy='same', \n",
    "    num_iters=10, \n",
    "    initial_std=0.1, \n",
    "    seed=None\n",
    ")"
   ]
  },
  {
   "cell_type": "code",
   "execution_count": 26,
   "id": "61ed8dbd",
   "metadata": {},
   "outputs": [
    {
     "name": "stdout",
     "output_type": "stream",
     "text": [
      "CPU times: user 6min 10s, sys: 9min 55s, total: 16min 5s\n",
      "Wall time: 26.8 s\n"
     ]
    }
   ],
   "source": [
    "%%time\n",
    "wals.fit(cf.R_train)"
   ]
  },
  {
   "cell_type": "code",
   "execution_count": 27,
   "id": "35283aef",
   "metadata": {},
   "outputs": [],
   "source": [
    "als = MF_ALS(\n",
    "    num_features=10, \n",
    "    reg_lambda=0., \n",
    "    num_iters=10, \n",
    "    initial_std=0.1, \n",
    "    seed=None\n",
    ")"
   ]
  },
  {
   "cell_type": "code",
   "execution_count": 28,
   "id": "40752745",
   "metadata": {},
   "outputs": [],
   "source": [
    "als.fit(cf.R_train)"
   ]
  },
  {
   "cell_type": "code",
   "execution_count": 29,
   "id": "1ca71fb7",
   "metadata": {},
   "outputs": [],
   "source": [
    "als_ndcg_score = cf.get_ndcg_metric(\n",
    "    user_mat = als.user_mat,\n",
    "    item_mat=als.item_mat,\n",
    "    num_items = 10,\n",
    "    test=True,\n",
    "    truncate=True\n",
    ")\n",
    "wals_ndcg_score = cf.get_ndcg_metric(\n",
    "    user_mat = wals.user_mat,\n",
    "    item_mat=wals.item_mat,\n",
    "    num_items = 10,\n",
    "    test=True,\n",
    "    truncate=True\n",
    ")"
   ]
  },
  {
   "cell_type": "code",
   "execution_count": 30,
   "id": "b5946719",
   "metadata": {},
   "outputs": [
    {
     "data": {
      "text/plain": [
       "(0.44989681124501735, 0.448821480128063)"
      ]
     },
     "execution_count": 30,
     "metadata": {},
     "output_type": "execute_result"
    }
   ],
   "source": [
    "als_ndcg_score, wals_ndcg_score"
   ]
  },
  {
   "cell_type": "markdown",
   "id": "a900f8b3",
   "metadata": {},
   "source": [
    "## ALS = WALS when weighting negative and positive examples same"
   ]
  },
  {
   "cell_type": "markdown",
   "id": "635f488e",
   "metadata": {},
   "source": [
    "## Effect of num of features on ndcg"
   ]
  },
  {
   "cell_type": "code",
   "execution_count": 13,
   "id": "9252037b",
   "metadata": {},
   "outputs": [
    {
     "name": "stdout",
     "output_type": "stream",
     "text": [
      "(4, 7)\n"
     ]
    }
   ],
   "source": [
    "list_of_num_features = np.arange(1,50,50)\n",
    "list_of_wgt_strategies = ['same', 'uniform', 'user-oriented', 'item-oriented']\n",
    "list_of_ndcg_num_items = [5]\n",
    "list_of_num_iters = [2]\n",
    "list_of_reg_lambda = [0.]\n",
    "iter_list = list(itertools.product(list_of_num_features, \n",
    "                                   list_of_wgt_strategies,\n",
    "                                   list_of_ndcg_num_items,\n",
    "                                   list_of_num_iters,\n",
    "                                   list_of_reg_lambda))\n",
    "columns =['num_features', 'wgt_strategy', 'ndcg_num_items', 'num_iters','reg_lambda']\n",
    "df = pd.DataFrame(list(iter_list), columns=columns) \n",
    "# df['ndcg_test'] = np.nan\n",
    "# df['ndcg_train'] = np.nan\n",
    "# df['wall_time'] = np.nan\n",
    "print(df.shape)"
   ]
  },
  {
   "cell_type": "code",
   "execution_count": 14,
   "id": "70b11eb8",
   "metadata": {},
   "outputs": [],
   "source": [
    "# for idx, irow in df.iterrows():\n",
    "#     print(irow)"
   ]
  },
  {
   "cell_type": "code",
   "execution_count": 15,
   "id": "9083988a",
   "metadata": {},
   "outputs": [],
   "source": [
    "def get_ndcg_wals(irow, icf):\n",
    "    idx, idict = irow\n",
    "    print(idx, end=\"-\", flush=True)\n",
    "    wals = MF_WALS(\n",
    "        num_features=idict['num_features'], \n",
    "        reg_lambda=idict['reg_lambda'],  \n",
    "        weighting_strategy=idict['wgt_strategy'], \n",
    "        num_iters= idict['num_iters'], \n",
    "        initial_std=0.1, \n",
    "        seed=None\n",
    "    )\n",
    "    wals.fit(icf.R_train)\n",
    "    wals_ndcg_func = partial(\n",
    "        icf.get_ndcg_metric, \n",
    "        user_mat = wals.user_mat, \n",
    "        item_mat= wals.item_mat, \n",
    "        num_items = idict['ndcg_num_items']\n",
    "    )\n",
    "    out_dict = {}\n",
    "    out_dict['ndcg_test'] = wals_ndcg_func(test=True)\n",
    "    out_dict['ndcg_train'] = wals_ndcg_func(test=False)\n",
    "    return out_dict"
   ]
  },
  {
   "cell_type": "code",
   "execution_count": 16,
   "id": "b6fc5648",
   "metadata": {},
   "outputs": [
    {
     "name": "stdout",
     "output_type": "stream",
     "text": [
      "0-1-2-3-CPU times: user 3min 42s, sys: 6min 7s, total: 9min 50s\n",
      "Wall time: 19.4 s\n"
     ]
    }
   ],
   "source": [
    "%%time\n",
    "results = []\n",
    "for irow in df.iterrows():\n",
    "    results.append(get_ndcg_wals(irow, icf=cf))"
   ]
  },
  {
   "cell_type": "code",
   "execution_count": null,
   "id": "28c733b4",
   "metadata": {},
   "outputs": [],
   "source": [
    "%%time\n",
    "with mp.ProcessPool(4) as p:\n",
    "    results = tqdm.tqdm(p.imap(lambda irow: get_ndcg_wals(irow, icf=cf), df.iterrows()), total=df.shape[0])"
   ]
  },
  {
   "cell_type": "code",
   "execution_count": 17,
   "id": "d0abd05f",
   "metadata": {},
   "outputs": [],
   "source": [
    "df = pd.concat([df,pd.DataFrame(results)], axis=1)"
   ]
  },
  {
   "cell_type": "code",
   "execution_count": 18,
   "id": "549bda41",
   "metadata": {},
   "outputs": [
    {
     "data": {
      "text/html": [
       "<div>\n",
       "<style scoped>\n",
       "    .dataframe tbody tr th:only-of-type {\n",
       "        vertical-align: middle;\n",
       "    }\n",
       "\n",
       "    .dataframe tbody tr th {\n",
       "        vertical-align: top;\n",
       "    }\n",
       "\n",
       "    .dataframe thead th {\n",
       "        text-align: right;\n",
       "    }\n",
       "</style>\n",
       "<table border=\"1\" class=\"dataframe\">\n",
       "  <thead>\n",
       "    <tr style=\"text-align: right;\">\n",
       "      <th></th>\n",
       "      <th>num_features</th>\n",
       "      <th>wgt_strategy</th>\n",
       "      <th>ndcg_num_items</th>\n",
       "      <th>num_iters</th>\n",
       "      <th>reg_lambda</th>\n",
       "      <th>ndcg_test</th>\n",
       "      <th>ndcg_train</th>\n",
       "      <th>ndcg_test</th>\n",
       "      <th>ndcg_train</th>\n",
       "    </tr>\n",
       "  </thead>\n",
       "  <tbody>\n",
       "    <tr>\n",
       "      <th>0</th>\n",
       "      <td>1</td>\n",
       "      <td>same</td>\n",
       "      <td>5</td>\n",
       "      <td>2</td>\n",
       "      <td>0.0</td>\n",
       "      <td>NaN</td>\n",
       "      <td>NaN</td>\n",
       "      <td>0.311646</td>\n",
       "      <td>0.491332</td>\n",
       "    </tr>\n",
       "    <tr>\n",
       "      <th>1</th>\n",
       "      <td>1</td>\n",
       "      <td>uniform</td>\n",
       "      <td>5</td>\n",
       "      <td>2</td>\n",
       "      <td>0.0</td>\n",
       "      <td>NaN</td>\n",
       "      <td>NaN</td>\n",
       "      <td>0.311225</td>\n",
       "      <td>0.495120</td>\n",
       "    </tr>\n",
       "    <tr>\n",
       "      <th>2</th>\n",
       "      <td>1</td>\n",
       "      <td>user-oriented</td>\n",
       "      <td>5</td>\n",
       "      <td>2</td>\n",
       "      <td>0.0</td>\n",
       "      <td>NaN</td>\n",
       "      <td>NaN</td>\n",
       "      <td>0.262617</td>\n",
       "      <td>0.415504</td>\n",
       "    </tr>\n",
       "    <tr>\n",
       "      <th>3</th>\n",
       "      <td>1</td>\n",
       "      <td>item-oriented</td>\n",
       "      <td>5</td>\n",
       "      <td>2</td>\n",
       "      <td>0.0</td>\n",
       "      <td>NaN</td>\n",
       "      <td>NaN</td>\n",
       "      <td>0.313189</td>\n",
       "      <td>0.498886</td>\n",
       "    </tr>\n",
       "  </tbody>\n",
       "</table>\n",
       "</div>"
      ],
      "text/plain": [
       "   num_features   wgt_strategy  ndcg_num_items  num_iters  reg_lambda  \\\n",
       "0             1           same               5          2         0.0   \n",
       "1             1        uniform               5          2         0.0   \n",
       "2             1  user-oriented               5          2         0.0   \n",
       "3             1  item-oriented               5          2         0.0   \n",
       "\n",
       "   ndcg_test  ndcg_train  ndcg_test  ndcg_train  \n",
       "0        NaN         NaN   0.311646    0.491332  \n",
       "1        NaN         NaN   0.311225    0.495120  \n",
       "2        NaN         NaN   0.262617    0.415504  \n",
       "3        NaN         NaN   0.313189    0.498886  "
      ]
     },
     "execution_count": 18,
     "metadata": {},
     "output_type": "execute_result"
    }
   ],
   "source": [
    "df"
   ]
  },
  {
   "cell_type": "code",
   "execution_count": 19,
   "id": "4ed75b45",
   "metadata": {},
   "outputs": [],
   "source": [
    "df.to_csv(os.path.join(os.path.curdir, 'output', 'wals_results.csv'))"
   ]
  }
 ],
 "metadata": {
  "kernelspec": {
   "display_name": "bpr_env",
   "language": "python",
   "name": "bpr_env"
  },
  "language_info": {
   "codemirror_mode": {
    "name": "ipython",
    "version": 3
   },
   "file_extension": ".py",
   "mimetype": "text/x-python",
   "name": "python",
   "nbconvert_exporter": "python",
   "pygments_lexer": "ipython3",
   "version": "3.10.6"
  }
 },
 "nbformat": 4,
 "nbformat_minor": 5
}
