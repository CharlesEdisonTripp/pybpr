{
 "cells": [
  {
   "cell_type": "markdown",
   "id": "1971f6cf",
   "metadata": {},
   "source": [
    "## Application of BPR on Movielens"
   ]
  },
  {
   "cell_type": "code",
   "execution_count": null,
   "id": "6985b0da",
   "metadata": {},
   "outputs": [],
   "source": [
    "#%load_ext watermark\n",
    "%load_ext autoreload \n",
    "%autoreload 2"
   ]
  },
  {
   "cell_type": "code",
   "execution_count": null,
   "id": "6f571098",
   "metadata": {},
   "outputs": [],
   "source": [
    "import os\n",
    "import sys\n",
    "import itertools\n",
    "import numpy as np\n",
    "import pandas as pd\n",
    "from subprocess import call\n",
    "from pybpr import *\n",
    "import matplotlib.pyplot as plt\n",
    "from functools import partial"
   ]
  },
  {
   "cell_type": "code",
   "execution_count": null,
   "id": "bcd21924",
   "metadata": {},
   "outputs": [],
   "source": [
    "%%time\n",
    "#df = load_movielens_data('ml-1m')\n",
    "df = load_movielens_data('ml-100k')\n",
    "dfshort = df[df['rating'] > 0]\n",
    "df.head()"
   ]
  },
  {
   "cell_type": "code",
   "execution_count": null,
   "id": "fb8e23a7",
   "metadata": {},
   "outputs": [],
   "source": [
    "cf = UserItemInteractions(\n",
    "    name='MovieLens-100k',\n",
    "    users=dfshort['user_id'],\n",
    "    items=dfshort['item_id'],\n",
    "    min_num_rating_per_user=10,\n",
    "    min_num_rating_per_item=10,\n",
    "    num_cores = 1\n",
    ")\n",
    "cf.print_memory_usage()\n",
    "cf.generate_train_test(user_test_ratio=0.2)"
   ]
  },
  {
   "cell_type": "code",
   "execution_count": null,
   "id": "d944aec8",
   "metadata": {},
   "outputs": [],
   "source": [
    "bpr = BPR(\n",
    "    num_features=10,\n",
    "    reg_lambda=0.,\n",
    "    num_iters=50,\n",
    "    learning_rate = 0.5,\n",
    "    batch_size=5,\n",
    "    initial_std=0.01,\n",
    "    seed=None\n",
    ")\n",
    "bpr_ndcg_func = partial(\n",
    "    cf.get_ndcg_metric,\n",
    "    num_items=10\n",
    ")\n",
    "bpr.fit(cf.R_train, bpr_ndcg_func)\n",
    "ndcg_df = pd.DataFrame(bpr.ndcg_metric)"
   ]
  },
  {
   "cell_type": "code",
   "execution_count": null,
   "id": "2b946437",
   "metadata": {},
   "outputs": [],
   "source": [
    "fig, ax = plt.subplots(1, 2, figsize=(10,3))\n",
    "ax[0].plot(ndcg_df['test'])\n",
    "ax[1].plot(ndcg_df['train'])"
   ]
  },
  {
   "cell_type": "code",
   "execution_count": null,
   "id": "0c664145",
   "metadata": {},
   "outputs": [],
   "source": [
    "#bpr_ndcg_func(test=True), bpr_ndcg_func(test=False)"
   ]
  },
  {
   "cell_type": "code",
   "execution_count": null,
   "id": "5e256abf",
   "metadata": {},
   "outputs": [],
   "source": [
    "ndcg_df"
   ]
  },
  {
   "cell_type": "code",
   "execution_count": null,
   "id": "a521f61d",
   "metadata": {},
   "outputs": [],
   "source": []
  },
  {
   "cell_type": "code",
   "execution_count": null,
   "id": "7c977646",
   "metadata": {},
   "outputs": [],
   "source": []
  }
 ],
 "metadata": {
  "kernelspec": {
   "display_name": "bpr_env",
   "language": "python",
   "name": "bpr_env"
  },
  "language_info": {
   "codemirror_mode": {
    "name": "ipython",
    "version": 3
   },
   "file_extension": ".py",
   "mimetype": "text/x-python",
   "name": "python",
   "nbconvert_exporter": "python",
   "pygments_lexer": "ipython3",
   "version": "3.10.6"
  }
 },
 "nbformat": 4,
 "nbformat_minor": 5
}
