{
 "cells": [
  {
   "cell_type": "markdown",
   "id": "1971f6cf",
   "metadata": {},
   "source": [
    "## Application of BPR on Movielens"
   ]
  },
  {
   "cell_type": "code",
   "execution_count": 1,
   "id": "6985b0da",
   "metadata": {},
   "outputs": [],
   "source": [
    "#%load_ext watermark\n",
    "%load_ext autoreload \n",
    "%autoreload 2"
   ]
  },
  {
   "cell_type": "code",
   "execution_count": 2,
   "id": "6f571098",
   "metadata": {},
   "outputs": [],
   "source": [
    "import os\n",
    "import sys\n",
    "import itertools\n",
    "import numpy as np\n",
    "import pandas as pd\n",
    "from subprocess import call\n",
    "from pybpr import *\n",
    "import matplotlib.pyplot as plt\n",
    "from functools import partial"
   ]
  },
  {
   "cell_type": "code",
   "execution_count": 3,
   "id": "bcd21924",
   "metadata": {},
   "outputs": [
    {
     "name": "stdout",
     "output_type": "stream",
     "text": [
      "CPU times: user 16.7 ms, sys: 13.6 ms, total: 30.3 ms\n",
      "Wall time: 142 ms\n"
     ]
    },
    {
     "data": {
      "text/html": [
       "<div>\n",
       "<style scoped>\n",
       "    .dataframe tbody tr th:only-of-type {\n",
       "        vertical-align: middle;\n",
       "    }\n",
       "\n",
       "    .dataframe tbody tr th {\n",
       "        vertical-align: top;\n",
       "    }\n",
       "\n",
       "    .dataframe thead th {\n",
       "        text-align: right;\n",
       "    }\n",
       "</style>\n",
       "<table border=\"1\" class=\"dataframe\">\n",
       "  <thead>\n",
       "    <tr style=\"text-align: right;\">\n",
       "      <th></th>\n",
       "      <th>user_id</th>\n",
       "      <th>item_id</th>\n",
       "      <th>rating</th>\n",
       "      <th>timestamp</th>\n",
       "    </tr>\n",
       "  </thead>\n",
       "  <tbody>\n",
       "    <tr>\n",
       "      <th>0</th>\n",
       "      <td>196</td>\n",
       "      <td>242</td>\n",
       "      <td>3</td>\n",
       "      <td>881250949</td>\n",
       "    </tr>\n",
       "    <tr>\n",
       "      <th>1</th>\n",
       "      <td>186</td>\n",
       "      <td>302</td>\n",
       "      <td>3</td>\n",
       "      <td>891717742</td>\n",
       "    </tr>\n",
       "    <tr>\n",
       "      <th>2</th>\n",
       "      <td>22</td>\n",
       "      <td>377</td>\n",
       "      <td>1</td>\n",
       "      <td>878887116</td>\n",
       "    </tr>\n",
       "    <tr>\n",
       "      <th>3</th>\n",
       "      <td>244</td>\n",
       "      <td>51</td>\n",
       "      <td>2</td>\n",
       "      <td>880606923</td>\n",
       "    </tr>\n",
       "    <tr>\n",
       "      <th>4</th>\n",
       "      <td>166</td>\n",
       "      <td>346</td>\n",
       "      <td>1</td>\n",
       "      <td>886397596</td>\n",
       "    </tr>\n",
       "  </tbody>\n",
       "</table>\n",
       "</div>"
      ],
      "text/plain": [
       "   user_id  item_id  rating  timestamp\n",
       "0      196      242       3  881250949\n",
       "1      186      302       3  891717742\n",
       "2       22      377       1  878887116\n",
       "3      244       51       2  880606923\n",
       "4      166      346       1  886397596"
      ]
     },
     "execution_count": 3,
     "metadata": {},
     "output_type": "execute_result"
    }
   ],
   "source": [
    "%%time\n",
    "#df = load_movielens_data('ml-1m')\n",
    "df = load_movielens_data('ml-100k')\n",
    "dfshort = df[df['rating'] > 0]\n",
    "df.head()"
   ]
  },
  {
   "cell_type": "code",
   "execution_count": 4,
   "id": "fb8e23a7",
   "metadata": {},
   "outputs": [
    {
     "name": "stdout",
     "output_type": "stream",
     "text": [
      "--- Memory usage for MovieLens-100k:\n",
      "Sparse User-Item matrix = 0.09 MB\n",
      "User-Item dataframe df = 1.98 MB\n",
      "Item dataframe df_item = 0.1 MB\n",
      "Item dataframe df_user = 0.05 MB\n",
      "---\n"
     ]
    },
    {
     "name": "stderr",
     "output_type": "stream",
     "text": [
      "BPR:  93%|██████████████████████████████████████████▊   | 186/200 [02:18<00:10,  1.37it/s]/lustre/eaglefs/projects/zazzle/rsandhu/pybpr/pybpr/bpr.py:164: RuntimeWarning: overflow encountered in exp\n",
      "  sigmoid = np.exp(-r_uij) / (1.0 + np.exp(-r_uij))\n",
      "/lustre/eaglefs/projects/zazzle/rsandhu/pybpr/pybpr/bpr.py:164: RuntimeWarning: invalid value encountered in divide\n",
      "  sigmoid = np.exp(-r_uij) / (1.0 + np.exp(-r_uij))\n",
      "BPR: 100%|██████████████████████████████████████████████| 200/200 [02:26<00:00,  1.36it/s]\n"
     ]
    }
   ],
   "source": [
    "cf = UserItemInteractions(\n",
    "    name='MovieLens-100k',\n",
    "    users=dfshort['user_id'],\n",
    "    items=dfshort['item_id'],\n",
    "    min_num_rating_per_user=10,\n",
    "    min_num_rating_per_item=10,\n",
    "    num_cores = 1\n",
    ")\n",
    "cf.print_memory_usage()\n",
    "cf.generate_train_test(user_test_ratio=0.2)\n",
    "bpr = BPR(\n",
    "    num_features=10,\n",
    "    reg_lambda=0.,\n",
    "    num_iters=200,\n",
    "    learning_rate = 0.5,\n",
    "    batch_size=5,\n",
    "    initial_std=0.01,\n",
    "    seed=None\n",
    ")\n",
    "bpr_ndcg_func = partial(\n",
    "    cf.get_ndcg_metric,\n",
    "    num_items=10\n",
    ")\n",
    "bpr.fit(cf.R_train, bpr_ndcg_func)\n",
    "ndcg_df = pd.DataFrame(bpr.ndcg_metric)"
   ]
  },
  {
   "cell_type": "code",
   "execution_count": 5,
   "id": "2b946437",
   "metadata": {},
   "outputs": [
    {
     "data": {
      "text/plain": [
       "[<matplotlib.lines.Line2D at 0x2ac5b30aeef0>]"
      ]
     },
     "execution_count": 5,
     "metadata": {},
     "output_type": "execute_result"
    },
    {
     "data": {
      "image/png": "[encoded data removed]",
      "text/plain": [
       "<Figure size 1000x300 with 2 Axes>"
      ]
     },
     "metadata": {},
     "output_type": "display_data"
    }
   ],
   "source": [
    "fig, ax = plt.subplots(1, 2, figsize=(10,3))\n",
    "ax[0].plot(ndcg_df['test'])\n",
    "ax[1].plot(ndcg_df['train'])"
   ]
  },
  {
   "cell_type": "code",
   "execution_count": 6,
   "id": "0c664145",
   "metadata": {},
   "outputs": [
    {
     "ename": "TypeError",
     "evalue": "UserItemInteractions.get_ndcg_metric() missing 2 required positional arguments: 'user_mat' and 'item_mat'",
     "output_type": "error",
     "traceback": [
      "\u001b[0;31m---------------------------------------------------------------------------\u001b[0m",
      "\u001b[0;31mTypeError\u001b[0m                                 Traceback (most recent call last)",
      "Input \u001b[0;32mIn [6]\u001b[0m, in \u001b[0;36m<cell line: 1>\u001b[0;34m()\u001b[0m\n\u001b[0;32m----> 1\u001b[0m \u001b[43mbpr_ndcg_func\u001b[49m\u001b[43m(\u001b[49m\u001b[43mtest\u001b[49m\u001b[38;5;241;43m=\u001b[39;49m\u001b[38;5;28;43;01mTrue\u001b[39;49;00m\u001b[43m)\u001b[49m, bpr_ndcg_func(test\u001b[38;5;241m=\u001b[39m\u001b[38;5;28;01mFalse\u001b[39;00m)\n",
      "\u001b[0;31mTypeError\u001b[0m: UserItemInteractions.get_ndcg_metric() missing 2 required positional arguments: 'user_mat' and 'item_mat'"
     ]
    }
   ],
   "source": [
    "bpr_ndcg_func(test=True), bpr_ndcg_func(test=False)"
   ]
  },
  {
   "cell_type": "code",
   "execution_count": null,
   "id": "5e256abf",
   "metadata": {},
   "outputs": [],
   "source": []
  },
  {
   "cell_type": "code",
   "execution_count": null,
   "id": "a521f61d",
   "metadata": {},
   "outputs": [],
   "source": []
  },
  {
   "cell_type": "code",
   "execution_count": null,
   "id": "7c977646",
   "metadata": {},
   "outputs": [],
   "source": []
  }
 ],
 "metadata": {
  "kernelspec": {
   "display_name": "bpr_env",
   "language": "python",
   "name": "bpr_env"
  },
  "language_info": {
   "codemirror_mode": {
    "name": "ipython",
    "version": 3
   },
   "file_extension": ".py",
   "mimetype": "text/x-python",
   "name": "python",
   "nbconvert_exporter": "python",
   "pygments_lexer": "ipython3",
   "version": "3.10.6"
  }
 },
 "nbformat": 4,
 "nbformat_minor": 5
}
