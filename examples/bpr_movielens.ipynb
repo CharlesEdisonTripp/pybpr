{
 "cells": [
  {
   "cell_type": "markdown",
   "id": "1971f6cf",
   "metadata": {},
   "source": [
    "## Application of BPR on Movielens"
   ]
  },
  {
   "cell_type": "code",
   "execution_count": 1,
   "id": "6985b0da",
   "metadata": {},
   "outputs": [],
   "source": [
    "#%load_ext watermark\n",
    "%load_ext autoreload \n",
    "%autoreload 2"
   ]
  },
  {
   "cell_type": "code",
   "execution_count": 2,
   "id": "6f571098",
   "metadata": {},
   "outputs": [],
   "source": [
    "import os\n",
    "import sys\n",
    "import itertools\n",
    "import numpy as np\n",
    "import pandas as pd\n",
    "from subprocess import call\n",
    "from pybpr import *\n",
    "import matplotlib.pyplot as plt\n",
    "from functools import partial"
   ]
  },
  {
   "cell_type": "markdown",
   "id": "bf070642-a9da-42df-815a-bccdc747563f",
   "metadata": {},
   "source": [
    "## Prepare data"
   ]
  },
  {
   "cell_type": "code",
   "execution_count": 3,
   "id": "bcd21924",
   "metadata": {},
   "outputs": [
    {
     "name": "stdout",
     "output_type": "stream",
     "text": [
      "CPU times: user 14.1 ms, sys: 5.45 ms, total: 19.6 ms\n",
      "Wall time: 19.5 ms\n"
     ]
    },
    {
     "data": {
      "text/html": [
       "<div>\n",
       "<style scoped>\n",
       "    .dataframe tbody tr th:only-of-type {\n",
       "        vertical-align: middle;\n",
       "    }\n",
       "\n",
       "    .dataframe tbody tr th {\n",
       "        vertical-align: top;\n",
       "    }\n",
       "\n",
       "    .dataframe thead th {\n",
       "        text-align: right;\n",
       "    }\n",
       "</style>\n",
       "<table border=\"1\" class=\"dataframe\">\n",
       "  <thead>\n",
       "    <tr style=\"text-align: right;\">\n",
       "      <th></th>\n",
       "      <th>user_id</th>\n",
       "      <th>item_id</th>\n",
       "      <th>rating</th>\n",
       "      <th>timestamp</th>\n",
       "    </tr>\n",
       "  </thead>\n",
       "  <tbody>\n",
       "    <tr>\n",
       "      <th>0</th>\n",
       "      <td>196</td>\n",
       "      <td>242</td>\n",
       "      <td>3</td>\n",
       "      <td>881250949</td>\n",
       "    </tr>\n",
       "    <tr>\n",
       "      <th>1</th>\n",
       "      <td>186</td>\n",
       "      <td>302</td>\n",
       "      <td>3</td>\n",
       "      <td>891717742</td>\n",
       "    </tr>\n",
       "    <tr>\n",
       "      <th>2</th>\n",
       "      <td>22</td>\n",
       "      <td>377</td>\n",
       "      <td>1</td>\n",
       "      <td>878887116</td>\n",
       "    </tr>\n",
       "    <tr>\n",
       "      <th>3</th>\n",
       "      <td>244</td>\n",
       "      <td>51</td>\n",
       "      <td>2</td>\n",
       "      <td>880606923</td>\n",
       "    </tr>\n",
       "    <tr>\n",
       "      <th>4</th>\n",
       "      <td>166</td>\n",
       "      <td>346</td>\n",
       "      <td>1</td>\n",
       "      <td>886397596</td>\n",
       "    </tr>\n",
       "  </tbody>\n",
       "</table>\n",
       "</div>"
      ],
      "text/plain": [
       "   user_id  item_id  rating  timestamp\n",
       "0      196      242       3  881250949\n",
       "1      186      302       3  891717742\n",
       "2       22      377       1  878887116\n",
       "3      244       51       2  880606923\n",
       "4      166      346       1  886397596"
      ]
     },
     "execution_count": 3,
     "metadata": {},
     "output_type": "execute_result"
    }
   ],
   "source": [
    "%%time\n",
    "#df = load_movielens_data('ml-1m')\n",
    "df = load_movielens_data(\n",
    "    data_dir = os.path.join(os.path.curdir, 'data'),\n",
    "    flag = 'ml-100k'\n",
    ")\n",
    "df.head()"
   ]
  },
  {
   "cell_type": "code",
   "execution_count": 4,
   "id": "6c31ad4e-6cd1-4f08-ad22-c5767687ed70",
   "metadata": {},
   "outputs": [],
   "source": [
    "# rating more than or equal to 3 as positive\n",
    "df_pos = df[df['rating'] > 2].copy()\n",
    "df_neg = df[df['rating'] <= 2].copy()\n",
    "df, [df_pos, df_neg] = generate_user_item_indices(parent_df=df, children_dfs=[df_pos, df_neg])"
   ]
  },
  {
   "cell_type": "code",
   "execution_count": 5,
   "id": "adf8f236-129f-41cd-a704-054507921c6b",
   "metadata": {},
   "outputs": [],
   "source": [
    "# df_pos[df_pos.user_idx==45], df_neg[df_neg.user_idx==45]\n",
    "# df_pos[df_pos.item_idx==45], df_neg[df_neg.item_idx==45]"
   ]
  },
  {
   "cell_type": "code",
   "execution_count": 6,
   "id": "fb8e23a7",
   "metadata": {},
   "outputs": [
    {
     "name": "stdout",
     "output_type": "stream",
     "text": [
      "\n",
      "----UserItemInteractions--MovieLens-100k-pos\n",
      "# of users (active/total): 943/943\n",
      "# of items (active/total): 1574/1682\n",
      "# of interactions: 82520\n",
      "Sparsity in the UI mat: 0.052026\n",
      "Memory used by sparse UI mat: 0.08 MB\n",
      "Generating train-test split..done\n",
      "\n",
      "----UserItemInteractions--MovieLens-100k-neg\n",
      "# of users (active/total): 915/943\n",
      "# of items (active/total): 1548/1682\n",
      "# of interactions: 17480\n",
      "Sparsity in the UI mat: 0.011021\n",
      "Memory used by sparse UI mat: 0.02 MB\n",
      "Generating train-test split..done\n"
     ]
    }
   ],
   "source": [
    "mldata_pos = UserItemInteractions(\n",
    "    name='MovieLens-100k-pos',\n",
    "    users_index=df_pos['user_idx'],\n",
    "    items_index=df_pos['item_idx'],\n",
    "    num_items=df.item_idx.nunique(),\n",
    "    num_users=df.user_idx.nunique()\n",
    ")\n",
    "mldata_pos.generate_train_test(user_test_ratio=0.2)\n",
    "\n",
    "mldata_neg = UserItemInteractions(\n",
    "    name='MovieLens-100k-neg',\n",
    "    users_index=df_neg['user_idx'],\n",
    "    items_index=df_neg['item_idx'],\n",
    "    num_items=df.item_idx.nunique(),\n",
    "    num_users=df.user_idx.nunique()\n",
    ")\n",
    "mldata_neg.generate_train_test(user_test_ratio=0.2)\n"
   ]
  },
  {
   "cell_type": "markdown",
   "id": "4ca792bd-a4c8-4b29-a32e-b8f075449588",
   "metadata": {},
   "source": [
    "## Define BPR and negative sampler"
   ]
  },
  {
   "cell_type": "code",
   "execution_count": 7,
   "id": "d944aec8",
   "metadata": {},
   "outputs": [
    {
     "name": "stdout",
     "output_type": "stream",
     "text": [
      "WARNING: Batch size assigned > # of users\n",
      "Setting batch size to 943\n"
     ]
    }
   ],
   "source": [
    "bpr1 = BPR(\n",
    "    num_features=50, # not benefit more than 50\n",
    "    reg_lambda=0.01,\n",
    "    num_iters=200,\n",
    "    learning_rate = 0.03,\n",
    "    batch_size=1000,\n",
    "    initial_std=0.001,\n",
    ")\n",
    "bpr1.initiate(num_users=mldata_pos.num_users, num_items=mldata_pos.num_items, seed=1234)"
   ]
  },
  {
   "cell_type": "code",
   "execution_count": 8,
   "id": "6f525f1f-21d4-4b67-b816-bb00e3e6f588",
   "metadata": {},
   "outputs": [
    {
     "name": "stdout",
     "output_type": "stream",
     "text": [
      "BPR-Fit: 100%|██████████| 188600/188600 [00:00<00:00, 244654.33it/s]\n",
      "BPR-Fit: 100%|██████████| 188600/188600 [00:00<00:00, 239102.86it/s]\n",
      "BPR-Fit: 100%|██████████| 188600/188600 [00:00<00:00, 235923.68it/s]\n",
      "BPR-Fit: 100%|██████████| 188600/188600 [00:00<00:00, 240570.69it/s]\n",
      "BPR-Fit: 100%|██████████| 188600/188600 [00:00<00:00, 238882.12it/s]\n",
      "BPR-Fit: 100%|██████████| 188600/188600 [00:00<00:00, 239223.68it/s]\n",
      "BPR-Fit: 100%|██████████| 188600/188600 [00:00<00:00, 238866.83it/s]\n",
      "BPR-Fit: 100%|██████████| 188600/188600 [00:00<00:00, 241397.02it/s]\n",
      "BPR-Fit: 100%|██████████| 188600/188600 [00:00<00:00, 239743.45it/s]\n",
      "BPR-Fit: 100%|██████████| 188600/188600 [00:00<00:00, 242431.50it/s]\n",
      "BPR-Fit: 100%|██████████| 188600/188600 [00:00<00:00, 236139.40it/s]\n",
      "BPR-Fit: 100%|██████████| 188600/188600 [00:00<00:00, 241177.63it/s]\n",
      "BPR-Fit: 100%|██████████| 188600/188600 [00:00<00:00, 238252.43it/s]\n",
      "BPR-Fit: 100%|██████████| 188600/188600 [00:00<00:00, 236640.03it/s]\n",
      "BPR-Fit: 100%|██████████| 188600/188600 [00:00<00:00, 236601.88it/s]\n",
      "BPR-Fit: 100%|██████████| 188600/188600 [00:00<00:00, 228509.24it/s]\n",
      "BPR-Fit: 100%|██████████| 188600/188600 [00:00<00:00, 246027.24it/s]\n",
      "BPR-Fit: 100%|██████████| 188600/188600 [00:00<00:00, 239294.24it/s]\n",
      "BPR-Fit: 100%|██████████| 188600/188600 [00:00<00:00, 243589.29it/s]\n",
      "BPR-Fit: 100%|██████████| 188600/188600 [00:00<00:00, 234432.82it/s]\n",
      "BPR-Fit: 100%|██████████| 188600/188600 [00:00<00:00, 232063.29it/s]\n",
      "BPR-Fit: 100%|██████████| 188600/188600 [00:00<00:00, 231578.70it/s]\n",
      "BPR-Fit: 100%|██████████| 188600/188600 [00:00<00:00, 234983.46it/s]\n",
      "BPR-Fit: 100%|██████████| 188600/188600 [00:00<00:00, 240882.54it/s]\n",
      "BPR-Fit: 100%|██████████| 188600/188600 [00:00<00:00, 243501.86it/s]\n",
      "BPR-Fit: 100%|██████████| 188600/188600 [00:00<00:00, 241059.52it/s]\n",
      "BPR-Fit: 100%|██████████| 188600/188600 [00:00<00:00, 242669.11it/s]\n",
      "BPR-Fit: 100%|██████████| 188600/188600 [00:00<00:00, 250550.16it/s]\n",
      "BPR-Fit: 100%|██████████| 188600/188600 [00:00<00:00, 250422.14it/s]\n",
      "BPR-Fit: 100%|██████████| 188600/188600 [00:00<00:00, 242147.34it/s]\n",
      "BPR-Fit: 100%|██████████| 188600/188600 [00:00<00:00, 241933.17it/s]\n",
      "BPR-Fit: 100%|██████████| 188600/188600 [00:00<00:00, 234833.34it/s]\n",
      "BPR-Fit: 100%|██████████| 188600/188600 [00:00<00:00, 236628.35it/s]\n",
      "BPR-Fit: 100%|██████████| 188600/188600 [00:00<00:00, 242128.67it/s]\n",
      "BPR-Fit: 100%|██████████| 188600/188600 [00:00<00:00, 234604.97it/s]\n",
      "BPR-Fit: 100%|██████████| 188600/188600 [00:00<00:00, 238336.85it/s]\n",
      "BPR-Fit: 100%|██████████| 188600/188600 [00:00<00:00, 245472.67it/s]\n",
      "BPR-Fit: 100%|██████████| 188600/188600 [00:00<00:00, 238531.40it/s]\n",
      "BPR-Fit: 100%|██████████| 188600/188600 [00:00<00:00, 235644.60it/s]\n",
      "BPR-Fit: 100%|██████████| 188600/188600 [00:00<00:00, 235872.82it/s]\n",
      "BPR-Fit: 100%|██████████| 188600/188600 [00:00<00:00, 242282.25it/s]\n",
      "BPR-Fit: 100%|██████████| 188600/188600 [00:00<00:00, 230920.93it/s]\n",
      "BPR-Fit: 100%|██████████| 188600/188600 [00:00<00:00, 238911.13it/s]\n",
      "BPR-Fit: 100%|██████████| 188600/188600 [00:00<00:00, 234137.92it/s]\n",
      "BPR-Fit: 100%|██████████| 188600/188600 [00:00<00:00, 241308.95it/s]\n",
      "BPR-Fit: 100%|██████████| 188600/188600 [00:00<00:00, 232946.49it/s]\n",
      "BPR-Fit: 100%|██████████| 188600/188600 [00:00<00:00, 241787.79it/s]\n",
      "BPR-Fit: 100%|██████████| 188600/188600 [00:00<00:00, 241545.40it/s]\n",
      "BPR-Fit: 100%|██████████| 188600/188600 [00:00<00:00, 237677.03it/s]\n",
      "BPR-Fit: 100%|██████████| 188600/188600 [00:00<00:00, 236810.47it/s]\n",
      "BPR-Fit: 100%|██████████| 188600/188600 [00:00<00:00, 238358.76it/s]\n",
      "BPR-Fit: 100%|██████████| 188600/188600 [00:00<00:00, 241816.02it/s]\n",
      "BPR-Fit: 100%|██████████| 188600/188600 [00:00<00:00, 238828.75it/s]\n",
      "BPR-Fit: 100%|██████████| 188600/188600 [00:00<00:00, 239052.71it/s]\n",
      "BPR-Fit: 100%|██████████| 188600/188600 [00:00<00:00, 229923.54it/s]\n",
      "BPR-Fit: 100%|██████████| 188600/188600 [00:00<00:00, 239577.10it/s]\n",
      "BPR-Fit: 100%|██████████| 188600/188600 [00:00<00:00, 244626.86it/s]\n",
      "BPR-Fit: 100%|██████████| 188600/188600 [00:00<00:00, 231196.42it/s]\n",
      "BPR-Fit: 100%|██████████| 188600/188600 [00:00<00:00, 245196.85it/s]\n",
      "BPR-Fit: 100%|██████████| 188600/188600 [00:00<00:00, 238434.70it/s]\n",
      "BPR-Fit: 100%|██████████| 188600/188600 [00:00<00:00, 238499.25it/s]\n",
      "BPR-Fit: 100%|██████████| 188600/188600 [00:00<00:00, 238166.14it/s]\n",
      "BPR-Fit: 100%|██████████| 188600/188600 [00:00<00:00, 238051.82it/s]\n",
      "BPR-Fit: 100%|██████████| 188600/188600 [00:00<00:00, 237727.89it/s]\n",
      "BPR-Fit: 100%|██████████| 188600/188600 [00:00<00:00, 241782.98it/s]\n",
      "BPR-Fit: 100%|██████████| 188600/188600 [00:00<00:00, 242132.74it/s]\n",
      "BPR-Fit: 100%|██████████| 188600/188600 [00:00<00:00, 244868.27it/s]\n",
      "BPR-Fit: 100%|██████████| 188600/188600 [00:00<00:00, 248576.81it/s]\n",
      "BPR-Fit: 100%|██████████| 188600/188600 [00:00<00:00, 245774.76it/s]\n",
      "BPR-Fit: 100%|██████████| 188600/188600 [00:00<00:00, 253279.88it/s]\n",
      "BPR-Fit: 100%|██████████| 188600/188600 [00:00<00:00, 234294.79it/s]\n",
      "BPR-Fit: 100%|██████████| 188600/188600 [00:00<00:00, 244333.85it/s]\n",
      "BPR-Fit: 100%|██████████| 188600/188600 [00:00<00:00, 241964.62it/s]\n",
      "BPR-Fit: 100%|██████████| 188600/188600 [00:00<00:00, 244750.77it/s]\n",
      "BPR-Fit: 100%|██████████| 188600/188600 [00:00<00:00, 238273.96it/s]\n",
      "BPR-Fit: 100%|██████████| 188600/188600 [00:00<00:00, 236229.31it/s]\n",
      "BPR-Fit: 100%|██████████| 188600/188600 [00:00<00:00, 235441.63it/s]\n",
      "BPR-Fit: 100%|██████████| 188600/188600 [00:00<00:00, 234468.26it/s]\n",
      "BPR-Fit: 100%|██████████| 188600/188600 [00:00<00:00, 234312.34it/s]\n",
      "BPR-Fit: 100%|██████████| 188600/188600 [00:00<00:00, 232121.03it/s]\n",
      "BPR-Fit: 100%|██████████| 188600/188600 [00:00<00:00, 234744.00it/s]\n",
      "BPR-Fit: 100%|██████████| 188600/188600 [00:00<00:00, 245697.05it/s]\n",
      "BPR-Fit: 100%|██████████| 188600/188600 [00:00<00:00, 239786.32it/s]\n",
      "BPR-Fit: 100%|██████████| 188600/188600 [00:00<00:00, 240630.18it/s]\n",
      "BPR-Fit: 100%|██████████| 188600/188600 [00:00<00:00, 242039.17it/s]\n",
      "BPR-Fit: 100%|██████████| 188600/188600 [00:00<00:00, 236737.27it/s]\n",
      "BPR-Fit: 100%|██████████| 188600/188600 [00:00<00:00, 245310.45it/s]\n",
      "BPR-Fit: 100%|██████████| 188600/188600 [00:00<00:00, 245752.92it/s]\n",
      "BPR-Fit: 100%|██████████| 188600/188600 [00:00<00:00, 254271.00it/s]\n",
      "BPR-Fit: 100%|██████████| 188600/188600 [00:00<00:00, 245720.02it/s]\n",
      "BPR-Fit: 100%|██████████| 188600/188600 [00:00<00:00, 242178.18it/s]\n",
      "BPR-Fit: 100%|██████████| 188600/188600 [00:00<00:00, 235628.25it/s]\n",
      "BPR-Fit: 100%|██████████| 188600/188600 [00:00<00:00, 230418.94it/s]\n",
      "BPR-Fit: 100%|██████████| 188600/188600 [00:00<00:00, 242022.51it/s]\n",
      "BPR-Fit: 100%|██████████| 188600/188600 [00:00<00:00, 253926.07it/s]\n",
      "BPR-Fit: 100%|██████████| 188600/188600 [00:00<00:00, 246015.69it/s]\n",
      "BPR-Fit: 100%|██████████| 188600/188600 [00:00<00:00, 239588.86it/s]\n",
      "BPR-Fit: 100%|██████████| 188600/188600 [00:00<00:00, 245610.85it/s]\n",
      "BPR-Fit: 100%|██████████| 188600/188600 [00:00<00:00, 245428.19it/s]\n",
      "BPR-Fit: 100%|██████████| 188600/188600 [00:00<00:00, 244731.53it/s]\n"
     ]
    }
   ],
   "source": [
    "metric_log_train = []\n",
    "metric_log_test = []\n",
    "for _ in range(100):\n",
    "    neg_sampler = partial(\n",
    "        uniform_negative_sampler, \n",
    "        uimat=mldata_pos.mat_train\n",
    "    )\n",
    "    results = bpr_fit(\n",
    "        bpr_obj=bpr1, \n",
    "        neg_sampler=neg_sampler, \n",
    "        ncores=104\n",
    "    )\n",
    "    mfunc = partial(\n",
    "        bpr1.get_metric_v1,\n",
    "        perc_active_users=0.99,\n",
    "        perc_active_items=0.99,\n",
    "        num_recs=20\n",
    "    )\n",
    "    metric_log_train.append(mfunc(uimat=mldata_pos.mat_train))\n",
    "    metric_log_test.append(mfunc(uimat=mldata_pos.mat_test))\n",
    "metric_log_train = np.asarray(metric_log_train)\n",
    "metric_log_test = np.asarray(metric_log_test)"
   ]
  },
  {
   "cell_type": "code",
   "execution_count": 9,
   "id": "2b946437",
   "metadata": {},
   "outputs": [
    {
     "data": {
      "image/png": "[encoded data removed]",
      "text/plain": [
       "<Figure size 1000x300 with 2 Axes>"
      ]
     },
     "metadata": {},
     "output_type": "display_data"
    }
   ],
   "source": [
    "xgrid = np.arange(0,metric_log_train.shape[0])\n",
    "\n",
    "fig, ax = plt.subplots(1, 2, figsize=(10,3))\n",
    "ax[0].plot(metric_log_train[:,1], '-b')\n",
    "ax[0].fill_between(xgrid, metric_log_train[:,0], metric_log_train[:,2], color='b', alpha=0.2, ec=None)\n",
    "ax[0].set_ylabel('Performance Metric (Training)')\n",
    "\n",
    "\n",
    "ax[1].plot(metric_log_test[:,1], '-b')\n",
    "ax[1].fill_between(xgrid, metric_log_test[:,0], metric_log_test[:,2], color='b', alpha=0.2, ec=None)\n",
    "ax[1].set_ylabel('Performance Metric (Test)')\n",
    "\n",
    "for iax in ax:\n",
    "    iax.grid(True)\n",
    "    iax.set_xlabel('BPR iterations')"
   ]
  },
  {
   "cell_type": "code",
   "execution_count": null,
   "id": "e35b4485-5e76-42d3-bc43-78ff34f428b0",
   "metadata": {},
   "outputs": [],
   "source": []
  },
  {
   "cell_type": "code",
   "execution_count": null,
   "id": "ed42cbe2-55a3-4e1d-ae28-f7f6cc0e3802",
   "metadata": {},
   "outputs": [],
   "source": []
  },
  {
   "cell_type": "code",
   "execution_count": null,
   "id": "aaaf3c50-ed01-4a07-a2cd-623ac17dbbf0",
   "metadata": {},
   "outputs": [],
   "source": []
  }
 ],
 "metadata": {
  "kernelspec": {
   "display_name": "bpr_env",
   "language": "python",
   "name": "bpr_env"
  },
  "language_info": {
   "codemirror_mode": {
    "name": "ipython",
    "version": 3
   },
   "file_extension": ".py",
   "mimetype": "text/x-python",
   "name": "python",
   "nbconvert_exporter": "python",
   "pygments_lexer": "ipython3",
   "version": "3.12.1"
  }
 },
 "nbformat": 4,
 "nbformat_minor": 5
}
