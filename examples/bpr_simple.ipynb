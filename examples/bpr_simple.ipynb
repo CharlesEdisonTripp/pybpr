{
 "cells": [
  {
   "cell_type": "markdown",
   "id": "1971f6cf",
   "metadata": {},
   "source": [
    "## BPR simple"
   ]
  },
  {
   "cell_type": "code",
   "execution_count": 1,
   "id": "6985b0da",
   "metadata": {},
   "outputs": [],
   "source": [
    "#%load_ext watermark\n",
    "%load_ext autoreload \n",
    "%autoreload 2"
   ]
  },
  {
   "cell_type": "code",
   "execution_count": 3,
   "id": "6f571098",
   "metadata": {},
   "outputs": [],
   "source": [
    "import os\n",
    "import sys\n",
    "import numpy as np\n",
    "import pandas as pd\n",
    "import scipy as sp\n",
    "from subprocess import call\n",
    "from bpr import *\n",
    "# from bpr_module import *\n",
    "# from cfbase import *\n",
    "# from als import *\n",
    "import matplotlib.pyplot as plt"
   ]
  },
  {
   "cell_type": "code",
   "execution_count": 4,
   "id": "dc81cb5d",
   "metadata": {},
   "outputs": [],
   "source": [
    "cf = CFBase(\n",
    "    users = [1, 1, 1, 2, 2, 2, 3, 3, 4, 4],\n",
    "    items = [1, 2, 3, 4, 5, 6, 1, 2, 4, 5]\n",
    ")\n",
    "cf.generate_train_test(test_ratio=0.0)"
   ]
  },
  {
   "cell_type": "code",
   "execution_count": 5,
   "id": "ee88a5d5",
   "metadata": {},
   "outputs": [],
   "source": [
    "als = ALS(\n",
    "    num_iters = 10,\n",
    "    num_features = 3,\n",
    "    num_users = cf.R.shape[0],\n",
    "    num_items = cf.R.shape[1],\n",
    "    reg_lambda=0.\n",
    ")"
   ]
  },
  {
   "cell_type": "code",
   "execution_count": null,
   "id": "dbb0e83e",
   "metadata": {},
   "outputs": [],
   "source": [
    "als.fit(cf.R)"
   ]
  },
  {
   "cell_type": "code",
   "execution_count": null,
   "id": "a90f26b7",
   "metadata": {},
   "outputs": [],
   "source": [
    "fig, ax = plt.subplots(figsize=(6,3))\n",
    "ax.plot(als.train_mse_record)"
   ]
  },
  {
   "cell_type": "code",
   "execution_count": null,
   "id": "38e0615f",
   "metadata": {},
   "outputs": [],
   "source": [
    "np.around(als.predict(),0)"
   ]
  },
  {
   "cell_type": "code",
   "execution_count": null,
   "id": "408ff5f2",
   "metadata": {},
   "outputs": [],
   "source": [
    "cf.R.toarray()"
   ]
  },
  {
   "cell_type": "code",
   "execution_count": null,
   "id": "78531af3",
   "metadata": {},
   "outputs": [],
   "source": [
    "als.U"
   ]
  },
  {
   "cell_type": "code",
   "execution_count": null,
   "id": "4a3d5f2f",
   "metadata": {},
   "outputs": [],
   "source": [
    "cf.R_train.todense()"
   ]
  },
  {
   "cell_type": "code",
   "execution_count": null,
   "id": "c4f9c0ff",
   "metadata": {},
   "outputs": [],
   "source": [
    "cf.R.todense()"
   ]
  },
  {
   "cell_type": "code",
   "execution_count": null,
   "id": "c42536b0",
   "metadata": {},
   "outputs": [],
   "source": [
    "print(cf)"
   ]
  },
  {
   "cell_type": "code",
   "execution_count": null,
   "id": "c27fa398",
   "metadata": {},
   "outputs": [],
   "source": [
    "# user 1 and 2 no shared interactions\n",
    "# user 3 has some overlap with user 1\n",
    "# user 4 has some overlap with user 2\n",
    "# viewed and clicked = 1\n",
    "# viewed and not clicked = -1\n",
    "# add veiwed and click (positive), viewed and not click (negative),\n",
    "# learning only uses one pair at a time\n",
    "df = pd.DataFrame({\n",
    "    'UserID':      [1, 1, 1, 2, 2, 2, 3, 3, 4, 4], \n",
    "    'ProductID':   [1, 2, 3, 4, 5, 6, 1, 2, 4, 5],\n",
    "    'Interaction': [1,-1, 1, 1,-1, 1, 1,-1, 1,-1]\n",
    "    #'Interaction': [1, 1, 1, 1, 1, 1, 1, 1, 1, 1]\n",
    "})\n",
    "df"
   ]
  },
  {
   "cell_type": "code",
   "execution_count": null,
   "id": "deae4b8d",
   "metadata": {},
   "outputs": [],
   "source": []
  },
  {
   "cell_type": "code",
   "execution_count": null,
   "id": "11bf0dbe",
   "metadata": {},
   "outputs": [],
   "source": [
    "X, df_new = create_simple_matrix(df, 'UserID', 'ProductID', 'Interaction')\n",
    "df_new"
   ]
  },
  {
   "cell_type": "code",
   "execution_count": null,
   "id": "0611d936",
   "metadata": {},
   "outputs": [],
   "source": [
    "X.todense()"
   ]
  },
  {
   "cell_type": "code",
   "execution_count": null,
   "id": "b9a75587",
   "metadata": {},
   "outputs": [],
   "source": [
    "X_train, X_test = create_train_test(X, test_size = 0.01, seed = 1234)\n",
    "#X_train.todense()"
   ]
  },
  {
   "cell_type": "code",
   "execution_count": null,
   "id": "ff6b19a7",
   "metadata": {},
   "outputs": [],
   "source": [
    "indptr = X.indptr\n",
    "indices = X.indices\n",
    "indptr, indices"
   ]
  },
  {
   "cell_type": "code",
   "execution_count": null,
   "id": "7c8c0b92",
   "metadata": {},
   "outputs": [],
   "source": [
    "n_users, n_items = X.shape\n",
    "n_users, n_items"
   ]
  },
  {
   "cell_type": "code",
   "execution_count": null,
   "id": "d4a93669",
   "metadata": {},
   "outputs": [],
   "source": [
    "bpr_params = {\n",
    "    'reg': 0.1,\n",
    "    'learning_rate': 0.1,\n",
    "    'n_iters': 500,\n",
    "    'n_factors': 5,\n",
    "    'batch_size': 1\n",
    "}"
   ]
  },
  {
   "cell_type": "code",
   "execution_count": null,
   "id": "9c5d6672",
   "metadata": {},
   "outputs": [],
   "source": [
    "batch_iters = n_users//bpr_params['batch_size']\n",
    "batch_iters"
   ]
  },
  {
   "cell_type": "code",
   "execution_count": null,
   "id": "1a5d4592",
   "metadata": {},
   "outputs": [],
   "source": [
    "rstate = np.random.RandomState(1234)\n",
    "user_factors = np.around(rstate.normal(size=(n_users, bpr_params['n_factors'])),2)\n",
    "item_factors = np.around(rstate.normal(size=(n_items, bpr_params['n_factors'])),2)\n",
    "user_factors, item_factors"
   ]
  },
  {
   "cell_type": "code",
   "execution_count": null,
   "id": "664049ab",
   "metadata": {},
   "outputs": [],
   "source": [
    "X_start = user_factors @ item_factors.T\n",
    "X_start"
   ]
  },
  {
   "cell_type": "code",
   "execution_count": null,
   "id": "64578952",
   "metadata": {},
   "outputs": [],
   "source": [
    "batch_size = bpr_params['batch_size']\n",
    "sampled_pos_items = np.zeros(batch_size, dtype=int)\n",
    "sampled_users = np.random.choice(n_users, size=batch_size, replace=False)\n",
    "sampled_pos_items, sampled_users"
   ]
  },
  {
   "cell_type": "code",
   "execution_count": null,
   "id": "7dccec33",
   "metadata": {},
   "outputs": [],
   "source": [
    "X.todense()"
   ]
  },
  {
   "cell_type": "code",
   "execution_count": null,
   "id": "3a3f1000",
   "metadata": {},
   "outputs": [],
   "source": [
    "for idx, user in enumerate(sampled_users):\n",
    "    pos_items = indices[indptr[user]:indptr[user + 1]]\n",
    "    print(user, pos_items)"
   ]
  },
  {
   "cell_type": "code",
   "execution_count": null,
   "id": "20238b11",
   "metadata": {},
   "outputs": [],
   "source": [
    "def sample(n_users, n_items, indices, indptr, batch_size):\n",
    "    \"\"\"sample batches of random triplets u, i, j\"\"\"\n",
    "    sampled_pos_items = np.zeros(batch_size, dtype=int)\n",
    "    sampled_neg_items = np.zeros(batch_size, dtype=int)\n",
    "    sampled_users = np.random.choice(n_users, size=batch_size, replace=False)\n",
    "    for idx, user in enumerate(sampled_users):\n",
    "        pos_items = indices[indptr[user]:indptr[user + 1]]\n",
    "        pos_item = np.random.choice(pos_items)\n",
    "        neg_item = np.random.choice(n_items)\n",
    "        while neg_item in pos_items:\n",
    "            neg_item = np.random.choice(n_items)\n",
    "        sampled_pos_items[idx] = pos_item\n",
    "        sampled_neg_items[idx] = neg_item\n",
    "    return sampled_users, sampled_pos_items, sampled_neg_items"
   ]
  },
  {
   "cell_type": "code",
   "execution_count": null,
   "id": "b3fe599b",
   "metadata": {},
   "outputs": [],
   "source": [
    "sample(4, 6, indices, indptr, batch_size)"
   ]
  },
  {
   "cell_type": "code",
   "execution_count": null,
   "id": "8ce00747",
   "metadata": {},
   "outputs": [],
   "source": [
    "np.zeros(1, dtype=int)"
   ]
  },
  {
   "cell_type": "code",
   "execution_count": null,
   "id": "780e5622",
   "metadata": {},
   "outputs": [],
   "source": [
    "for i in range(bpr_params['n_iters']):\n",
    "    print(f'\\n::::Iter-{i}')\n",
    "    for j in range(batch_iters):\n",
    "        print('SG-Batch-{j}')\n",
    "        sampled = sample(n_users=n_users, n_items=n_items, indices=indices, indptr=indptr,\n",
    "                         batch_size=bpr_params['batch_size'])\n",
    "        sampled_users, sampled_pos_items, sampled_neg_items = sampled\n",
    "        sampled_tuple = zip(sampled_users,sampled_pos_items, sampled_neg_items)\n",
    "        user_u = user_factors[sampled_users]\n",
    "        item_i = item_factors[sampled_pos_items]\n",
    "        item_j = item_factors[sampled_neg_items]\n",
    "        #print('User_matrix:\\n', user_u)\n",
    "        r_ui = np.diag(user_u.dot(item_i.T))\n",
    "        r_uj = np.diag(user_u.dot(item_j.T))\n",
    "        r_uij = r_ui - r_uj\n",
    "        sigmoid = np.exp(-r_uij) / (1.0 + np.exp(-r_uij))\n",
    "        for ixy, ixx in enumerate([(ix+1, iy+1, iz+1) for ix, iy, iz in sampled_tuple]):\n",
    "            print(ixx, np.around(r_ui[ixy],2), np.around(r_uj[ixy],2), np.around(sigmoid[ixy],2))\n",
    "        sigmoid_tiled = np.tile(sigmoid, (bpr_params['n_factors'], 1)).T\n",
    "        #print(r_ui, r_uj, r_uij, sigmoid)\n",
    "        grad_u = sigmoid_tiled * (item_j - item_i) + bpr_params['reg'] * user_u\n",
    "        #grad_u = sigmoid_tiled * (0. - item_i) + bpr_params['reg'] * user_u\n",
    "        grad_i = sigmoid_tiled * -user_u + bpr_params['reg'] * item_i\n",
    "        grad_j = sigmoid_tiled * user_u + bpr_params['reg'] * item_j\n",
    "        user_factors[sampled_users] -= bpr_params['learning_rate'] * grad_u\n",
    "        item_factors[sampled_pos_items] -= bpr_params['learning_rate'] * grad_i\n",
    "        #item_factors[sampled_neg_items] -= bpr_params['learning_rate'] * grad_j\n",
    "#         self._update(sampled_users, sampled_pos_items,\n",
    "#                      sampled_neg_items)"
   ]
  },
  {
   "cell_type": "code",
   "execution_count": null,
   "id": "073ca69c",
   "metadata": {},
   "outputs": [],
   "source": [
    "np.around(user_factors,2)"
   ]
  },
  {
   "cell_type": "code",
   "execution_count": null,
   "id": "62a7388f",
   "metadata": {},
   "outputs": [],
   "source": [
    "np.around(item_factors,2)"
   ]
  },
  {
   "cell_type": "code",
   "execution_count": null,
   "id": "55d306b3",
   "metadata": {},
   "outputs": [],
   "source": [
    "this_user = 1\n",
    "clicked_by_this_user = set(X[this_user].indices)\n",
    "scores = user_factors[this_user].dot(item_factors.T)\n",
    "np.around(scores,2)"
   ]
  },
  {
   "cell_type": "code",
   "execution_count": null,
   "id": "be54fc0d",
   "metadata": {},
   "outputs": [],
   "source": [
    "X.todense()"
   ]
  },
  {
   "cell_type": "code",
   "execution_count": null,
   "id": "e92a4270",
   "metadata": {},
   "outputs": [],
   "source": []
  }
 ],
 "metadata": {
  "kernelspec": {
   "display_name": "bpr_env",
   "language": "python",
   "name": "bpr_env"
  },
  "language_info": {
   "codemirror_mode": {
    "name": "ipython",
    "version": 3
   },
   "file_extension": ".py",
   "mimetype": "text/x-python",
   "name": "python",
   "nbconvert_exporter": "python",
   "pygments_lexer": "ipython3",
   "version": "3.10.6"
  }
 },
 "nbformat": 4,
 "nbformat_minor": 5
}
