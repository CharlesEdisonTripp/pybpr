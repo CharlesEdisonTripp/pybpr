{
 "cells": [
  {
   "cell_type": "markdown",
   "id": "1971f6cf",
   "metadata": {},
   "source": [
    "## wALS example"
   ]
  },
  {
   "cell_type": "code",
   "execution_count": 26,
   "id": "6985b0da",
   "metadata": {},
   "outputs": [
    {
     "name": "stdout",
     "output_type": "stream",
     "text": [
      "The autoreload extension is already loaded. To reload it, use:\n",
      "  %reload_ext autoreload\n"
     ]
    }
   ],
   "source": [
    "#%load_ext watermark\n",
    "%load_ext autoreload \n",
    "%autoreload 2"
   ]
  },
  {
   "cell_type": "code",
   "execution_count": 27,
   "id": "6f571098",
   "metadata": {},
   "outputs": [],
   "source": [
    "import os\n",
    "import sys\n",
    "import numpy as np\n",
    "import pandas as pd\n",
    "import scipy as sp\n",
    "from subprocess import call\n",
    "from pybpr import *\n",
    "import matplotlib.pyplot as plt"
   ]
  },
  {
   "cell_type": "code",
   "execution_count": 28,
   "id": "dc81cb5d",
   "metadata": {},
   "outputs": [],
   "source": [
    "cf = cf_basic\n",
    "cf.generate_train_test(\n",
    "    user_test_ratio=0.25,\n",
    "    min_item_interactions=2\n",
    ")"
   ]
  },
  {
   "cell_type": "code",
   "execution_count": 29,
   "id": "093074d8",
   "metadata": {},
   "outputs": [
    {
     "data": {
      "text/plain": [
       "array([[1, 0, 1, 0, 1, 0, 0, 0, 0, 0],\n",
       "       [1, 1, 1, 0, 0, 0, 0, 0, 0, 0],\n",
       "       [0, 0, 1, 1, 1, 0, 0, 0, 0, 0],\n",
       "       [0, 1, 0, 1, 0, 0, 0, 0, 0, 0],\n",
       "       [0, 0, 0, 0, 0, 1, 1, 0, 0, 1],\n",
       "       [0, 0, 0, 0, 0, 1, 1, 0, 1, 0],\n",
       "       [0, 0, 0, 0, 0, 0, 0, 1, 1, 1],\n",
       "       [0, 0, 0, 0, 0, 0, 0, 1, 1, 0]], dtype=int8)"
      ]
     },
     "execution_count": 29,
     "metadata": {},
     "output_type": "execute_result"
    }
   ],
   "source": [
    "cf.R_train.toarray()"
   ]
  },
  {
   "cell_type": "code",
   "execution_count": 30,
   "id": "cdb23836",
   "metadata": {},
   "outputs": [
    {
     "data": {
      "text/plain": [
       "array([[0, 1, 0, 1, 0, 0, 0, 0, 0, 0],\n",
       "       [0, 0, 0, 1, 0, 0, 0, 0, 0, 0],\n",
       "       [0, 1, 0, 0, 0, 0, 0, 0, 0, 0],\n",
       "       [0, 0, 1, 0, 0, 0, 0, 0, 0, 0],\n",
       "       [0, 0, 0, 0, 0, 0, 0, 1, 1, 0],\n",
       "       [0, 0, 0, 0, 0, 0, 0, 1, 0, 0],\n",
       "       [0, 0, 0, 0, 0, 0, 1, 0, 0, 0],\n",
       "       [0, 0, 0, 0, 0, 0, 1, 0, 0, 0]], dtype=int8)"
      ]
     },
     "execution_count": 30,
     "metadata": {},
     "output_type": "execute_result"
    }
   ],
   "source": [
    "cf.R_test.toarray()"
   ]
  },
  {
   "cell_type": "code",
   "execution_count": 33,
   "id": "ee88a5d5",
   "metadata": {},
   "outputs": [
    {
     "name": "stdout",
     "output_type": "stream",
     "text": [
      "(8, 10)\n",
      "user (8, 10)\n",
      "0\n",
      "(1, 10) (10, 10) (10, 2)\n",
      "(8, 2)\n",
      "1\n",
      "(1, 10) (10, 10) (10, 2)\n",
      "(8, 2)\n",
      "2\n",
      "(1, 10) (10, 10) (10, 2)\n",
      "(8, 2)\n",
      "3\n",
      "(1, 10) (10, 10) (10, 2)\n",
      "(8, 2)\n",
      "4\n",
      "(1, 10) (10, 10) (10, 2)\n",
      "(8, 2)\n",
      "5\n",
      "(1, 10) (10, 10) (10, 2)\n",
      "(8, 2)\n",
      "6\n",
      "(1, 10) (10, 10) (10, 2)\n",
      "(8, 2)\n",
      "7\n",
      "(1, 10) (10, 10) (10, 2)\n",
      "(8, 2)\n",
      "item (10, 8)\n",
      "0\n",
      "(1, 8) (8, 8) (8, 2)\n",
      "(10, 2)\n",
      "1\n",
      "(1, 8) (8, 8) (8, 2)\n",
      "(10, 2)\n",
      "2\n",
      "(1, 8) (8, 8) (8, 2)\n",
      "(10, 2)\n",
      "3\n",
      "(1, 8) (8, 8) (8, 2)\n",
      "(10, 2)\n",
      "4\n",
      "(1, 8) (8, 8) (8, 2)\n",
      "(10, 2)\n",
      "5\n",
      "(1, 8) (8, 8) (8, 2)\n",
      "(10, 2)\n",
      "6\n",
      "(1, 8) (8, 8) (8, 2)\n",
      "(10, 2)\n",
      "7\n",
      "(1, 8) (8, 8) (8, 2)\n",
      "(10, 2)\n",
      "8\n",
      "(1, 8) (8, 8) (8, 2)\n",
      "(10, 2)\n",
      "9\n",
      "(1, 8) (8, 8) (8, 2)\n",
      "(10, 2)\n",
      "user (8, 10)\n",
      "0\n",
      "(1, 10) (10, 10) (10, 2)\n",
      "(8, 2)\n",
      "1\n",
      "(1, 10) (10, 10) (10, 2)\n",
      "(8, 2)\n",
      "2\n",
      "(1, 10) (10, 10) (10, 2)\n",
      "(8, 2)\n",
      "3\n",
      "(1, 10) (10, 10) (10, 2)\n",
      "(8, 2)\n",
      "4\n",
      "(1, 10) (10, 10) (10, 2)\n",
      "(8, 2)\n",
      "5\n",
      "(1, 10) (10, 10) (10, 2)\n",
      "(8, 2)\n",
      "6\n",
      "(1, 10) (10, 10) (10, 2)\n",
      "(8, 2)\n",
      "7\n",
      "(1, 10) (10, 10) (10, 2)\n",
      "(8, 2)\n",
      "item (10, 8)\n",
      "0\n",
      "(1, 8) (8, 8) (8, 2)\n",
      "(10, 2)\n",
      "1\n",
      "(1, 8) (8, 8) (8, 2)\n",
      "(10, 2)\n",
      "2\n",
      "(1, 8) (8, 8) (8, 2)\n",
      "(10, 2)\n",
      "3\n",
      "(1, 8) (8, 8) (8, 2)\n",
      "(10, 2)\n",
      "4\n",
      "(1, 8) (8, 8) (8, 2)\n",
      "(10, 2)\n",
      "5\n",
      "(1, 8) (8, 8) (8, 2)\n",
      "(10, 2)\n",
      "6\n",
      "(1, 8) (8, 8) (8, 2)\n",
      "(10, 2)\n",
      "7\n",
      "(1, 8) (8, 8) (8, 2)\n",
      "(10, 2)\n",
      "8\n",
      "(1, 8) (8, 8) (8, 2)\n",
      "(10, 2)\n",
      "9\n",
      "(1, 8) (8, 8) (8, 2)\n",
      "(10, 2)\n",
      "user (8, 10)\n",
      "0\n",
      "(1, 10) (10, 10) (10, 2)\n",
      "(8, 2)\n",
      "1\n",
      "(1, 10) (10, 10) (10, 2)\n",
      "(8, 2)\n",
      "2\n",
      "(1, 10) (10, 10) (10, 2)\n",
      "(8, 2)\n",
      "3\n",
      "(1, 10) (10, 10) (10, 2)\n",
      "(8, 2)\n",
      "4\n",
      "(1, 10) (10, 10) (10, 2)\n",
      "(8, 2)\n",
      "5\n",
      "(1, 10) (10, 10) (10, 2)\n",
      "(8, 2)\n",
      "6\n",
      "(1, 10) (10, 10) (10, 2)\n",
      "(8, 2)\n",
      "7\n",
      "(1, 10) (10, 10) (10, 2)\n",
      "(8, 2)\n",
      "item (10, 8)\n",
      "0\n",
      "(1, 8) (8, 8) (8, 2)\n",
      "(10, 2)\n",
      "1\n",
      "(1, 8) (8, 8) (8, 2)\n",
      "(10, 2)\n",
      "2\n",
      "(1, 8) (8, 8) (8, 2)\n",
      "(10, 2)\n",
      "3\n",
      "(1, 8) (8, 8) (8, 2)\n",
      "(10, 2)\n",
      "4\n",
      "(1, 8) (8, 8) (8, 2)\n",
      "(10, 2)\n",
      "5\n",
      "(1, 8) (8, 8) (8, 2)\n",
      "(10, 2)\n",
      "6\n",
      "(1, 8) (8, 8) (8, 2)\n",
      "(10, 2)\n",
      "7\n",
      "(1, 8) (8, 8) (8, 2)\n",
      "(10, 2)\n",
      "8\n",
      "(1, 8) (8, 8) (8, 2)\n",
      "(10, 2)\n",
      "9\n",
      "(1, 8) (8, 8) (8, 2)\n",
      "(10, 2)\n"
     ]
    },
    {
     "name": "stderr",
     "output_type": "stream",
     "text": [
      "/lustre/eaglefs/projects/zazzle/rsandhu/pybpr/pybpr/als.py:158: RuntimeWarning: overflow encountered in matmul\n",
      "  Amat[i, :] = Amat[i, :] @ (Mfixed.T @ Wtilde @\n"
     ]
    },
    {
     "ename": "ValueError",
     "evalue": "Input contains infinity or a value too large for dtype('float64').",
     "output_type": "error",
     "traceback": [
      "\u001b[0;31m---------------------------------------------------------------------------\u001b[0m",
      "\u001b[0;31mValueError\u001b[0m                                Traceback (most recent call last)",
      "Input \u001b[0;32mIn [33]\u001b[0m, in \u001b[0;36m<cell line: 7>\u001b[0;34m()\u001b[0m\n\u001b[1;32m      1\u001b[0m als \u001b[38;5;241m=\u001b[39m WALS(\n\u001b[1;32m      2\u001b[0m     num_features \u001b[38;5;241m=\u001b[39m \u001b[38;5;241m2\u001b[39m,\n\u001b[1;32m      3\u001b[0m     num_users \u001b[38;5;241m=\u001b[39m cf\u001b[38;5;241m.\u001b[39mR\u001b[38;5;241m.\u001b[39mshape[\u001b[38;5;241m0\u001b[39m],\n\u001b[1;32m      4\u001b[0m     num_items \u001b[38;5;241m=\u001b[39m cf\u001b[38;5;241m.\u001b[39mR\u001b[38;5;241m.\u001b[39mshape[\u001b[38;5;241m1\u001b[39m],\n\u001b[1;32m      5\u001b[0m     reg_lambda\u001b[38;5;241m=\u001b[39m\u001b[38;5;241m0.00\u001b[39m\n\u001b[1;32m      6\u001b[0m )\n\u001b[0;32m----> 7\u001b[0m \u001b[43mals\u001b[49m\u001b[38;5;241;43m.\u001b[39;49m\u001b[43mfit\u001b[49m\u001b[43m(\u001b[49m\u001b[43mcf\u001b[49m\u001b[38;5;241;43m.\u001b[39;49m\u001b[43mR_train\u001b[49m\u001b[43m,\u001b[49m\u001b[43m \u001b[49m\u001b[43mcf\u001b[49m\u001b[38;5;241;43m.\u001b[39;49m\u001b[43mR_test\u001b[49m\u001b[43m,\u001b[49m\u001b[43m \u001b[49m\u001b[43mnum_iters\u001b[49m\u001b[38;5;241;43m=\u001b[39;49m\u001b[38;5;241;43m10\u001b[39;49m\u001b[43m)\u001b[49m\n",
      "File \u001b[0;32m/lustre/eaglefs/projects/zazzle/rsandhu/pybpr/pybpr/als.py:143\u001b[0m, in \u001b[0;36mWALS.fit\u001b[0;34m(self, R_train, R_test, W, num_iters, store_mse, seed)\u001b[0m\n\u001b[1;32m    141\u001b[0m \u001b[38;5;28mself\u001b[39m\u001b[38;5;241m.\u001b[39muser_item_mat \u001b[38;5;241m=\u001b[39m \u001b[38;5;28mself\u001b[39m\u001b[38;5;241m.\u001b[39muser_mat\u001b[38;5;241m.\u001b[39mdot(\u001b[38;5;28mself\u001b[39m\u001b[38;5;241m.\u001b[39mitem_mat\u001b[38;5;241m.\u001b[39mT)\n\u001b[1;32m    142\u001b[0m \u001b[38;5;28;01mif\u001b[39;00m store_mse:\n\u001b[0;32m--> 143\u001b[0m     \u001b[38;5;28mself\u001b[39m\u001b[38;5;241m.\u001b[39mtrain_mse\u001b[38;5;241m.\u001b[39mappend(\u001b[43mcompute_mse\u001b[49m\u001b[43m(\u001b[49m\u001b[43mR_train\u001b[49m\u001b[43m,\u001b[49m\u001b[43m \u001b[49m\u001b[38;5;28;43mself\u001b[39;49m\u001b[38;5;241;43m.\u001b[39;49m\u001b[43muser_item_mat\u001b[49m\u001b[43m)\u001b[49m)\n\u001b[1;32m    144\u001b[0m     \u001b[38;5;28;01mif\u001b[39;00m R_test \u001b[38;5;129;01mis\u001b[39;00m \u001b[38;5;129;01mnot\u001b[39;00m \u001b[38;5;28;01mNone\u001b[39;00m:\n\u001b[1;32m    145\u001b[0m         \u001b[38;5;28mself\u001b[39m\u001b[38;5;241m.\u001b[39mtest_mse\u001b[38;5;241m.\u001b[39mappend(compute_mse(\n\u001b[1;32m    146\u001b[0m             R_test, \u001b[38;5;28mself\u001b[39m\u001b[38;5;241m.\u001b[39muser_item_mat))\n",
      "File \u001b[0;32m/lustre/eaglefs/projects/zazzle/rsandhu/pybpr/pybpr/utils.py:12\u001b[0m, in \u001b[0;36mcompute_mse\u001b[0;34m(y_true, y_pred)\u001b[0m\n\u001b[1;32m     10\u001b[0m mask \u001b[38;5;241m=\u001b[39m np\u001b[38;5;241m.\u001b[39mnonzero(y_true)\n\u001b[1;32m     11\u001b[0m \u001b[38;5;28;01massert\u001b[39;00m mask[\u001b[38;5;241m0\u001b[39m]\u001b[38;5;241m.\u001b[39mshape[\u001b[38;5;241m0\u001b[39m] \u001b[38;5;241m>\u001b[39m \u001b[38;5;241m0\u001b[39m, \u001b[38;5;124m'\u001b[39m\u001b[38;5;124mTruth matrix empty\u001b[39m\u001b[38;5;124m'\u001b[39m\n\u001b[0;32m---> 12\u001b[0m mse \u001b[38;5;241m=\u001b[39m \u001b[43mmean_squared_error\u001b[49m\u001b[43m(\u001b[49m\u001b[43mnp\u001b[49m\u001b[38;5;241;43m.\u001b[39;49m\u001b[43marray\u001b[49m\u001b[43m(\u001b[49m\u001b[43my_true\u001b[49m\u001b[43m[\u001b[49m\u001b[43mmask\u001b[49m\u001b[43m]\u001b[49m\u001b[43m)\u001b[49m\u001b[38;5;241;43m.\u001b[39;49m\u001b[43mravel\u001b[49m\u001b[43m(\u001b[49m\u001b[43m)\u001b[49m\u001b[43m,\u001b[49m\u001b[43m \u001b[49m\u001b[43my_pred\u001b[49m\u001b[43m[\u001b[49m\u001b[43mmask\u001b[49m\u001b[43m]\u001b[49m\u001b[43m)\u001b[49m\n\u001b[1;32m     13\u001b[0m \u001b[38;5;28;01mreturn\u001b[39;00m mse\n",
      "File \u001b[0;32m~/.conda/envs/bpr_env/lib/python3.10/site-packages/sklearn/metrics/_regression.py:442\u001b[0m, in \u001b[0;36mmean_squared_error\u001b[0;34m(y_true, y_pred, sample_weight, multioutput, squared)\u001b[0m\n\u001b[1;32m    382\u001b[0m \u001b[38;5;28;01mdef\u001b[39;00m \u001b[38;5;21mmean_squared_error\u001b[39m(\n\u001b[1;32m    383\u001b[0m     y_true, y_pred, \u001b[38;5;241m*\u001b[39m, sample_weight\u001b[38;5;241m=\u001b[39m\u001b[38;5;28;01mNone\u001b[39;00m, multioutput\u001b[38;5;241m=\u001b[39m\u001b[38;5;124m\"\u001b[39m\u001b[38;5;124muniform_average\u001b[39m\u001b[38;5;124m\"\u001b[39m, squared\u001b[38;5;241m=\u001b[39m\u001b[38;5;28;01mTrue\u001b[39;00m\n\u001b[1;32m    384\u001b[0m ):\n\u001b[1;32m    385\u001b[0m     \u001b[38;5;124;03m\"\"\"Mean squared error regression loss.\u001b[39;00m\n\u001b[1;32m    386\u001b[0m \n\u001b[1;32m    387\u001b[0m \u001b[38;5;124;03m    Read more in the :ref:`User Guide <mean_squared_error>`.\u001b[39;00m\n\u001b[0;32m   (...)\u001b[0m\n\u001b[1;32m    440\u001b[0m \u001b[38;5;124;03m    0.825...\u001b[39;00m\n\u001b[1;32m    441\u001b[0m \u001b[38;5;124;03m    \"\"\"\u001b[39;00m\n\u001b[0;32m--> 442\u001b[0m     y_type, y_true, y_pred, multioutput \u001b[38;5;241m=\u001b[39m \u001b[43m_check_reg_targets\u001b[49m\u001b[43m(\u001b[49m\n\u001b[1;32m    443\u001b[0m \u001b[43m        \u001b[49m\u001b[43my_true\u001b[49m\u001b[43m,\u001b[49m\u001b[43m \u001b[49m\u001b[43my_pred\u001b[49m\u001b[43m,\u001b[49m\u001b[43m \u001b[49m\u001b[43mmultioutput\u001b[49m\n\u001b[1;32m    444\u001b[0m \u001b[43m    \u001b[49m\u001b[43m)\u001b[49m\n\u001b[1;32m    445\u001b[0m     check_consistent_length(y_true, y_pred, sample_weight)\n\u001b[1;32m    446\u001b[0m     output_errors \u001b[38;5;241m=\u001b[39m np\u001b[38;5;241m.\u001b[39maverage((y_true \u001b[38;5;241m-\u001b[39m y_pred) \u001b[38;5;241m*\u001b[39m\u001b[38;5;241m*\u001b[39m \u001b[38;5;241m2\u001b[39m, axis\u001b[38;5;241m=\u001b[39m\u001b[38;5;241m0\u001b[39m, weights\u001b[38;5;241m=\u001b[39msample_weight)\n",
      "File \u001b[0;32m~/.conda/envs/bpr_env/lib/python3.10/site-packages/sklearn/metrics/_regression.py:102\u001b[0m, in \u001b[0;36m_check_reg_targets\u001b[0;34m(y_true, y_pred, multioutput, dtype)\u001b[0m\n\u001b[1;32m    100\u001b[0m check_consistent_length(y_true, y_pred)\n\u001b[1;32m    101\u001b[0m y_true \u001b[38;5;241m=\u001b[39m check_array(y_true, ensure_2d\u001b[38;5;241m=\u001b[39m\u001b[38;5;28;01mFalse\u001b[39;00m, dtype\u001b[38;5;241m=\u001b[39mdtype)\n\u001b[0;32m--> 102\u001b[0m y_pred \u001b[38;5;241m=\u001b[39m \u001b[43mcheck_array\u001b[49m\u001b[43m(\u001b[49m\u001b[43my_pred\u001b[49m\u001b[43m,\u001b[49m\u001b[43m \u001b[49m\u001b[43mensure_2d\u001b[49m\u001b[38;5;241;43m=\u001b[39;49m\u001b[38;5;28;43;01mFalse\u001b[39;49;00m\u001b[43m,\u001b[49m\u001b[43m \u001b[49m\u001b[43mdtype\u001b[49m\u001b[38;5;241;43m=\u001b[39;49m\u001b[43mdtype\u001b[49m\u001b[43m)\u001b[49m\n\u001b[1;32m    104\u001b[0m \u001b[38;5;28;01mif\u001b[39;00m y_true\u001b[38;5;241m.\u001b[39mndim \u001b[38;5;241m==\u001b[39m \u001b[38;5;241m1\u001b[39m:\n\u001b[1;32m    105\u001b[0m     y_true \u001b[38;5;241m=\u001b[39m y_true\u001b[38;5;241m.\u001b[39mreshape((\u001b[38;5;241m-\u001b[39m\u001b[38;5;241m1\u001b[39m, \u001b[38;5;241m1\u001b[39m))\n",
      "File \u001b[0;32m~/.conda/envs/bpr_env/lib/python3.10/site-packages/sklearn/utils/validation.py:899\u001b[0m, in \u001b[0;36mcheck_array\u001b[0;34m(array, accept_sparse, accept_large_sparse, dtype, order, copy, force_all_finite, ensure_2d, allow_nd, ensure_min_samples, ensure_min_features, estimator, input_name)\u001b[0m\n\u001b[1;32m    893\u001b[0m         \u001b[38;5;28;01mraise\u001b[39;00m \u001b[38;5;167;01mValueError\u001b[39;00m(\n\u001b[1;32m    894\u001b[0m             \u001b[38;5;124m\"\u001b[39m\u001b[38;5;124mFound array with dim \u001b[39m\u001b[38;5;132;01m%d\u001b[39;00m\u001b[38;5;124m. \u001b[39m\u001b[38;5;132;01m%s\u001b[39;00m\u001b[38;5;124m expected <= 2.\u001b[39m\u001b[38;5;124m\"\u001b[39m\n\u001b[1;32m    895\u001b[0m             \u001b[38;5;241m%\u001b[39m (array\u001b[38;5;241m.\u001b[39mndim, estimator_name)\n\u001b[1;32m    896\u001b[0m         )\n\u001b[1;32m    898\u001b[0m     \u001b[38;5;28;01mif\u001b[39;00m force_all_finite:\n\u001b[0;32m--> 899\u001b[0m         \u001b[43m_assert_all_finite\u001b[49m\u001b[43m(\u001b[49m\n\u001b[1;32m    900\u001b[0m \u001b[43m            \u001b[49m\u001b[43marray\u001b[49m\u001b[43m,\u001b[49m\n\u001b[1;32m    901\u001b[0m \u001b[43m            \u001b[49m\u001b[43minput_name\u001b[49m\u001b[38;5;241;43m=\u001b[39;49m\u001b[43minput_name\u001b[49m\u001b[43m,\u001b[49m\n\u001b[1;32m    902\u001b[0m \u001b[43m            \u001b[49m\u001b[43mestimator_name\u001b[49m\u001b[38;5;241;43m=\u001b[39;49m\u001b[43mestimator_name\u001b[49m\u001b[43m,\u001b[49m\n\u001b[1;32m    903\u001b[0m \u001b[43m            \u001b[49m\u001b[43mallow_nan\u001b[49m\u001b[38;5;241;43m=\u001b[39;49m\u001b[43mforce_all_finite\u001b[49m\u001b[43m \u001b[49m\u001b[38;5;241;43m==\u001b[39;49m\u001b[43m \u001b[49m\u001b[38;5;124;43m\"\u001b[39;49m\u001b[38;5;124;43mallow-nan\u001b[39;49m\u001b[38;5;124;43m\"\u001b[39;49m\u001b[43m,\u001b[49m\n\u001b[1;32m    904\u001b[0m \u001b[43m        \u001b[49m\u001b[43m)\u001b[49m\n\u001b[1;32m    906\u001b[0m \u001b[38;5;28;01mif\u001b[39;00m ensure_min_samples \u001b[38;5;241m>\u001b[39m \u001b[38;5;241m0\u001b[39m:\n\u001b[1;32m    907\u001b[0m     n_samples \u001b[38;5;241m=\u001b[39m _num_samples(array)\n",
      "File \u001b[0;32m~/.conda/envs/bpr_env/lib/python3.10/site-packages/sklearn/utils/validation.py:146\u001b[0m, in \u001b[0;36m_assert_all_finite\u001b[0;34m(X, allow_nan, msg_dtype, estimator_name, input_name)\u001b[0m\n\u001b[1;32m    124\u001b[0m         \u001b[38;5;28;01mif\u001b[39;00m (\n\u001b[1;32m    125\u001b[0m             \u001b[38;5;129;01mnot\u001b[39;00m allow_nan\n\u001b[1;32m    126\u001b[0m             \u001b[38;5;129;01mand\u001b[39;00m estimator_name\n\u001b[0;32m   (...)\u001b[0m\n\u001b[1;32m    130\u001b[0m             \u001b[38;5;66;03m# Improve the error message on how to handle missing values in\u001b[39;00m\n\u001b[1;32m    131\u001b[0m             \u001b[38;5;66;03m# scikit-learn.\u001b[39;00m\n\u001b[1;32m    132\u001b[0m             msg_err \u001b[38;5;241m+\u001b[39m\u001b[38;5;241m=\u001b[39m (\n\u001b[1;32m    133\u001b[0m                 \u001b[38;5;124mf\u001b[39m\u001b[38;5;124m\"\u001b[39m\u001b[38;5;130;01m\\n\u001b[39;00m\u001b[38;5;132;01m{\u001b[39;00mestimator_name\u001b[38;5;132;01m}\u001b[39;00m\u001b[38;5;124m does not accept missing values\u001b[39m\u001b[38;5;124m\"\u001b[39m\n\u001b[1;32m    134\u001b[0m                 \u001b[38;5;124m\"\u001b[39m\u001b[38;5;124m encoded as NaN natively. For supervised learning, you might want\u001b[39m\u001b[38;5;124m\"\u001b[39m\n\u001b[0;32m   (...)\u001b[0m\n\u001b[1;32m    144\u001b[0m                 \u001b[38;5;124m\"\u001b[39m\u001b[38;5;124m#estimators-that-handle-nan-values\u001b[39m\u001b[38;5;124m\"\u001b[39m\n\u001b[1;32m    145\u001b[0m             )\n\u001b[0;32m--> 146\u001b[0m         \u001b[38;5;28;01mraise\u001b[39;00m \u001b[38;5;167;01mValueError\u001b[39;00m(msg_err)\n\u001b[1;32m    148\u001b[0m \u001b[38;5;66;03m# for object dtype data, we only check for NaNs (GH-13254)\u001b[39;00m\n\u001b[1;32m    149\u001b[0m \u001b[38;5;28;01melif\u001b[39;00m X\u001b[38;5;241m.\u001b[39mdtype \u001b[38;5;241m==\u001b[39m np\u001b[38;5;241m.\u001b[39mdtype(\u001b[38;5;124m\"\u001b[39m\u001b[38;5;124mobject\u001b[39m\u001b[38;5;124m\"\u001b[39m) \u001b[38;5;129;01mand\u001b[39;00m \u001b[38;5;129;01mnot\u001b[39;00m allow_nan:\n",
      "\u001b[0;31mValueError\u001b[0m: Input contains infinity or a value too large for dtype('float64')."
     ]
    }
   ],
   "source": [
    "als = WALS(\n",
    "    num_features = 2,\n",
    "    num_users = cf.R.shape[0],\n",
    "    num_items = cf.R.shape[1],\n",
    "    reg_lambda=0.00\n",
    ")\n",
    "als.fit(cf.R_train, cf.R_test, num_iters=10)"
   ]
  },
  {
   "cell_type": "code",
   "execution_count": 32,
   "id": "11a45e8e",
   "metadata": {},
   "outputs": [
    {
     "name": "stdout",
     "output_type": "stream",
     "text": [
      "0\n",
      "1\n",
      "2\n",
      "3\n",
      "4\n"
     ]
    }
   ],
   "source": [
    "for i in range(5):\n",
    "    print(i)"
   ]
  },
  {
   "cell_type": "code",
   "execution_count": 13,
   "id": "21c5bd03",
   "metadata": {},
   "outputs": [
    {
     "data": {
      "text/plain": [
       "(10, 2)"
      ]
     },
     "execution_count": 13,
     "metadata": {},
     "output_type": "execute_result"
    }
   ],
   "source": [
    "als.item_mat.shape"
   ]
  },
  {
   "cell_type": "code",
   "execution_count": null,
   "id": "a90f26b7",
   "metadata": {},
   "outputs": [],
   "source": [
    "fig, ax = plt.subplots(1, 2, figsize=(10,3))\n",
    "als = ALS(\n",
    "    num_features = 2,\n",
    "    num_users = cf.R.shape[0],\n",
    "    num_items = cf.R.shape[1],\n",
    "    reg_lambda=0.01\n",
    ")\n",
    "for _ in range(100):\n",
    "    als.fit(cf.R_train, cf.R_test, num_iters=20, seed=None)\n",
    "    ax[0].plot(als.train_mse, '-r', alpha=0.1)\n",
    "    ax[1].plot(als.test_mse, '-b', alpha=0.1)\n",
    "ax[0].set_ylabel('Training MSE')\n",
    "ax[1].set_ylabel('Testing MSE')\n",
    "for iax in ax:\n",
    "    iax.grid(True)\n",
    "    iax.set_xlim([0, len(als.train_mse)-1])\n",
    "    iax.set_xlabel('Iterations')\n",
    "    iax.set_xticks(np.arange(0,len(als.test_mse),5))"
   ]
  },
  {
   "cell_type": "code",
   "execution_count": null,
   "id": "77bcc810",
   "metadata": {},
   "outputs": [],
   "source": [
    "np.around(als.item_mat,1)\n",
    "np.around(als.user_mat,2)"
   ]
  },
  {
   "cell_type": "code",
   "execution_count": null,
   "id": "d734f60a",
   "metadata": {},
   "outputs": [],
   "source": [
    "cf.get_top_items_for_this_user(0, als.user_mat, als.item_mat, 2)"
   ]
  },
  {
   "cell_type": "code",
   "execution_count": null,
   "id": "d922d4fe",
   "metadata": {},
   "outputs": [],
   "source": [
    "cf.get_similar(als.user_mat, for_this_inds=0, count=4)"
   ]
  },
  {
   "cell_type": "code",
   "execution_count": null,
   "id": "3a7d295c",
   "metadata": {},
   "outputs": [],
   "source": [
    "np.diag([2,1])"
   ]
  },
  {
   "cell_type": "code",
   "execution_count": null,
   "id": "9e173989",
   "metadata": {},
   "outputs": [],
   "source": [
    "Nu = 10\n",
    "Ni = 20\n",
    "Nf = 3\n",
    "Wt = np.zeros((Nu, Ni,Ni))\n",
    "zz = np.zeros((Nu,Ni)) @ Wt @ np.zeros((Ni,Nf)) @(np.zeros((Nf,Ni)) @ Wt @ np.zeros((Ni,Nf)) + )\n",
    "zz.shape"
   ]
  },
  {
   "cell_type": "code",
   "execution_count": null,
   "id": "6536f7bd",
   "metadata": {},
   "outputs": [],
   "source": []
  }
 ],
 "metadata": {
  "kernelspec": {
   "display_name": "bpr_env",
   "language": "python",
   "name": "bpr_env"
  },
  "language_info": {
   "codemirror_mode": {
    "name": "ipython",
    "version": 3
   },
   "file_extension": ".py",
   "mimetype": "text/x-python",
   "name": "python",
   "nbconvert_exporter": "python",
   "pygments_lexer": "ipython3",
   "version": "3.10.6"
  }
 },
 "nbformat": 4,
 "nbformat_minor": 5
}
