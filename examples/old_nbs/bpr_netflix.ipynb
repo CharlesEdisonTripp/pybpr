{
 "cells": [
  {
   "cell_type": "markdown",
   "id": "1971f6cf",
   "metadata": {},
   "source": [
    "## BPR-Netflix"
   ]
  },
  {
   "cell_type": "code",
   "execution_count": 1,
   "id": "6985b0da",
   "metadata": {},
   "outputs": [],
   "source": [
    "#%load_ext watermark\n",
    "%load_ext autoreload \n",
    "%autoreload 2"
   ]
  },
  {
   "cell_type": "code",
   "execution_count": 2,
   "id": "6f571098",
   "metadata": {},
   "outputs": [],
   "source": [
    "import os\n",
    "import sys\n",
    "import numpy as np\n",
    "import pandas as pd\n",
    "import matplotlib.pyplot as plt\n",
    "from subprocess import call\n",
    "from bpr_module import *"
   ]
  },
  {
   "cell_type": "code",
   "execution_count": 27,
   "id": "bb79697b",
   "metadata": {},
   "outputs": [],
   "source": [
    "#pyarrow: efficeint loading of parquet\n",
    "# trim top 100 users\n",
    "# very simple 10 by 10 matrix to demonstrate scalability"
   ]
  },
  {
   "cell_type": "code",
   "execution_count": 4,
   "id": "e1cad574",
   "metadata": {},
   "outputs": [],
   "source": [
    "fdir = 'Top10PctUsers_Top10PctProducts_Clicks_2023_01_05'\n",
    "df = pd.read_parquet(os.path.join(os.path.join('../', fdir,'BPR_0005_part_00.parquet')))"
   ]
  },
  {
   "cell_type": "code",
   "execution_count": 5,
   "id": "035349f4",
   "metadata": {},
   "outputs": [
    {
     "data": {
      "text/plain": [
       "(4587909, 19)"
      ]
     },
     "execution_count": 5,
     "metadata": {},
     "output_type": "execute_result"
    },
    {
     "data": {
      "text/plain": [
       "(4587909, 19)"
      ]
     },
     "execution_count": 5,
     "metadata": {},
     "output_type": "execute_result"
    }
   ],
   "source": [
    "df.shape"
   ]
  },
  {
   "cell_type": "code",
   "execution_count": 6,
   "id": "eead6862",
   "metadata": {},
   "outputs": [
    {
     "data": {
      "text/plain": [
       "(11312, 11401, 11401, 350388)"
      ]
     },
     "execution_count": 6,
     "metadata": {},
     "output_type": "execute_result"
    },
    {
     "data": {
      "text/plain": [
       "(11312, 11401, 11401, 350388)"
      ]
     },
     "execution_count": 6,
     "metadata": {},
     "output_type": "execute_result"
    }
   ],
   "source": [
    "df.title.nunique(), df.product_id.nunique(), df.product_id.nunique(), df.user_id.nunique()"
   ]
  },
  {
   "cell_type": "code",
   "execution_count": 7,
   "id": "cee96fba",
   "metadata": {},
   "outputs": [
    {
     "data": {
      "text/plain": [
       "(3273, 4214)"
      ]
     },
     "execution_count": 7,
     "metadata": {},
     "output_type": "execute_result"
    },
    {
     "data": {
      "text/plain": [
       "(3273, 4214)"
      ]
     },
     "execution_count": 7,
     "metadata": {},
     "output_type": "execute_result"
    }
   ],
   "source": [
    "df.seller_id.nunique(), df.store_id.nunique()"
   ]
  },
  {
   "cell_type": "code",
   "execution_count": 8,
   "id": "1dd489f7",
   "metadata": {},
   "outputs": [
    {
     "data": {
      "text/plain": [
       "product_type\n",
       "eleveneleven_checkbookcover          5\n",
       "manualww_dogbed                      6\n",
       "zazzle_facemaskcotton                7\n",
       "imprue_shinyembsealhudsons           9\n",
       "makeaball_softball                  12\n",
       "                                ...   \n",
       "zazzle_postcard2                139834\n",
       "zazzle_shirt                    175050\n",
       "zazzle_foldedgreetingcard       196746\n",
       "zazzle_businesscard             256662\n",
       "zazzle_invitation3             1003873\n",
       "Name: product_id, Length: 375, dtype: int64"
      ]
     },
     "execution_count": 8,
     "metadata": {},
     "output_type": "execute_result"
    },
    {
     "data": {
      "text/plain": [
       "product_type\n",
       "eleveneleven_checkbookcover          5\n",
       "manualww_dogbed                      6\n",
       "zazzle_facemaskcotton                7\n",
       "imprue_shinyembsealhudsons           9\n",
       "makeaball_softball                  12\n",
       "                                ...   \n",
       "zazzle_postcard2                139834\n",
       "zazzle_shirt                    175050\n",
       "zazzle_foldedgreetingcard       196746\n",
       "zazzle_businesscard             256662\n",
       "zazzle_invitation3             1003873\n",
       "Name: product_id, Length: 375, dtype: int64"
      ]
     },
     "execution_count": 8,
     "metadata": {},
     "output_type": "execute_result"
    }
   ],
   "source": [
    "df.groupby(by='product_type')['product_id'].count().sort_values(ascending=True)"
   ]
  },
  {
   "cell_type": "code",
   "execution_count": 9,
   "id": "da59188c",
   "metadata": {},
   "outputs": [
    {
     "data": {
      "text/plain": [
       "(Timestamp('2021-08-03 00:26:09.402000'),\n",
       " Timestamp('2023-01-03 23:53:58.929000'))"
      ]
     },
     "execution_count": 9,
     "metadata": {},
     "output_type": "execute_result"
    },
    {
     "data": {
      "text/plain": [
       "(Timestamp('2021-08-03 00:26:09.402000'),\n",
       " Timestamp('2023-01-03 23:53:58.929000'))"
      ]
     },
     "execution_count": 9,
     "metadata": {},
     "output_type": "execute_result"
    }
   ],
   "source": [
    "df.click_created.min(), df.click_created.max()"
   ]
  },
  {
   "cell_type": "code",
   "execution_count": 18,
   "id": "8347ffde",
   "metadata": {},
   "outputs": [
    {
     "data": {
      "text/plain": [
       "array(['3acddad7-6950-4dc7-8433-f64300bfeb99',\n",
       "       '63d2aa9c-6d7c-4263-8884-651682da6dff',\n",
       "       'fa4dde1e-626c-43a4-8655-0e166e7a9309',\n",
       "       'ba469d9d-ba0d-45c5-9e14-8bc961df1fad',\n",
       "       '522d9a35-fcea-46d7-bcfc-ff827c49bb72',\n",
       "       '30bed27d-ab7f-4361-a0cc-4a99e7f62a21',\n",
       "       '5df6417e-b02b-475e-ad4a-ef7ae561da1c',\n",
       "       '277bf6da-5a89-4980-90a8-20ef1dab2051',\n",
       "       'f9f68f1c-4478-47f5-8e6d-003c49e12f54',\n",
       "       '7e51968a-0850-49e9-8536-6c3b702f1d0c'], dtype=object)"
      ]
     },
     "execution_count": 18,
     "metadata": {},
     "output_type": "execute_result"
    },
    {
     "data": {
      "text/plain": [
       "array(['3acddad7-6950-4dc7-8433-f64300bfeb99',\n",
       "       '63d2aa9c-6d7c-4263-8884-651682da6dff',\n",
       "       'fa4dde1e-626c-43a4-8655-0e166e7a9309',\n",
       "       'ba469d9d-ba0d-45c5-9e14-8bc961df1fad',\n",
       "       '522d9a35-fcea-46d7-bcfc-ff827c49bb72',\n",
       "       '30bed27d-ab7f-4361-a0cc-4a99e7f62a21',\n",
       "       '5df6417e-b02b-475e-ad4a-ef7ae561da1c',\n",
       "       '277bf6da-5a89-4980-90a8-20ef1dab2051',\n",
       "       'f9f68f1c-4478-47f5-8e6d-003c49e12f54',\n",
       "       '7e51968a-0850-49e9-8536-6c3b702f1d0c'], dtype=object)"
      ]
     },
     "execution_count": 18,
     "metadata": {},
     "output_type": "execute_result"
    }
   ],
   "source": [
    "active_users = df.user_id.value_counts().sort_values(ascending=False).index.values[:10]\n",
    "active_users"
   ]
  },
  {
   "cell_type": "code",
   "execution_count": 25,
   "id": "2aa2653e",
   "metadata": {},
   "outputs": [
    {
     "data": {
      "text/html": [
       "<div>\n",
       "<style scoped>\n",
       "    .dataframe tbody tr th:only-of-type {\n",
       "        vertical-align: middle;\n",
       "    }\n",
       "\n",
       "    .dataframe tbody tr th {\n",
       "        vertical-align: top;\n",
       "    }\n",
       "\n",
       "    .dataframe thead th {\n",
       "        text-align: right;\n",
       "    }\n",
       "</style>\n",
       "<table border=\"1\" class=\"dataframe\">\n",
       "  <thead>\n",
       "    <tr style=\"text-align: right;\">\n",
       "      <th></th>\n",
       "      <th>title</th>\n",
       "      <th>click_created</th>\n",
       "    </tr>\n",
       "  </thead>\n",
       "  <tbody>\n",
       "    <tr>\n",
       "      <th>295997</th>\n",
       "      <td>Pride Inclusive rainbow Lgbtq gay flag pin button</td>\n",
       "      <td>2022-10-25 12:00:54.566</td>\n",
       "    </tr>\n",
       "    <tr>\n",
       "      <th>295998</th>\n",
       "      <td>Pride Inclusive rainbow Lgbtq gay flag pin button</td>\n",
       "      <td>2022-10-25 12:00:54.566</td>\n",
       "    </tr>\n",
       "    <tr>\n",
       "      <th>295999</th>\n",
       "      <td>Pride Inclusive rainbow Lgbtq gay flag pin button</td>\n",
       "      <td>2022-10-25 12:00:54.566</td>\n",
       "    </tr>\n",
       "    <tr>\n",
       "      <th>296000</th>\n",
       "      <td>Pride Inclusive rainbow Lgbtq gay flag pin button</td>\n",
       "      <td>2022-10-25 12:00:54.566</td>\n",
       "    </tr>\n",
       "    <tr>\n",
       "      <th>296001</th>\n",
       "      <td>Pride Inclusive rainbow Lgbtq gay flag pin button</td>\n",
       "      <td>2022-10-25 12:00:54.566</td>\n",
       "    </tr>\n",
       "    <tr>\n",
       "      <th>...</th>\n",
       "      <td>...</td>\n",
       "      <td>...</td>\n",
       "    </tr>\n",
       "    <tr>\n",
       "      <th>309457</th>\n",
       "      <td>Pride Flag Reboot - trans and POC inclusive</td>\n",
       "      <td>2022-10-31 12:50:56.628</td>\n",
       "    </tr>\n",
       "    <tr>\n",
       "      <th>309458</th>\n",
       "      <td>Pride Flag Reboot - trans and POC inclusive</td>\n",
       "      <td>2022-10-31 12:50:56.628</td>\n",
       "    </tr>\n",
       "    <tr>\n",
       "      <th>309459</th>\n",
       "      <td>Pride Flag Reboot - trans and POC inclusive</td>\n",
       "      <td>2022-10-31 12:50:56.628</td>\n",
       "    </tr>\n",
       "    <tr>\n",
       "      <th>309460</th>\n",
       "      <td>Pride Flag Reboot - trans and POC inclusive</td>\n",
       "      <td>2022-10-31 12:50:56.628</td>\n",
       "    </tr>\n",
       "    <tr>\n",
       "      <th>309461</th>\n",
       "      <td>Pride Flag Reboot - trans and POC inclusive</td>\n",
       "      <td>2022-10-31 12:50:56.628</td>\n",
       "    </tr>\n",
       "  </tbody>\n",
       "</table>\n",
       "<p>10000 rows × 2 columns</p>\n",
       "</div>"
      ],
      "text/plain": [
       "                                                    title  \\\n",
       "295997  Pride Inclusive rainbow Lgbtq gay flag pin button   \n",
       "295998  Pride Inclusive rainbow Lgbtq gay flag pin button   \n",
       "295999  Pride Inclusive rainbow Lgbtq gay flag pin button   \n",
       "296000  Pride Inclusive rainbow Lgbtq gay flag pin button   \n",
       "296001  Pride Inclusive rainbow Lgbtq gay flag pin button   \n",
       "...                                                   ...   \n",
       "309457        Pride Flag Reboot - trans and POC inclusive   \n",
       "309458        Pride Flag Reboot - trans and POC inclusive   \n",
       "309459        Pride Flag Reboot - trans and POC inclusive   \n",
       "309460        Pride Flag Reboot - trans and POC inclusive   \n",
       "309461        Pride Flag Reboot - trans and POC inclusive   \n",
       "\n",
       "                 click_created  \n",
       "295997 2022-10-25 12:00:54.566  \n",
       "295998 2022-10-25 12:00:54.566  \n",
       "295999 2022-10-25 12:00:54.566  \n",
       "296000 2022-10-25 12:00:54.566  \n",
       "296001 2022-10-25 12:00:54.566  \n",
       "...                        ...  \n",
       "309457 2022-10-31 12:50:56.628  \n",
       "309458 2022-10-31 12:50:56.628  \n",
       "309459 2022-10-31 12:50:56.628  \n",
       "309460 2022-10-31 12:50:56.628  \n",
       "309461 2022-10-31 12:50:56.628  \n",
       "\n",
       "[10000 rows x 2 columns]"
      ]
     },
     "execution_count": 25,
     "metadata": {},
     "output_type": "execute_result"
    },
    {
     "data": {
      "text/html": [
       "<div>\n",
       "<style scoped>\n",
       "    .dataframe tbody tr th:only-of-type {\n",
       "        vertical-align: middle;\n",
       "    }\n",
       "\n",
       "    .dataframe tbody tr th {\n",
       "        vertical-align: top;\n",
       "    }\n",
       "\n",
       "    .dataframe thead th {\n",
       "        text-align: right;\n",
       "    }\n",
       "</style>\n",
       "<table border=\"1\" class=\"dataframe\">\n",
       "  <thead>\n",
       "    <tr style=\"text-align: right;\">\n",
       "      <th></th>\n",
       "      <th>title</th>\n",
       "      <th>click_created</th>\n",
       "    </tr>\n",
       "  </thead>\n",
       "  <tbody>\n",
       "    <tr>\n",
       "      <th>295997</th>\n",
       "      <td>Pride Inclusive rainbow Lgbtq gay flag pin button</td>\n",
       "      <td>2022-10-25 12:00:54.566</td>\n",
       "    </tr>\n",
       "    <tr>\n",
       "      <th>295998</th>\n",
       "      <td>Pride Inclusive rainbow Lgbtq gay flag pin button</td>\n",
       "      <td>2022-10-25 12:00:54.566</td>\n",
       "    </tr>\n",
       "    <tr>\n",
       "      <th>295999</th>\n",
       "      <td>Pride Inclusive rainbow Lgbtq gay flag pin button</td>\n",
       "      <td>2022-10-25 12:00:54.566</td>\n",
       "    </tr>\n",
       "    <tr>\n",
       "      <th>296000</th>\n",
       "      <td>Pride Inclusive rainbow Lgbtq gay flag pin button</td>\n",
       "      <td>2022-10-25 12:00:54.566</td>\n",
       "    </tr>\n",
       "    <tr>\n",
       "      <th>296001</th>\n",
       "      <td>Pride Inclusive rainbow Lgbtq gay flag pin button</td>\n",
       "      <td>2022-10-25 12:00:54.566</td>\n",
       "    </tr>\n",
       "    <tr>\n",
       "      <th>...</th>\n",
       "      <td>...</td>\n",
       "      <td>...</td>\n",
       "    </tr>\n",
       "    <tr>\n",
       "      <th>309457</th>\n",
       "      <td>Pride Flag Reboot - trans and POC inclusive</td>\n",
       "      <td>2022-10-31 12:50:56.628</td>\n",
       "    </tr>\n",
       "    <tr>\n",
       "      <th>309458</th>\n",
       "      <td>Pride Flag Reboot - trans and POC inclusive</td>\n",
       "      <td>2022-10-31 12:50:56.628</td>\n",
       "    </tr>\n",
       "    <tr>\n",
       "      <th>309459</th>\n",
       "      <td>Pride Flag Reboot - trans and POC inclusive</td>\n",
       "      <td>2022-10-31 12:50:56.628</td>\n",
       "    </tr>\n",
       "    <tr>\n",
       "      <th>309460</th>\n",
       "      <td>Pride Flag Reboot - trans and POC inclusive</td>\n",
       "      <td>2022-10-31 12:50:56.628</td>\n",
       "    </tr>\n",
       "    <tr>\n",
       "      <th>309461</th>\n",
       "      <td>Pride Flag Reboot - trans and POC inclusive</td>\n",
       "      <td>2022-10-31 12:50:56.628</td>\n",
       "    </tr>\n",
       "  </tbody>\n",
       "</table>\n",
       "<p>10000 rows × 2 columns</p>\n",
       "</div>"
      ],
      "text/plain": [
       "                                                    title  \\\n",
       "295997  Pride Inclusive rainbow Lgbtq gay flag pin button   \n",
       "295998  Pride Inclusive rainbow Lgbtq gay flag pin button   \n",
       "295999  Pride Inclusive rainbow Lgbtq gay flag pin button   \n",
       "296000  Pride Inclusive rainbow Lgbtq gay flag pin button   \n",
       "296001  Pride Inclusive rainbow Lgbtq gay flag pin button   \n",
       "...                                                   ...   \n",
       "309457        Pride Flag Reboot - trans and POC inclusive   \n",
       "309458        Pride Flag Reboot - trans and POC inclusive   \n",
       "309459        Pride Flag Reboot - trans and POC inclusive   \n",
       "309460        Pride Flag Reboot - trans and POC inclusive   \n",
       "309461        Pride Flag Reboot - trans and POC inclusive   \n",
       "\n",
       "                 click_created  \n",
       "295997 2022-10-25 12:00:54.566  \n",
       "295998 2022-10-25 12:00:54.566  \n",
       "295999 2022-10-25 12:00:54.566  \n",
       "296000 2022-10-25 12:00:54.566  \n",
       "296001 2022-10-25 12:00:54.566  \n",
       "...                        ...  \n",
       "309457 2022-10-31 12:50:56.628  \n",
       "309458 2022-10-31 12:50:56.628  \n",
       "309459 2022-10-31 12:50:56.628  \n",
       "309460 2022-10-31 12:50:56.628  \n",
       "309461 2022-10-31 12:50:56.628  \n",
       "\n",
       "[10000 rows x 2 columns]"
      ]
     },
     "execution_count": 25,
     "metadata": {},
     "output_type": "execute_result"
    }
   ],
   "source": [
    "df.loc[df.user_id==active_users[0],['title', 'click_created']].iloc[:10000]"
   ]
  },
  {
   "cell_type": "code",
   "execution_count": null,
   "id": "b15ccfee",
   "metadata": {},
   "outputs": [],
   "source": []
  },
  {
   "cell_type": "code",
   "execution_count": null,
   "id": "2f9e19ce",
   "metadata": {},
   "outputs": [],
   "source": [
    "df_movie = pd.read_csv(os.path.join(os.path.join('archive','Netflix_Dataset_Movie.csv')))\n",
    "print('data dimension: \\n', df_movie.shape)\n",
    "df_movie.head()"
   ]
  },
  {
   "cell_type": "code",
   "execution_count": null,
   "id": "545c51a3",
   "metadata": {},
   "outputs": [],
   "source": [
    "df_movie.Year.unique()"
   ]
  },
  {
   "cell_type": "code",
   "execution_count": null,
   "id": "341ae3f7",
   "metadata": {},
   "outputs": [],
   "source": [
    "df_rating = pd.read_csv(os.path.join(os.path.join('archive','Netflix_Dataset_Rating.csv')))\n",
    "print('data dimension: \\n', df_rating.shape)\n",
    "df_rating.head()"
   ]
  },
  {
   "cell_type": "code",
   "execution_count": null,
   "id": "e8bed4a3",
   "metadata": {},
   "outputs": [],
   "source": [
    "df_rating.Rating.unique(), df_rating.User_ID.nunique()"
   ]
  },
  {
   "cell_type": "code",
   "execution_count": null,
   "id": "b25aea4f",
   "metadata": {},
   "outputs": [],
   "source": [
    "idf = df_rating.groupby(by='User_ID').count()['Rating'].sort_values(ascending=False)\n",
    "# print(idf)\n",
    "fig,ax = plt.subplots(figsize=(5,3))\n",
    "idf.hist(bins=100,density=True,range=(0,500), ax=ax)\n",
    "ax.set_xlabel('Number of interactions')"
   ]
  },
  {
   "cell_type": "code",
   "execution_count": null,
   "id": "4e08175b",
   "metadata": {},
   "outputs": [],
   "source": [
    "movies_to_consider = df_movie.loc[df_movie['Year'] == 2005, 'Movie_ID']\n",
    "df = df_rating[df_rating['Movie_ID'].isin(movies_to_consider)]\n",
    "#df = df[df['']]"
   ]
  },
  {
   "cell_type": "code",
   "execution_count": null,
   "id": "0a1bc66a",
   "metadata": {},
   "outputs": [],
   "source": [
    "df.shape[0]*100/df_rating.shape[0]"
   ]
  },
  {
   "cell_type": "code",
   "execution_count": null,
   "id": "8ce6b630",
   "metadata": {},
   "outputs": [],
   "source": [
    "df.head()"
   ]
  },
  {
   "cell_type": "code",
   "execution_count": null,
   "id": "a411ff4b",
   "metadata": {},
   "outputs": [],
   "source": [
    "idf = df.groupby(by='User_ID').count()['Rating'].sort_values(ascending=False)\n",
    "# print(idf)\n",
    "# fig,ax = plt.subplots(figsize=(5,3))\n",
    "# idf.hist(bins=100,density=True,range=(-1,100), ax=ax)\n",
    "# ax.set_xlabel('Number of interactions')"
   ]
  },
  {
   "cell_type": "code",
   "execution_count": null,
   "id": "11366e31",
   "metadata": {},
   "outputs": [],
   "source": [
    "df.columns"
   ]
  },
  {
   "cell_type": "code",
   "execution_count": null,
   "id": "32001b06",
   "metadata": {},
   "outputs": [],
   "source": [
    "#df = df.loc[df['User_ID'].isin((idf > 2).index,:]"
   ]
  },
  {
   "cell_type": "code",
   "execution_count": null,
   "id": "a9a5b4e2",
   "metadata": {},
   "outputs": [],
   "source": [
    "items_col = 'Movie_ID'\n",
    "users_col = 'User_ID'\n",
    "ratings_col = 'Rating'\n",
    "threshold = 3\n",
    "X, df_new = create_matrix(df, users_col, items_col, ratings_col, threshold)\n",
    "#print(X)\n",
    "#df_new['movie_title'] = df_item.loc['']\n",
    "X_dense = X.todense()\n",
    "print(X_dense.shape, np.sum(X_dense)*100/X_dense.size)"
   ]
  },
  {
   "cell_type": "code",
   "execution_count": null,
   "id": "82a1e6d1",
   "metadata": {},
   "outputs": [],
   "source": [
    "df_new"
   ]
  },
  {
   "cell_type": "code",
   "execution_count": null,
   "id": "a7bcd8b9",
   "metadata": {},
   "outputs": [],
   "source": [
    "df_new.head()"
   ]
  },
  {
   "cell_type": "code",
   "execution_count": null,
   "id": "c0ba4b97",
   "metadata": {},
   "outputs": [],
   "source": [
    "X_dense[:10,:10]"
   ]
  },
  {
   "cell_type": "code",
   "execution_count": null,
   "id": "7e85aa1b",
   "metadata": {},
   "outputs": [],
   "source": [
    "df[df.User_ID==2187374].sort_values(by='Movie_ID').iloc[:10]"
   ]
  },
  {
   "cell_type": "code",
   "execution_count": null,
   "id": "4ec7a7e2",
   "metadata": {},
   "outputs": [],
   "source": [
    "# split into test and train\n",
    "X_train, X_test = create_train_test(X, test_size = 0.2, seed = 1234)\n",
    "X_train_dense = X_train.todense().astype(int)\n",
    "X_test_dense = X_test.todense().astype(int)"
   ]
  },
  {
   "cell_type": "code",
   "execution_count": null,
   "id": "37b6d008",
   "metadata": {},
   "outputs": [],
   "source": [
    "X_train.shape, X_test.shape"
   ]
  },
  {
   "cell_type": "code",
   "execution_count": null,
   "id": "a0811042",
   "metadata": {},
   "outputs": [],
   "source": [
    "X_dense[:10,:10], X_train_dense[:10,:10], X_test_dense[:10,:10]"
   ]
  },
  {
   "cell_type": "code",
   "execution_count": null,
   "id": "c8baf72a",
   "metadata": {},
   "outputs": [],
   "source": [
    "np.allclose(X_dense, X_train_dense+X_test_dense)"
   ]
  },
  {
   "cell_type": "code",
   "execution_count": null,
   "id": "36d420c9",
   "metadata": {},
   "outputs": [],
   "source": [
    "# df_temp = df.groupby('User_ID').min().reset_index()\n",
    "# df_temp['test_ratio'] = np.asarray(np.sum(X_test_dense, axis=1)/np.sum(X_dense, axis=1)).flatten()\n",
    "# df_check = df_new.merge(df_temp[['User_ID', 'test_ratio']], on='User_ID', how='inner')\n",
    "# df_check.groupby(by='User_ID')['test_ratio'].min()"
   ]
  },
  {
   "cell_type": "code",
   "execution_count": null,
   "id": "47f905be",
   "metadata": {},
   "outputs": [],
   "source": [
    "# parameters were randomly chosen\n",
    "bpr_params = {\n",
    "    'reg': 0.01,\n",
    "    'learning_rate': 0.1,\n",
    "    'n_iters': 50,\n",
    "    'n_factors': 5,\n",
    "    'batch_size': 50\n",
    "}\n",
    "bpr = BPR(**bpr_params)\n",
    "bpr.fit(X_train)"
   ]
  },
  {
   "cell_type": "code",
   "execution_count": null,
   "id": "cf63d0dc",
   "metadata": {},
   "outputs": [],
   "source": [
    "print(auc_score(bpr, X_train))\n",
    "print(auc_score(bpr, X_test))"
   ]
  },
  {
   "cell_type": "code",
   "execution_count": null,
   "id": "6ec863c2",
   "metadata": {},
   "outputs": [],
   "source": [
    "X_recommend = bpr.recommend(X, 3)\n",
    "X_recommend.shape"
   ]
  },
  {
   "cell_type": "code",
   "execution_count": null,
   "id": "811c5e44",
   "metadata": {},
   "outputs": [],
   "source": [
    "ith_user = 980\n",
    "this_user = df_new.User_ID.unique()[ith_user]\n",
    "idf = df_new[df_new['User_ID'] == this_user]\n",
    "idf"
   ]
  },
  {
   "cell_type": "code",
   "execution_count": null,
   "id": "40bb44df",
   "metadata": {},
   "outputs": [],
   "source": [
    "df_movie.loc[df_movie.Movie_ID.isin(list(idf.Movie_ID)),['Movie_ID','Name']]"
   ]
  },
  {
   "cell_type": "code",
   "execution_count": null,
   "id": "dea9bd1b",
   "metadata": {},
   "outputs": [],
   "source": [
    "df_movie.loc[df_movie.Movie_ID.isin(X_recommend[ith_user-1,:]),'Name']"
   ]
  },
  {
   "cell_type": "code",
   "execution_count": null,
   "id": "e862f3ae",
   "metadata": {},
   "outputs": [],
   "source": [
    "df.User_ID.unique()[:10]"
   ]
  },
  {
   "cell_type": "code",
   "execution_count": null,
   "id": "58652676",
   "metadata": {},
   "outputs": [],
   "source": [
    "Xsim = bpr.get_similar_items(N = 6)\n",
    "Xsim.shape"
   ]
  },
  {
   "cell_type": "code",
   "execution_count": null,
   "id": "e7fe5c55",
   "metadata": {},
   "outputs": [],
   "source": [
    "X_"
   ]
  },
  {
   "cell_type": "code",
   "execution_count": null,
   "id": "876d711f",
   "metadata": {},
   "outputs": [],
   "source": [
    "df_item[df_item['movie_id'].isin(Xsim[3,:])]"
   ]
  },
  {
   "cell_type": "code",
   "execution_count": null,
   "id": "df43aa33",
   "metadata": {},
   "outputs": [],
   "source": []
  }
 ],
 "metadata": {
  "kernelspec": {
   "display_name": "bss_env",
   "language": "python",
   "name": "bss_env"
  },
  "language_info": {
   "codemirror_mode": {
    "name": "ipython",
    "version": 3
   },
   "file_extension": ".py",
   "mimetype": "text/x-python",
   "name": "python",
   "nbconvert_exporter": "python",
   "pygments_lexer": "ipython3",
   "version": "3.10.6"
  }
 },
 "nbformat": 4,
 "nbformat_minor": 5
}
