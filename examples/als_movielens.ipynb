{
 "cells": [
  {
   "cell_type": "markdown",
   "id": "1971f6cf",
   "metadata": {},
   "source": [
    "## Application of ALS and SVD on Movielens"
   ]
  },
  {
   "cell_type": "code",
   "execution_count": 1,
   "id": "6985b0da",
   "metadata": {},
   "outputs": [],
   "source": [
    "#%load_ext watermark\n",
    "%load_ext autoreload \n",
    "%autoreload 2"
   ]
  },
  {
   "cell_type": "code",
   "execution_count": 2,
   "id": "6f571098",
   "metadata": {},
   "outputs": [],
   "source": [
    "import os\n",
    "import sys\n",
    "import numpy as np\n",
    "import pandas as pd\n",
    "from subprocess import call\n",
    "from pybpr import *\n",
    "import matplotlib.pyplot as plt\n",
    "from functools import partial"
   ]
  },
  {
   "cell_type": "code",
   "execution_count": 3,
   "id": "bcd21924",
   "metadata": {},
   "outputs": [
    {
     "name": "stdout",
     "output_type": "stream",
     "text": [
      "CPU times: user 18.5 ms, sys: 19.7 ms, total: 38.1 ms\n",
      "Wall time: 37.3 ms\n"
     ]
    },
    {
     "data": {
      "text/html": [
       "<div>\n",
       "<style scoped>\n",
       "    .dataframe tbody tr th:only-of-type {\n",
       "        vertical-align: middle;\n",
       "    }\n",
       "\n",
       "    .dataframe tbody tr th {\n",
       "        vertical-align: top;\n",
       "    }\n",
       "\n",
       "    .dataframe thead th {\n",
       "        text-align: right;\n",
       "    }\n",
       "</style>\n",
       "<table border=\"1\" class=\"dataframe\">\n",
       "  <thead>\n",
       "    <tr style=\"text-align: right;\">\n",
       "      <th></th>\n",
       "      <th>user_id</th>\n",
       "      <th>item_id</th>\n",
       "      <th>rating</th>\n",
       "      <th>timestamp</th>\n",
       "    </tr>\n",
       "  </thead>\n",
       "  <tbody>\n",
       "    <tr>\n",
       "      <th>0</th>\n",
       "      <td>196</td>\n",
       "      <td>242</td>\n",
       "      <td>3</td>\n",
       "      <td>881250949</td>\n",
       "    </tr>\n",
       "    <tr>\n",
       "      <th>1</th>\n",
       "      <td>186</td>\n",
       "      <td>302</td>\n",
       "      <td>3</td>\n",
       "      <td>891717742</td>\n",
       "    </tr>\n",
       "    <tr>\n",
       "      <th>2</th>\n",
       "      <td>22</td>\n",
       "      <td>377</td>\n",
       "      <td>1</td>\n",
       "      <td>878887116</td>\n",
       "    </tr>\n",
       "    <tr>\n",
       "      <th>3</th>\n",
       "      <td>244</td>\n",
       "      <td>51</td>\n",
       "      <td>2</td>\n",
       "      <td>880606923</td>\n",
       "    </tr>\n",
       "    <tr>\n",
       "      <th>4</th>\n",
       "      <td>166</td>\n",
       "      <td>346</td>\n",
       "      <td>1</td>\n",
       "      <td>886397596</td>\n",
       "    </tr>\n",
       "  </tbody>\n",
       "</table>\n",
       "</div>"
      ],
      "text/plain": [
       "   user_id  item_id  rating  timestamp\n",
       "0      196      242       3  881250949\n",
       "1      186      302       3  891717742\n",
       "2       22      377       1  878887116\n",
       "3      244       51       2  880606923\n",
       "4      166      346       1  886397596"
      ]
     },
     "execution_count": 3,
     "metadata": {},
     "output_type": "execute_result"
    }
   ],
   "source": [
    "%%time\n",
    "#df = load_movielens_data('ml-1m')\n",
    "df = load_movielens_data('ml-100k')\n",
    "df.head()"
   ]
  },
  {
   "cell_type": "code",
   "execution_count": 4,
   "id": "eec38ecb",
   "metadata": {},
   "outputs": [
    {
     "name": "stdout",
     "output_type": "stream",
     "text": [
      "--- Memory usage for MovieLens-1m:\n",
      "Sparse User-Item matrix = 0.09 MB\n",
      "User-Item dataframe df = 2.85 MB\n",
      "Item dataframe df_item = 0.03 MB\n",
      "Item dataframe df_user = 0.02 MB\n",
      "---\n",
      "CPU times: user 73 ms, sys: 812 µs, total: 73.8 ms\n",
      "Wall time: 71.9 ms\n"
     ]
    }
   ],
   "source": [
    "%%time\n",
    "dfshort = df[df['rating'] > 0]\n",
    "cf = UserItemInteractions(\n",
    "    name='MovieLens-1m',\n",
    "    users = dfshort['user_id'], \n",
    "    items = dfshort['item_id'],\n",
    "    min_num_rating_per_user=30,\n",
    "    min_num_rating_per_item=10\n",
    ")\n",
    "cf.print_memory_usage()"
   ]
  },
  {
   "cell_type": "code",
   "execution_count": 5,
   "id": "ab98cffc",
   "metadata": {},
   "outputs": [
    {
     "name": "stdout",
     "output_type": "stream",
     "text": [
      "CPU times: user 1.92 s, sys: 0 ns, total: 1.92 s\n",
      "Wall time: 1.93 s\n"
     ]
    }
   ],
   "source": [
    "%%time\n",
    "cf.generate_train_test(user_test_ratio = 0.2)"
   ]
  },
  {
   "cell_type": "code",
   "execution_count": 6,
   "id": "35283aef",
   "metadata": {},
   "outputs": [],
   "source": [
    "als = MF_ALS(num_features=10, reg_lambda=0., num_iters=100, initial_std=0.1, seed=None)"
   ]
  },
  {
   "cell_type": "code",
   "execution_count": 7,
   "id": "40752745",
   "metadata": {},
   "outputs": [],
   "source": [
    "als.fit(cf.R_train)"
   ]
  },
  {
   "cell_type": "code",
   "execution_count": 8,
   "id": "1ca71fb7",
   "metadata": {},
   "outputs": [],
   "source": [
    "ndcg_score = cf.get_ndcg_metric(\n",
    "    user_mat = als.user_mat,\n",
    "    item_mat=als.item_mat,\n",
    "    num_items = 10,\n",
    "    test=True,\n",
    "    truncate=True\n",
    ")"
   ]
  },
  {
   "cell_type": "code",
   "execution_count": 9,
   "id": "b5946719",
   "metadata": {},
   "outputs": [
    {
     "data": {
      "text/plain": [
       "0.45679663853798047"
      ]
     },
     "execution_count": 9,
     "metadata": {},
     "output_type": "execute_result"
    }
   ],
   "source": [
    "ndcg_score"
   ]
  },
  {
   "cell_type": "markdown",
   "id": "635f488e",
   "metadata": {},
   "source": [
    "## Effect of num of features on ndcg"
   ]
  },
  {
   "cell_type": "code",
   "execution_count": 10,
   "id": "9252037b",
   "metadata": {},
   "outputs": [
    {
     "name": "stdout",
     "output_type": "stream",
     "text": [
      "1-5-9-13-17-21-25-29-33-37-41-45-49-53-57-61-65-69-73-77-81-85-89-93-97-"
     ]
    }
   ],
   "source": [
    "num_features_list = np.arange(1,100,4)\n",
    "ndcg_list = []\n",
    "for num_features in num_features_list:\n",
    "    print(num_features, end=\"-\", flush=True)\n",
    "    als = MF_ALS(\n",
    "        num_features=num_features, \n",
    "        reg_lambda=0., \n",
    "        num_iters=10, \n",
    "        initial_std=0.1, \n",
    "        seed=None\n",
    "    )\n",
    "    als.fit(cf.R_train)\n",
    "    als_ndcg_func = partial(\n",
    "        cf.get_ndcg_metric, \n",
    "        user_mat = als.user_mat, \n",
    "        item_mat=als.item_mat, \n",
    "        num_items = 10\n",
    "    )\n",
    "    svd = MF_SVD(num_features=num_features, num_iters=100, seed=None)\n",
    "    svd.fit(cf.R_train)\n",
    "    svd_ndcg_func = partial(\n",
    "        cf.get_ndcg_metric, \n",
    "        user_mat = svd.user_mat, \n",
    "        item_mat=svd.item_mat, \n",
    "        num_items = 10\n",
    "    )\n",
    "    result_dict={\n",
    "        'num_features': num_features,\n",
    "        'als_test': als_ndcg_func(test=True),\n",
    "        'als_train': als_ndcg_func(test=False),\n",
    "        'svd_test': svd_ndcg_func(test=True),\n",
    "        'svd_train': svd_ndcg_func(test=False)\n",
    "    }\n",
    "    ndcg_list.append(result_dict)\n",
    "ndcg_df = pd.DataFrame(ndcg_list)"
   ]
  },
  {
   "cell_type": "code",
   "execution_count": 11,
   "id": "af88e3bd",
   "metadata": {},
   "outputs": [
    {
     "data": {
      "text/html": [
       "<div>\n",
       "<style scoped>\n",
       "    .dataframe tbody tr th:only-of-type {\n",
       "        vertical-align: middle;\n",
       "    }\n",
       "\n",
       "    .dataframe tbody tr th {\n",
       "        vertical-align: top;\n",
       "    }\n",
       "\n",
       "    .dataframe thead th {\n",
       "        text-align: right;\n",
       "    }\n",
       "</style>\n",
       "<table border=\"1\" class=\"dataframe\">\n",
       "  <thead>\n",
       "    <tr style=\"text-align: right;\">\n",
       "      <th></th>\n",
       "      <th>num_features</th>\n",
       "      <th>als_test</th>\n",
       "      <th>als_train</th>\n",
       "      <th>svd_test</th>\n",
       "      <th>svd_train</th>\n",
       "    </tr>\n",
       "  </thead>\n",
       "  <tbody>\n",
       "    <tr>\n",
       "      <th>0</th>\n",
       "      <td>1</td>\n",
       "      <td>0.269689</td>\n",
       "      <td>0.458040</td>\n",
       "      <td>0.269689</td>\n",
       "      <td>0.458040</td>\n",
       "    </tr>\n",
       "    <tr>\n",
       "      <th>1</th>\n",
       "      <td>5</td>\n",
       "      <td>0.411076</td>\n",
       "      <td>0.665152</td>\n",
       "      <td>0.409970</td>\n",
       "      <td>0.658617</td>\n",
       "    </tr>\n",
       "    <tr>\n",
       "      <th>2</th>\n",
       "      <td>9</td>\n",
       "      <td>0.447496</td>\n",
       "      <td>0.715987</td>\n",
       "      <td>0.451182</td>\n",
       "      <td>0.717836</td>\n",
       "    </tr>\n",
       "    <tr>\n",
       "      <th>3</th>\n",
       "      <td>13</td>\n",
       "      <td>0.455998</td>\n",
       "      <td>0.754659</td>\n",
       "      <td>0.462949</td>\n",
       "      <td>0.753311</td>\n",
       "    </tr>\n",
       "    <tr>\n",
       "      <th>4</th>\n",
       "      <td>17</td>\n",
       "      <td>0.465561</td>\n",
       "      <td>0.797055</td>\n",
       "      <td>0.462804</td>\n",
       "      <td>0.797053</td>\n",
       "    </tr>\n",
       "  </tbody>\n",
       "</table>\n",
       "</div>"
      ],
      "text/plain": [
       "   num_features  als_test  als_train  svd_test  svd_train\n",
       "0             1  0.269689   0.458040  0.269689   0.458040\n",
       "1             5  0.411076   0.665152  0.409970   0.658617\n",
       "2             9  0.447496   0.715987  0.451182   0.717836\n",
       "3            13  0.455998   0.754659  0.462949   0.753311\n",
       "4            17  0.465561   0.797055  0.462804   0.797053"
      ]
     },
     "execution_count": 11,
     "metadata": {},
     "output_type": "execute_result"
    }
   ],
   "source": [
    "ndcg_df.head()"
   ]
  },
  {
   "cell_type": "code",
   "execution_count": 12,
   "id": "64549a02",
   "metadata": {},
   "outputs": [
    {
     "data": {
      "image/png": "[encoded data removed]",
      "text/plain": [
       "<Figure size 1000x300 with 2 Axes>"
      ]
     },
     "metadata": {},
     "output_type": "display_data"
    }
   ],
   "source": [
    "fig, ax = plt.subplots(1, 2, figsize=(10,3))\n",
    "ax[0].plot(ndcg_df['num_features'], ndcg_df['als_train'], '-r', label='ALS-Train')\n",
    "ax[0].plot(ndcg_df['num_features'], ndcg_df['als_test'], '-b', label='ALS-Test')\n",
    "ax[1].plot(ndcg_df['num_features'], ndcg_df['svd_train'], '-r', label='SVD-Train')\n",
    "ax[1].plot(ndcg_df['num_features'], ndcg_df['svd_test'], '-b', label='SVD-Test')\n",
    "for iax in ax:\n",
    "    iax.grid(True)\n",
    "    #iax.set_ylim([0, 1])\n",
    "    iax.set_ylabel('NDCG')\n",
    "    iax.set_xlabel('Num of features')\n",
    "    iax.legend(loc=2, borderaxespad=0.1)"
   ]
  },
  {
   "cell_type": "markdown",
   "id": "84277d23",
   "metadata": {},
   "source": [
    "## Conclusions\n",
    "- Around 10-20 features seems to provide best NDCG for Movielens-100k data\n",
    "- ALS and SVD have same solution when using no regularization on ALS cost function\n",
    "- Changing the num_items when computing NDCG just scales the NDCG-num_of_features relation\n",
    "- Adding reularization to ALS makes sure it does not overfit for large num of features\n",
    "- ALS with regularization has the same optimal NDCG and num of features as SVD\n",
    "- ALS solution seems to converging at around 10 iterations"
   ]
  },
  {
   "cell_type": "code",
   "execution_count": null,
   "id": "b8576b70",
   "metadata": {},
   "outputs": [],
   "source": []
  }
 ],
 "metadata": {
  "kernelspec": {
   "display_name": "Python 3",
   "language": "python",
   "name": "python3"
  },
  "language_info": {
   "codemirror_mode": {
    "name": "ipython",
    "version": 3
   },
   "file_extension": ".py",
   "mimetype": "text/x-python",
   "name": "python",
   "nbconvert_exporter": "python",
   "pygments_lexer": "ipython3",
   "version": "3.10.9"
  }
 },
 "nbformat": 4,
 "nbformat_minor": 5
}
