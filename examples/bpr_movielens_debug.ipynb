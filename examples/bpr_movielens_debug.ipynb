{
 "cells": [
  {
   "cell_type": "markdown",
   "id": "1971f6cf",
   "metadata": {},
   "source": [
    "## Application of BPR on Movielens"
   ]
  },
  {
   "cell_type": "code",
   "execution_count": 1,
   "id": "6985b0da",
   "metadata": {},
   "outputs": [],
   "source": [
    "#%load_ext watermark\n",
    "%load_ext autoreload \n",
    "%autoreload 2"
   ]
  },
  {
   "cell_type": "code",
   "execution_count": 2,
   "id": "6f571098",
   "metadata": {},
   "outputs": [
    {
     "name": "stdout",
     "output_type": "stream",
     "text": [
      "Number of users: 8\n",
      "Number of items: 10\n",
      "Number of users: 4\n",
      "Number of items: 5\n"
     ]
    }
   ],
   "source": [
    "import os\n",
    "import sys\n",
    "import itertools\n",
    "import numpy as np\n",
    "import pandas as pd\n",
    "from subprocess import call\n",
    "from pybpr import *\n",
    "import matplotlib.pyplot as plt\n",
    "from functools import partial"
   ]
  },
  {
   "cell_type": "code",
   "execution_count": 3,
   "id": "bcd21924",
   "metadata": {},
   "outputs": [
    {
     "name": "stdout",
     "output_type": "stream",
     "text": [
      "CPU times: user 20.5 ms, sys: 7.5 ms, total: 28 ms\n",
      "Wall time: 29.8 ms\n"
     ]
    },
    {
     "data": {
      "text/html": [
       "<div>\n",
       "<style scoped>\n",
       "    .dataframe tbody tr th:only-of-type {\n",
       "        vertical-align: middle;\n",
       "    }\n",
       "\n",
       "    .dataframe tbody tr th {\n",
       "        vertical-align: top;\n",
       "    }\n",
       "\n",
       "    .dataframe thead th {\n",
       "        text-align: right;\n",
       "    }\n",
       "</style>\n",
       "<table border=\"1\" class=\"dataframe\">\n",
       "  <thead>\n",
       "    <tr style=\"text-align: right;\">\n",
       "      <th></th>\n",
       "      <th>user_id</th>\n",
       "      <th>item_id</th>\n",
       "      <th>rating</th>\n",
       "      <th>timestamp</th>\n",
       "    </tr>\n",
       "  </thead>\n",
       "  <tbody>\n",
       "    <tr>\n",
       "      <th>0</th>\n",
       "      <td>196</td>\n",
       "      <td>242</td>\n",
       "      <td>3</td>\n",
       "      <td>881250949</td>\n",
       "    </tr>\n",
       "    <tr>\n",
       "      <th>1</th>\n",
       "      <td>186</td>\n",
       "      <td>302</td>\n",
       "      <td>3</td>\n",
       "      <td>891717742</td>\n",
       "    </tr>\n",
       "    <tr>\n",
       "      <th>2</th>\n",
       "      <td>22</td>\n",
       "      <td>377</td>\n",
       "      <td>1</td>\n",
       "      <td>878887116</td>\n",
       "    </tr>\n",
       "    <tr>\n",
       "      <th>3</th>\n",
       "      <td>244</td>\n",
       "      <td>51</td>\n",
       "      <td>2</td>\n",
       "      <td>880606923</td>\n",
       "    </tr>\n",
       "    <tr>\n",
       "      <th>4</th>\n",
       "      <td>166</td>\n",
       "      <td>346</td>\n",
       "      <td>1</td>\n",
       "      <td>886397596</td>\n",
       "    </tr>\n",
       "  </tbody>\n",
       "</table>\n",
       "</div>"
      ],
      "text/plain": [
       "   user_id  item_id  rating  timestamp\n",
       "0      196      242       3  881250949\n",
       "1      186      302       3  891717742\n",
       "2       22      377       1  878887116\n",
       "3      244       51       2  880606923\n",
       "4      166      346       1  886397596"
      ]
     },
     "execution_count": 3,
     "metadata": {},
     "output_type": "execute_result"
    }
   ],
   "source": [
    "%%time\n",
    "#df = load_movielens_data('ml-1m')\n",
    "df = load_movielens_data('ml-100k')\n",
    "df.head()"
   ]
  },
  {
   "cell_type": "code",
   "execution_count": 87,
   "id": "ec2095c3",
   "metadata": {},
   "outputs": [],
   "source": [
    "df['user_id'] = df['user_id'].astype('category')\n",
    "df['item_id'] = df['item_id'].astype('category')\n",
    "df['user_id'] = df['user_id'].cat.codes\n",
    "df['item_id'] = df['item_id'].cat.codes"
   ]
  },
  {
   "cell_type": "code",
   "execution_count": 88,
   "id": "c9d30ff2",
   "metadata": {},
   "outputs": [
    {
     "data": {
      "text/html": [
       "<div>\n",
       "<style scoped>\n",
       "    .dataframe tbody tr th:only-of-type {\n",
       "        vertical-align: middle;\n",
       "    }\n",
       "\n",
       "    .dataframe tbody tr th {\n",
       "        vertical-align: top;\n",
       "    }\n",
       "\n",
       "    .dataframe thead th {\n",
       "        text-align: right;\n",
       "    }\n",
       "</style>\n",
       "<table border=\"1\" class=\"dataframe\">\n",
       "  <thead>\n",
       "    <tr style=\"text-align: right;\">\n",
       "      <th></th>\n",
       "      <th>user_id</th>\n",
       "      <th>item_id</th>\n",
       "      <th>rating</th>\n",
       "      <th>timestamp</th>\n",
       "      <th>users</th>\n",
       "      <th>items</th>\n",
       "    </tr>\n",
       "  </thead>\n",
       "  <tbody>\n",
       "    <tr>\n",
       "      <th>0</th>\n",
       "      <td>195</td>\n",
       "      <td>241</td>\n",
       "      <td>3</td>\n",
       "      <td>881250949</td>\n",
       "      <td>195</td>\n",
       "      <td>241</td>\n",
       "    </tr>\n",
       "    <tr>\n",
       "      <th>1</th>\n",
       "      <td>185</td>\n",
       "      <td>301</td>\n",
       "      <td>3</td>\n",
       "      <td>891717742</td>\n",
       "      <td>185</td>\n",
       "      <td>301</td>\n",
       "    </tr>\n",
       "    <tr>\n",
       "      <th>2</th>\n",
       "      <td>21</td>\n",
       "      <td>376</td>\n",
       "      <td>1</td>\n",
       "      <td>878887116</td>\n",
       "      <td>21</td>\n",
       "      <td>376</td>\n",
       "    </tr>\n",
       "    <tr>\n",
       "      <th>3</th>\n",
       "      <td>243</td>\n",
       "      <td>50</td>\n",
       "      <td>2</td>\n",
       "      <td>880606923</td>\n",
       "      <td>243</td>\n",
       "      <td>50</td>\n",
       "    </tr>\n",
       "    <tr>\n",
       "      <th>4</th>\n",
       "      <td>165</td>\n",
       "      <td>345</td>\n",
       "      <td>1</td>\n",
       "      <td>886397596</td>\n",
       "      <td>165</td>\n",
       "      <td>345</td>\n",
       "    </tr>\n",
       "    <tr>\n",
       "      <th>...</th>\n",
       "      <td>...</td>\n",
       "      <td>...</td>\n",
       "      <td>...</td>\n",
       "      <td>...</td>\n",
       "      <td>...</td>\n",
       "      <td>...</td>\n",
       "    </tr>\n",
       "    <tr>\n",
       "      <th>99995</th>\n",
       "      <td>879</td>\n",
       "      <td>475</td>\n",
       "      <td>3</td>\n",
       "      <td>880175444</td>\n",
       "      <td>879</td>\n",
       "      <td>475</td>\n",
       "    </tr>\n",
       "    <tr>\n",
       "      <th>99996</th>\n",
       "      <td>715</td>\n",
       "      <td>203</td>\n",
       "      <td>5</td>\n",
       "      <td>879795543</td>\n",
       "      <td>715</td>\n",
       "      <td>203</td>\n",
       "    </tr>\n",
       "    <tr>\n",
       "      <th>99997</th>\n",
       "      <td>275</td>\n",
       "      <td>1089</td>\n",
       "      <td>1</td>\n",
       "      <td>874795795</td>\n",
       "      <td>275</td>\n",
       "      <td>1089</td>\n",
       "    </tr>\n",
       "    <tr>\n",
       "      <th>99998</th>\n",
       "      <td>12</td>\n",
       "      <td>224</td>\n",
       "      <td>2</td>\n",
       "      <td>882399156</td>\n",
       "      <td>12</td>\n",
       "      <td>224</td>\n",
       "    </tr>\n",
       "    <tr>\n",
       "      <th>99999</th>\n",
       "      <td>11</td>\n",
       "      <td>202</td>\n",
       "      <td>3</td>\n",
       "      <td>879959583</td>\n",
       "      <td>11</td>\n",
       "      <td>202</td>\n",
       "    </tr>\n",
       "  </tbody>\n",
       "</table>\n",
       "<p>100000 rows × 6 columns</p>\n",
       "</div>"
      ],
      "text/plain": [
       "       user_id  item_id  rating  timestamp  users  items\n",
       "0          195      241       3  881250949    195    241\n",
       "1          185      301       3  891717742    185    301\n",
       "2           21      376       1  878887116     21    376\n",
       "3          243       50       2  880606923    243     50\n",
       "4          165      345       1  886397596    165    345\n",
       "...        ...      ...     ...        ...    ...    ...\n",
       "99995      879      475       3  880175444    879    475\n",
       "99996      715      203       5  879795543    715    203\n",
       "99997      275     1089       1  874795795    275   1089\n",
       "99998       12      224       2  882399156     12    224\n",
       "99999       11      202       3  879959583     11    202\n",
       "\n",
       "[100000 rows x 6 columns]"
      ]
     },
     "execution_count": 88,
     "metadata": {},
     "output_type": "execute_result"
    }
   ],
   "source": [
    "df.user_id.unique()"
   ]
  },
  {
   "cell_type": "code",
   "execution_count": 90,
   "id": "e3ca8994",
   "metadata": {},
   "outputs": [],
   "source": [
    "dfshort_pos = df[df['rating'] > 3]\n",
    "dfshort_neg = df[df['rating'] <= 3]"
   ]
  },
  {
   "cell_type": "code",
   "execution_count": 91,
   "id": "27078d99",
   "metadata": {},
   "outputs": [
    {
     "name": "stdout",
     "output_type": "stream",
     "text": [
      "940 913\n"
     ]
    }
   ],
   "source": [
    "unique1 = dfshort_pos.user_id.unique()\n",
    "idf = dfshort_pos.groupby('user_id')['item_id'].count()\n",
    "unique2 = idf[idf>0].index.values\n",
    "users1 = np.intersect1d(unique1, unique2, assume_unique=True)\n",
    "\n",
    "unique1 = dfshort_neg.user_id.unique()\n",
    "idf = dfshort_neg.groupby('user_id')['item_id'].count()\n",
    "unique2 = idf[idf>0].index.values\n",
    "users2 = np.intersect1d(unique1, unique2, assume_unique=True)\n",
    "\n",
    "users = np.intersect1d(users1, users2, assume_unique=True)\n",
    "\n",
    "\n",
    "unique1 = dfshort_pos.item_id.unique()\n",
    "idf = dfshort_pos.groupby('item_id')['user_id'].count()\n",
    "unique2 = idf[idf>0].index.values\n",
    "items1 = np.intersect1d(unique1, unique2, assume_unique=True)\n",
    "\n",
    "unique1 = dfshort_neg.user_id.unique()\n",
    "idf = dfshort_neg.groupby('item_id')['user_id'].count()\n",
    "unique2 = idf[idf>0].index.values\n",
    "items2 = np.intersect1d(unique1, unique2, assume_unique=True)\n",
    "\n",
    "items = np.intersect1d(items1, items2, assume_unique=True)\n",
    "\n",
    "\n",
    "print(len(users), len(items))"
   ]
  },
  {
   "cell_type": "code",
   "execution_count": 92,
   "id": "bbd0db1b",
   "metadata": {},
   "outputs": [
    {
     "name": "stdout",
     "output_type": "stream",
     "text": [
      "Number of users: 940\n",
      "Number of items: 912\n",
      "Number of users: 940\n",
      "Number of items: 913\n"
     ]
    }
   ],
   "source": [
    "ibool = (dfshort_pos.user_id.isin(users)) & (dfshort_pos.item_id.isin(items))\n",
    "dfshort = dfshort_pos[ibool]\n",
    "cf_pos = UserItemInteractions(\n",
    "    name='MovieLens-100k',\n",
    "    users=dfshort['user_id'],\n",
    "    items=dfshort['item_id'],\n",
    "    min_num_rating_per_user=0,\n",
    "    min_num_rating_per_item=0,\n",
    "    num_cores = 1\n",
    ")\n",
    "cf_pos.generate_train_test(user_test_ratio=0.0)\n",
    "ibool = (dfshort_neg.user_id.isin(users)) & (dfshort_neg.item_id.isin(items))\n",
    "dfshort = dfshort_neg[ibool]\n",
    "cf_neg = UserItemInteractions(\n",
    "    name='MovieLens-100k',\n",
    "    users=dfshort['user_id'],\n",
    "    items=dfshort['item_id'],\n",
    "    min_num_rating_per_user=0,\n",
    "    min_num_rating_per_item=0,\n",
    "    num_cores = 1\n",
    ")\n",
    "cf_neg.generate_train_test(user_test_ratio=0.0)"
   ]
  },
  {
   "cell_type": "code",
   "execution_count": 85,
   "id": "7c60ed52",
   "metadata": {},
   "outputs": [],
   "source": [
    "bpr = BPR(\n",
    "    num_features=10,\n",
    "    reg_lambda=0.,\n",
    "    num_iters=10,\n",
    "    learning_rate = 0.5,\n",
    "    batch_size=5,\n",
    "    initial_std=0.01,\n",
    "    seed=None\n",
    ")"
   ]
  },
  {
   "cell_type": "code",
   "execution_count": 86,
   "id": "9cc22180",
   "metadata": {},
   "outputs": [
    {
     "name": "stderr",
     "output_type": "stream",
     "text": [
      "BPR:   0%|                                                         | 0/10 [00:00<?, ?it/s]"
     ]
    },
    {
     "name": "stdout",
     "output_type": "stream",
     "text": [
      "0-0: 934, 126, 700\n",
      "0-0: 203, 314, 57\n",
      "0-0: 140, 285, 284\n",
      "0-0: 274, 293, 145\n",
      "0-0: 648, 49, 942\n",
      "0-1: 34, 332, 561\n",
      "0-1: 922, 830, 662\n",
      "0-1: 176, 185, 868\n",
      "0-1: 369, 513, 116\n",
      "0-1: 866, 180, 499\n",
      "0-2: 532, 19, 435\n",
      "0-2: 340, 875, 22\n",
      "0-2: 653, 422, 616\n",
      "0-2: 861, 822, 213\n",
      "0-2: 79, 44, 434\n",
      "0-3: 400, 650, 12\n",
      "0-3: 238, 49, 702\n",
      "0-3: 910, 152, 226\n",
      "0-3: 132, 268, 44\n",
      "0-3: 100, 180, 54\n",
      "0-4: 455, 602, 547\n",
      "0-4: 619, 0, 185\n",
      "0-4: 283, 257, 179\n",
      "0-4: 858, 14, 113\n",
      "0-4: 295, 221, 66\n",
      "0-5: 440, 0, 501\n",
      "0-5: 872, 291, 467\n",
      "0-5: 230, 180, 527\n",
      "0-5: 818, 245, 157\n",
      "0-5: 241, 305, 718\n",
      "0-6: 148, 285, 791\n",
      "0-6: 153, 285, 262\n",
      "0-6: 596, 282, 21\n"
     ]
    },
    {
     "name": "stderr",
     "output_type": "stream",
     "text": [
      "\n"
     ]
    },
    {
     "ename": "ValueError",
     "evalue": "'a' cannot be empty unless no samples are taken",
     "output_type": "error",
     "traceback": [
      "\u001b[0;31m---------------------------------------------------------------------------\u001b[0m",
      "\u001b[0;31mValueError\u001b[0m                                Traceback (most recent call last)",
      "Input \u001b[0;32mIn [86]\u001b[0m, in \u001b[0;36m<cell line: 1>\u001b[0;34m()\u001b[0m\n\u001b[0;32m----> 1\u001b[0m \u001b[43mbpr\u001b[49m\u001b[38;5;241;43m.\u001b[39;49m\u001b[43mfit\u001b[49m\u001b[43m(\u001b[49m\u001b[43mcf_pos\u001b[49m\u001b[38;5;241;43m.\u001b[39;49m\u001b[43mR_train\u001b[49m\u001b[43m,\u001b[49m\u001b[43m \u001b[49m\u001b[38;5;28;43;01mNone\u001b[39;49;00m\u001b[43m)\u001b[49m\n",
      "File \u001b[0;32m/lustre/eaglefs/projects/zazzle/rsandhu/pybpr/pybpr/bpr.py:93\u001b[0m, in \u001b[0;36mBPR.fit\u001b[0;34m(self, train_mat, train_mat_neg, ndcg_func)\u001b[0m\n\u001b[1;32m     91\u001b[0m \u001b[38;5;28;01mfor\u001b[39;00m idx, user \u001b[38;5;129;01min\u001b[39;00m \u001b[38;5;28menumerate\u001b[39m(sampled_users):\n\u001b[1;32m     92\u001b[0m     pos_items \u001b[38;5;241m=\u001b[39m indices[indptr[user]:indptr[user \u001b[38;5;241m+\u001b[39m \u001b[38;5;241m1\u001b[39m]]\n\u001b[0;32m---> 93\u001b[0m     pos_item \u001b[38;5;241m=\u001b[39m \u001b[43mnp\u001b[49m\u001b[38;5;241;43m.\u001b[39;49m\u001b[43mrandom\u001b[49m\u001b[38;5;241;43m.\u001b[39;49m\u001b[43mchoice\u001b[49m\u001b[43m(\u001b[49m\u001b[43mpos_items\u001b[49m\u001b[43m)\u001b[49m\n\u001b[1;32m     94\u001b[0m     \u001b[38;5;28;01mif\u001b[39;00m train_mat_neg \u001b[38;5;129;01mis\u001b[39;00m \u001b[38;5;129;01mnot\u001b[39;00m \u001b[38;5;28;01mNone\u001b[39;00m:\n\u001b[1;32m     95\u001b[0m         neg_items \u001b[38;5;241m=\u001b[39m indicesn[indptrn[user]:indptrn[user \u001b[38;5;241m+\u001b[39m \u001b[38;5;241m1\u001b[39m]]\n",
      "File \u001b[0;32mmtrand.pyx:915\u001b[0m, in \u001b[0;36mnumpy.random.mtrand.RandomState.choice\u001b[0;34m()\u001b[0m\n",
      "\u001b[0;31mValueError\u001b[0m: 'a' cannot be empty unless no samples are taken"
     ]
    }
   ],
   "source": [
    "bpr.fit(cf_pos.R_train, None)"
   ]
  },
  {
   "cell_type": "code",
   "execution_count": null,
   "id": "043fb49a",
   "metadata": {},
   "outputs": [],
   "source": [
    "\n",
    "ndcg_df = pd.DataFrame(bpr.ndcg_metric)"
   ]
  },
  {
   "cell_type": "code",
   "execution_count": null,
   "id": "2b946437",
   "metadata": {},
   "outputs": [],
   "source": [
    "fig, ax = plt.subplots(1, 2, figsize=(10,3))\n",
    "ax[0].plot(ndcg_df['test'])\n",
    "ax[1].plot(ndcg_df['train'])"
   ]
  },
  {
   "cell_type": "code",
   "execution_count": null,
   "id": "0c664145",
   "metadata": {},
   "outputs": [],
   "source": [
    "#bpr_ndcg_func(test=True), bpr_ndcg_func(test=False)"
   ]
  },
  {
   "cell_type": "code",
   "execution_count": null,
   "id": "5e256abf",
   "metadata": {},
   "outputs": [],
   "source": [
    "ndcg_df"
   ]
  },
  {
   "cell_type": "code",
   "execution_count": null,
   "id": "a521f61d",
   "metadata": {},
   "outputs": [],
   "source": []
  },
  {
   "cell_type": "code",
   "execution_count": null,
   "id": "7c977646",
   "metadata": {},
   "outputs": [],
   "source": []
  }
 ],
 "metadata": {
  "kernelspec": {
   "display_name": "bpr_env",
   "language": "python",
   "name": "bpr_env"
  },
  "language_info": {
   "codemirror_mode": {
    "name": "ipython",
    "version": 3
   },
   "file_extension": ".py",
   "mimetype": "text/x-python",
   "name": "python",
   "nbconvert_exporter": "python",
   "pygments_lexer": "ipython3",
   "version": "3.10.6"
  }
 },
 "nbformat": 4,
 "nbformat_minor": 5
}
