{
 "cells": [
  {
   "cell_type": "markdown",
   "id": "dde5390d",
   "metadata": {},
   "source": [
    "## Application of BPR on Zazzle Data"
   ]
  },
  {
   "cell_type": "code",
   "execution_count": 1,
   "id": "4f4ca103",
   "metadata": {},
   "outputs": [],
   "source": [
    "%load_ext autoreload\n",
    "%autoreload 2"
   ]
  },
  {
   "cell_type": "code",
   "execution_count": 2,
   "id": "4af7d296",
   "metadata": {},
   "outputs": [],
   "source": [
    "import os\n",
    "import sys\n",
    "import itertools\n",
    "import numpy as np\n",
    "import pandas as pd\n",
    "from subprocess import call\n",
    "from pybpr import *\n",
    "import scipy.sparse as sp\n",
    "from functools import reduce\n",
    "import matplotlib.pyplot as plt\n",
    "from functools import partial"
   ]
  },
  {
   "cell_type": "markdown",
   "id": "43c1561b-beb6-4222-b3a7-1ac4a51e5452",
   "metadata": {},
   "source": [
    "## Process data from Zazzle"
   ]
  },
  {
   "cell_type": "code",
   "execution_count": 3,
   "id": "ee706802",
   "metadata": {},
   "outputs": [
    {
     "name": "stdout",
     "output_type": "stream",
     "text": [
      "CPU times: user 6.23 s, sys: 2.06 s, total: 8.29 s\n",
      "Wall time: 10.5 s\n"
     ]
    }
   ],
   "source": [
    "%%time\n",
    "data_dir = os.path.join(os.path.curdir, 'data', 'NREL')\n",
    "files = [os.path.join(data_dir,f'Clicks_{str(ix).zfill(4)}_part_00.parquet') for ix in range(80)]\n",
    "df = pd.concat([pd.read_parquet(ifile) for ifile in files])\n",
    "cdf = df[df['is_click']].copy() # click data\n",
    "vdf = df[~df['is_click']].copy() # not click is view data\n",
    "#df_click = df_click[~df_click['is_click']].copy()"
   ]
  },
  {
   "cell_type": "code",
   "execution_count": 4,
   "id": "fae7ffba",
   "metadata": {},
   "outputs": [
    {
     "name": "stdout",
     "output_type": "stream",
     "text": [
      "CPU times: user 139 ms, sys: 88.4 ms, total: 227 ms\n",
      "Wall time: 1.52 s\n"
     ]
    }
   ],
   "source": [
    "%%time\n",
    "files = [os.path.join(data_dir,f'OrderItems_{str(ix).zfill(4)}_part_00.parquet') for ix in range(80)]\n",
    "odf = pd.concat([pd.read_parquet(ifile) for ifile in files])"
   ]
  },
  {
   "cell_type": "code",
   "execution_count": 5,
   "id": "3b1c792e",
   "metadata": {},
   "outputs": [
    {
     "name": "stdout",
     "output_type": "stream",
     "text": [
      "CPU times: user 2.54 s, sys: 1.02 s, total: 3.56 s\n",
      "Wall time: 6.34 s\n"
     ]
    }
   ],
   "source": [
    "%%time\n",
    "files = [os.path.join(data_dir,f'Products_{str(ix).zfill(4)}_part_00.parquet') for ix in range(80)]\n",
    "pdf = pd.concat([pd.read_parquet(ifile) for ifile in files])"
   ]
  },
  {
   "cell_type": "code",
   "execution_count": 6,
   "id": "0ff44497",
   "metadata": {},
   "outputs": [],
   "source": [
    "vdf.drop(columns=['is_click','cleaned_url'], inplace=True, errors='ignore')\n",
    "cdf.drop(columns=['is_click','cleaned_url'], inplace=True, errors='ignore')\n",
    "cdf = pd.concat([cdf, odf]) # ensures order data is part of click data\n",
    "vdf = pd.concat([vdf, cdf]) # ensures click data is part of view data"
   ]
  },
  {
   "cell_type": "code",
   "execution_count": 7,
   "id": "bb30d18f",
   "metadata": {},
   "outputs": [],
   "source": [
    "# remove repeated entries\n",
    "cdf.drop_duplicates(subset=['user_id','product_id'], keep='last', inplace=True)\n",
    "vdf.drop_duplicates(subset=['user_id','product_id'], keep='last', inplace=True)\n",
    "odf.drop_duplicates(subset=['user_id','product_id'], keep='last', inplace=True)"
   ]
  },
  {
   "cell_type": "code",
   "execution_count": 8,
   "id": "696efd75-1cca-4e35-85ca-2279063dc82b",
   "metadata": {},
   "outputs": [
    {
     "name": "stdout",
     "output_type": "stream",
     "text": [
      "Views:  int=28927112 u=16511 i=779192\n",
      "Clicks: int=833698 u=16402 i=313452\n",
      "Orders: int=266638 u=16302 i=139654\n"
     ]
    }
   ],
   "source": [
    "print(f'Views:  int={vdf.shape[0]} u={vdf.user_id.nunique()} i={vdf.product_id.nunique()}')\n",
    "print(f'Clicks: int={cdf.shape[0]} u={cdf.user_id.nunique()} i={cdf.product_id.nunique()}')\n",
    "print(f'Orders: int={odf.shape[0]} u={odf.user_id.nunique()} i={odf.product_id.nunique()}')"
   ]
  },
  {
   "cell_type": "code",
   "execution_count": 9,
   "id": "c4d4238b",
   "metadata": {},
   "outputs": [
    {
     "name": "stdout",
     "output_type": "stream",
     "text": [
      "Valid Users = 16414\n",
      "Valid Items = 736254\n"
     ]
    }
   ],
   "source": [
    "idf = vdf.groupby('user_id')['product_id'].count().gt(10)\n",
    "valid_users = idf[idf].index.to_numpy()\n",
    "jdf = vdf.groupby('product_id')['user_id'].count().gt(10)\n",
    "valid_items = jdf[jdf].index.to_numpy()\n",
    "print(f'Valid Users = {valid_users.shape[0]}')\n",
    "print(f'Valid Items = {valid_items.shape[0]}')"
   ]
  },
  {
   "cell_type": "code",
   "execution_count": 10,
   "id": "3ec55c86",
   "metadata": {},
   "outputs": [
    {
     "name": "stdout",
     "output_type": "stream",
     "text": [
      "16414 16338 16244\n",
      "736254 305854 136873\n"
     ]
    }
   ],
   "source": [
    "common_users = reduce(np.intersect1d, (vdf.user_id, cdf.user_id, odf.user_id, valid_users))\n",
    "common_users = valid_users\n",
    "vdf = vdf[vdf.user_id.isin(common_users)].copy()\n",
    "cdf = cdf[cdf.user_id.isin(common_users)].copy()\n",
    "odf = odf[odf.user_id.isin(common_users)].copy()\n",
    "print(vdf.user_id.nunique(), cdf.user_id.nunique(), odf.user_id.nunique())\n",
    "common_items = reduce(np.intersect1d, (vdf.product_id, cdf.product_id, odf.product_id, valid_items))\n",
    "common_items=valid_items\n",
    "vdf = vdf[vdf.product_id.isin(common_items)].copy()\n",
    "cdf = cdf[cdf.product_id.isin(common_items)].copy()\n",
    "odf = odf[odf.product_id.isin(common_items)].copy()\n",
    "print(vdf.product_id.nunique(), cdf.product_id.nunique(), odf.product_id.nunique())"
   ]
  },
  {
   "cell_type": "code",
   "execution_count": null,
   "id": "de7f0ef1",
   "metadata": {},
   "outputs": [],
   "source": [
    "%%time\n",
    "# get indices for users and products\n",
    "for cname in ['user_id','product_id']:\n",
    "    vdf[cname] = vdf[cname].astype('category')\n",
    "    vdf[f'{cname}x'] = vdf[cname].cat.codes.astype(int)\n",
    "    cdf[cname] = pd.Categorical(\n",
    "        cdf[cname], \n",
    "        categories=vdf[cname].unique(), \n",
    "        ordered=False\n",
    "    )\n",
    "    cdf[f'{cname}x'] = cdf[cname].cat.codes.astype(int)\n",
    "    odf[cname] = pd.Categorical(\n",
    "        odf[cname], \n",
    "        categories=vdf[cname].unique(), \n",
    "        ordered=False\n",
    "    )\n",
    "    odf[f'{cname}x'] = odf[cname].cat.codes.astype(int)\n",
    "cname='product_id'\n",
    "pdf[cname] = pd.Categorical(\n",
    "    pdf[cname], \n",
    "    categories=vdf[cname].unique(), \n",
    "    ordered=False\n",
    ")\n",
    "pdf[f'{cname}x'] = pdf[cname].cat.codes.astype(int)\n",
    "# odf.groupby('product_id')['user_id'].count().sort_values()"
   ]
  },
  {
   "cell_type": "code",
   "execution_count": null,
   "id": "49b7b240-500c-49d5-9276-72665ab73e99",
   "metadata": {},
   "outputs": [],
   "source": [
    "vdf[vdf.product_idx==33]"
   ]
  },
  {
   "cell_type": "code",
   "execution_count": null,
   "id": "68f05565-6ce2-4d46-a015-ddb8c6cebb16",
   "metadata": {},
   "outputs": [],
   "source": [
    "cdf[cdf.product_idx==33]"
   ]
  },
  {
   "cell_type": "markdown",
   "id": "db159369-ebb0-45ce-9d86-d72abe05153f",
   "metadata": {},
   "source": [
    "## Put Zazzle data in UserItemInteration Class object"
   ]
  },
  {
   "cell_type": "code",
   "execution_count": null,
   "id": "89911099",
   "metadata": {},
   "outputs": [],
   "source": [
    "%%time\n",
    "num_users = vdf['user_idx'].max()+1\n",
    "num_items = vdf['product_idx'].max()+1\n",
    "view_data = UserItemInteractions(\n",
    "    name='ZAZZLE VIEW DATA',\n",
    "    users_index=vdf['user_idx'],\n",
    "    items_index=vdf['product_idx']\n",
    ")\n",
    "view_data.generate_train_test(user_test_ratio=0.2)"
   ]
  },
  {
   "cell_type": "code",
   "execution_count": null,
   "id": "0f943691-4edd-48b2-b47c-5b3edcbd78d5",
   "metadata": {},
   "outputs": [],
   "source": [
    "%%time\n",
    "click_data = UserItemInteractions(\n",
    "    name='ZAZZLE CLICK DATA',\n",
    "    users_index=cdf['user_idx'],\n",
    "    items_index=cdf['product_idx'],\n",
    "    num_users = num_users,\n",
    "    num_items = num_items\n",
    ")\n",
    "click_data.generate_train_test(user_test_ratio=0.2)"
   ]
  },
  {
   "cell_type": "code",
   "execution_count": null,
   "id": "584899c2-55aa-4a29-bfd0-d437d51bb703",
   "metadata": {},
   "outputs": [],
   "source": [
    "%%time\n",
    "order_data = UserItemInteractions(\n",
    "    name='ZAZZLE ORDER DATA',\n",
    "    users_index=odf['user_idx'],\n",
    "    items_index=odf['product_idx'],\n",
    "    num_users = num_users,\n",
    "    num_items = num_items\n",
    ")\n",
    "order_data.generate_train_test(user_test_ratio=0.2)"
   ]
  },
  {
   "cell_type": "markdown",
   "id": "a9d6885d-e0f6-4543-8271-821796e48b72",
   "metadata": {},
   "source": [
    "## BPR "
   ]
  },
  {
   "cell_type": "code",
   "execution_count": null,
   "id": "783a4e91-67c5-4602-835f-6582375ef52b",
   "metadata": {},
   "outputs": [],
   "source": [
    "bpr1 = BPR(\n",
    "    num_features=30,\n",
    "    reg_lambda=0.0001,\n",
    "    num_iters=50,\n",
    "    learning_rate = 0.02,\n",
    "    batch_size=200,\n",
    "    initial_std=0.001,\n",
    ")\n",
    "bpr1.initiate(uimat=order_data.mat)"
   ]
  },
  {
   "cell_type": "code",
   "execution_count": null,
   "id": "21267e5e-af25-422a-80d7-7f45632ea236",
   "metadata": {},
   "outputs": [],
   "source": [
    "results = bpr_fit(bpr_obj=bpr1, iumat=order_data.mat_train, ncores=104)"
   ]
  },
  {
   "cell_type": "code",
   "execution_count": null,
   "id": "a4a44f3d-72ec-4a8f-a544-2c05040d3b8e",
   "metadata": {},
   "outputs": [],
   "source": [
    "# computes the performance metric\n",
    "compute_metric(bpr1.umat, bpr1.imat, view_data.mat, user_count=2000, num_recs=60)"
   ]
  },
  {
   "cell_type": "code",
   "execution_count": null,
   "id": "1ce0d467-b034-4b69-881c-851010f2a913",
   "metadata": {},
   "outputs": [],
   "source": [
    "np.argmax([0,3,1,5])"
   ]
  },
  {
   "cell_type": "code",
   "execution_count": null,
   "id": "9e0febc4-e7b0-4919-bfde-c3ec37e3344e",
   "metadata": {},
   "outputs": [],
   "source": []
  }
 ],
 "metadata": {
  "kernelspec": {
   "display_name": "bpr_env",
   "language": "python",
   "name": "bpr_env"
  },
  "language_info": {
   "codemirror_mode": {
    "name": "ipython",
    "version": 3
   },
   "file_extension": ".py",
   "mimetype": "text/x-python",
   "name": "python",
   "nbconvert_exporter": "python",
   "pygments_lexer": "ipython3",
   "version": "3.12.1"
  }
 },
 "nbformat": 4,
 "nbformat_minor": 5
}
