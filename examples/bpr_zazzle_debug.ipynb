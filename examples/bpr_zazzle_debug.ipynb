{
 "cells": [
  {
   "cell_type": "markdown",
   "id": "dde5390d",
   "metadata": {},
   "source": [
    "## Application of BPR on Zazzle Data"
   ]
  },
  {
   "cell_type": "code",
   "execution_count": 1,
   "id": "4f4ca103",
   "metadata": {},
   "outputs": [],
   "source": [
    "%load_ext autoreload\n",
    "%autoreload 2"
   ]
  },
  {
   "cell_type": "code",
   "execution_count": 2,
   "id": "4af7d296",
   "metadata": {},
   "outputs": [],
   "source": [
    "import os\n",
    "import sys\n",
    "import itertools\n",
    "import numpy as np\n",
    "import pandas as pd\n",
    "from subprocess import call\n",
    "from pybpr import *\n",
    "import scipy.sparse as sp\n",
    "from functools import reduce\n",
    "import matplotlib.pyplot as plt\n",
    "from functools import partial"
   ]
  },
  {
   "cell_type": "markdown",
   "id": "43c1561b-beb6-4222-b3a7-1ac4a51e5452",
   "metadata": {},
   "source": [
    "## Process data from Zazzle"
   ]
  },
  {
   "cell_type": "code",
   "execution_count": 3,
   "id": "ee706802",
   "metadata": {},
   "outputs": [
    {
     "name": "stdout",
     "output_type": "stream",
     "text": [
      "CPU times: user 6.08 s, sys: 1.65 s, total: 7.73 s\n",
      "Wall time: 6.3 s\n"
     ]
    }
   ],
   "source": [
    "%%time\n",
    "data_dir = os.path.join(os.path.curdir, 'data', 'NREL')\n",
    "files = [os.path.join(data_dir,f'Clicks_{str(ix).zfill(4)}_part_00.parquet') for ix in range(80)]\n",
    "df = pd.concat([pd.read_parquet(ifile) for ifile in files])\n",
    "cdf = df[df['is_click']].copy() # click data\n",
    "vdf = df[~df['is_click']].copy() # not click is view data\n",
    "#df_click = df_click[~df_click['is_click']].copy()"
   ]
  },
  {
   "cell_type": "code",
   "execution_count": 4,
   "id": "fae7ffba",
   "metadata": {},
   "outputs": [
    {
     "name": "stdout",
     "output_type": "stream",
     "text": [
      "CPU times: user 116 ms, sys: 30.7 ms, total: 146 ms\n",
      "Wall time: 129 ms\n"
     ]
    }
   ],
   "source": [
    "%%time\n",
    "files = [os.path.join(data_dir,f'OrderItems_{str(ix).zfill(4)}_part_00.parquet') for ix in range(80)]\n",
    "odf = pd.concat([pd.read_parquet(ifile) for ifile in files])"
   ]
  },
  {
   "cell_type": "code",
   "execution_count": 5,
   "id": "3b1c792e",
   "metadata": {},
   "outputs": [
    {
     "name": "stdout",
     "output_type": "stream",
     "text": [
      "CPU times: user 2.54 s, sys: 668 ms, total: 3.21 s\n",
      "Wall time: 2.12 s\n"
     ]
    }
   ],
   "source": [
    "%%time\n",
    "files = [os.path.join(data_dir,f'Products_{str(ix).zfill(4)}_part_00.parquet') for ix in range(80)]\n",
    "pdf = pd.concat([pd.read_parquet(ifile) for ifile in files])"
   ]
  },
  {
   "cell_type": "code",
   "execution_count": 6,
   "id": "0ff44497",
   "metadata": {},
   "outputs": [],
   "source": [
    "vdf.drop(columns=['is_click','cleaned_url'], inplace=True, errors='ignore')\n",
    "cdf.drop(columns=['is_click','cleaned_url'], inplace=True, errors='ignore')\n",
    "cdf = pd.concat([cdf, odf]) # ensures order data is part of click data\n",
    "vdf = pd.concat([vdf, cdf]) # ensures click data is part of view data"
   ]
  },
  {
   "cell_type": "code",
   "execution_count": 23,
   "id": "2af0015f-9bc4-48b4-8494-70d5bda5128a",
   "metadata": {},
   "outputs": [
    {
     "data": {
      "text/html": [
       "<div>\n",
       "<style scoped>\n",
       "    .dataframe tbody tr th:only-of-type {\n",
       "        vertical-align: middle;\n",
       "    }\n",
       "\n",
       "    .dataframe tbody tr th {\n",
       "        vertical-align: top;\n",
       "    }\n",
       "\n",
       "    .dataframe thead th {\n",
       "        text-align: right;\n",
       "    }\n",
       "</style>\n",
       "<table border=\"1\" class=\"dataframe\">\n",
       "  <thead>\n",
       "    <tr style=\"text-align: right;\">\n",
       "      <th></th>\n",
       "      <th>user_id</th>\n",
       "      <th>date_created</th>\n",
       "      <th>product_id</th>\n",
       "      <th>user_idx</th>\n",
       "      <th>product_idx</th>\n",
       "    </tr>\n",
       "  </thead>\n",
       "  <tbody>\n",
       "    <tr>\n",
       "      <th>0</th>\n",
       "      <td>011fd642-8268-4b30-a9ab-038ffa5a33b6</td>\n",
       "      <td>1675585562</td>\n",
       "      <td>256455388267258097</td>\n",
       "      <td>67</td>\n",
       "      <td>538605</td>\n",
       "    </tr>\n",
       "    <tr>\n",
       "      <th>1</th>\n",
       "      <td>011fd642-8268-4b30-a9ab-038ffa5a33b6</td>\n",
       "      <td>1675585562</td>\n",
       "      <td>228981329284404608</td>\n",
       "      <td>67</td>\n",
       "      <td>200357</td>\n",
       "    </tr>\n",
       "    <tr>\n",
       "      <th>2</th>\n",
       "      <td>011fd642-8268-4b30-a9ab-038ffa5a33b6</td>\n",
       "      <td>1678206962</td>\n",
       "      <td>256009884926995133</td>\n",
       "      <td>67</td>\n",
       "      <td>375492</td>\n",
       "    </tr>\n",
       "    <tr>\n",
       "      <th>3</th>\n",
       "      <td>011fd642-8268-4b30-a9ab-038ffa5a33b6</td>\n",
       "      <td>1678206962</td>\n",
       "      <td>256944911110360906</td>\n",
       "      <td>67</td>\n",
       "      <td>716408</td>\n",
       "    </tr>\n",
       "    <tr>\n",
       "      <th>4</th>\n",
       "      <td>011fd642-8268-4b30-a9ab-038ffa5a33b6</td>\n",
       "      <td>1678206962</td>\n",
       "      <td>256996950913031084</td>\n",
       "      <td>67</td>\n",
       "      <td>735182</td>\n",
       "    </tr>\n",
       "  </tbody>\n",
       "</table>\n",
       "</div>"
      ],
      "text/plain": [
       "                                user_id  date_created          product_id  \\\n",
       "0  011fd642-8268-4b30-a9ab-038ffa5a33b6    1675585562  256455388267258097   \n",
       "1  011fd642-8268-4b30-a9ab-038ffa5a33b6    1675585562  228981329284404608   \n",
       "2  011fd642-8268-4b30-a9ab-038ffa5a33b6    1678206962  256009884926995133   \n",
       "3  011fd642-8268-4b30-a9ab-038ffa5a33b6    1678206962  256944911110360906   \n",
       "4  011fd642-8268-4b30-a9ab-038ffa5a33b6    1678206962  256996950913031084   \n",
       "\n",
       "   user_idx  product_idx  \n",
       "0        67       538605  \n",
       "1        67       200357  \n",
       "2        67       375492  \n",
       "3        67       716408  \n",
       "4        67       735182  "
      ]
     },
     "execution_count": 23,
     "metadata": {},
     "output_type": "execute_result"
    }
   ],
   "source": [
    "odf.head()"
   ]
  },
  {
   "cell_type": "code",
   "execution_count": 7,
   "id": "bb30d18f",
   "metadata": {},
   "outputs": [],
   "source": [
    "# remove repeated entries\n",
    "cdf.drop_duplicates(subset=['user_id','product_id'], keep='last', inplace=True)\n",
    "vdf.drop_duplicates(subset=['user_id','product_id'], keep='last', inplace=True)\n",
    "odf.drop_duplicates(subset=['user_id','product_id'], keep='last', inplace=True)"
   ]
  },
  {
   "cell_type": "code",
   "execution_count": 8,
   "id": "696efd75-1cca-4e35-85ca-2279063dc82b",
   "metadata": {},
   "outputs": [
    {
     "name": "stdout",
     "output_type": "stream",
     "text": [
      "Views:  int=28927112 u=16511 i=779192\n",
      "Clicks: int=833698 u=16402 i=313452\n",
      "Orders: int=266638 u=16302 i=139654\n"
     ]
    }
   ],
   "source": [
    "print(f'Views:  int={vdf.shape[0]} u={vdf.user_id.nunique()} i={vdf.product_id.nunique()}')\n",
    "print(f'Clicks: int={cdf.shape[0]} u={cdf.user_id.nunique()} i={cdf.product_id.nunique()}')\n",
    "print(f'Orders: int={odf.shape[0]} u={odf.user_id.nunique()} i={odf.product_id.nunique()}')"
   ]
  },
  {
   "cell_type": "code",
   "execution_count": 9,
   "id": "c4d4238b",
   "metadata": {},
   "outputs": [
    {
     "name": "stdout",
     "output_type": "stream",
     "text": [
      "Valid Users = 16414\n",
      "Valid Items = 736254\n"
     ]
    }
   ],
   "source": [
    "# \n",
    "idf = vdf.groupby('user_id')['product_id'].count().gt(10)\n",
    "valid_users = idf[idf].index.to_numpy()\n",
    "jdf = vdf.groupby('product_id')['user_id'].count().gt(10)\n",
    "valid_items = jdf[jdf].index.to_numpy()\n",
    "print(f'Valid Users = {valid_users.shape[0]}')\n",
    "print(f'Valid Items = {valid_items.shape[0]}')"
   ]
  },
  {
   "cell_type": "code",
   "execution_count": 10,
   "id": "3ec55c86",
   "metadata": {},
   "outputs": [
    {
     "name": "stdout",
     "output_type": "stream",
     "text": [
      "16414 16338 16244\n",
      "736254 305854 136873\n"
     ]
    }
   ],
   "source": [
    "common_users = reduce(np.intersect1d, (vdf.user_id, cdf.user_id, odf.user_id, valid_users))\n",
    "common_users = valid_users\n",
    "vdf = vdf[vdf.user_id.isin(common_users)].copy()\n",
    "cdf = cdf[cdf.user_id.isin(common_users)].copy()\n",
    "odf = odf[odf.user_id.isin(common_users)].copy()\n",
    "print(vdf.user_id.nunique(), cdf.user_id.nunique(), odf.user_id.nunique())\n",
    "common_items = reduce(np.intersect1d, (vdf.product_id, cdf.product_id, odf.product_id, valid_items))\n",
    "common_items=valid_items\n",
    "vdf = vdf[vdf.product_id.isin(common_items)].copy()\n",
    "cdf = cdf[cdf.product_id.isin(common_items)].copy()\n",
    "odf = odf[odf.product_id.isin(common_items)].copy()\n",
    "print(vdf.product_id.nunique(), cdf.product_id.nunique(), odf.product_id.nunique())"
   ]
  },
  {
   "cell_type": "code",
   "execution_count": 11,
   "id": "de7f0ef1",
   "metadata": {},
   "outputs": [
    {
     "name": "stdout",
     "output_type": "stream",
     "text": [
      "CPU times: user 2.94 s, sys: 238 ms, total: 3.18 s\n",
      "Wall time: 3.18 s\n"
     ]
    }
   ],
   "source": [
    "%%time\n",
    "# get indices for users and products\n",
    "for cname in ['user_id','product_id']:\n",
    "    vdf[cname] = vdf[cname].astype('category')\n",
    "    vdf[f'{cname}x'] = vdf[cname].cat.codes.astype(int)\n",
    "    cdf[cname] = pd.Categorical(\n",
    "        cdf[cname], \n",
    "        categories=vdf[cname].unique(), \n",
    "        ordered=False\n",
    "    )\n",
    "    cdf[f'{cname}x'] = cdf[cname].cat.codes.astype(int)\n",
    "    odf[cname] = pd.Categorical(\n",
    "        odf[cname], \n",
    "        categories=vdf[cname].unique(), \n",
    "        ordered=False\n",
    "    )\n",
    "    odf[f'{cname}x'] = odf[cname].cat.codes.astype(int)\n",
    "cname='product_id'\n",
    "pdf[cname] = pd.Categorical(\n",
    "    pdf[cname], \n",
    "    categories=vdf[cname].unique(), \n",
    "    ordered=False\n",
    ")\n",
    "pdf[f'{cname}x'] = pdf[cname].cat.codes.astype(int)\n",
    "# odf.groupby('product_id')['user_id'].count().sort_values()"
   ]
  },
  {
   "cell_type": "code",
   "execution_count": 12,
   "id": "49b7b240-500c-49d5-9276-72665ab73e99",
   "metadata": {},
   "outputs": [
    {
     "data": {
      "text/html": [
       "<div>\n",
       "<style scoped>\n",
       "    .dataframe tbody tr th:only-of-type {\n",
       "        vertical-align: middle;\n",
       "    }\n",
       "\n",
       "    .dataframe tbody tr th {\n",
       "        vertical-align: top;\n",
       "    }\n",
       "\n",
       "    .dataframe thead th {\n",
       "        text-align: right;\n",
       "    }\n",
       "</style>\n",
       "<table border=\"1\" class=\"dataframe\">\n",
       "  <thead>\n",
       "    <tr style=\"text-align: right;\">\n",
       "      <th></th>\n",
       "      <th>user_id</th>\n",
       "      <th>date_created</th>\n",
       "      <th>product_id</th>\n",
       "      <th>user_idx</th>\n",
       "      <th>product_idx</th>\n",
       "    </tr>\n",
       "  </thead>\n",
       "  <tbody>\n",
       "    <tr>\n",
       "      <th>245167</th>\n",
       "      <td>6db7097f-7109-4e0a-b1d7-6941f9361231</td>\n",
       "      <td>1668170220</td>\n",
       "      <td>106001757029220378</td>\n",
       "      <td>6988</td>\n",
       "      <td>33</td>\n",
       "    </tr>\n",
       "    <tr>\n",
       "      <th>405687</th>\n",
       "      <td>c2c9f150-1462-4e06-b6ac-d8fb984470c9</td>\n",
       "      <td>1668763238</td>\n",
       "      <td>106001757029220378</td>\n",
       "      <td>12461</td>\n",
       "      <td>33</td>\n",
       "    </tr>\n",
       "    <tr>\n",
       "      <th>528956</th>\n",
       "      <td>e92b45f2-ea6c-4daa-bd3a-8bfab2e126dc</td>\n",
       "      <td>1671377316</td>\n",
       "      <td>106001757029220378</td>\n",
       "      <td>14975</td>\n",
       "      <td>33</td>\n",
       "    </tr>\n",
       "    <tr>\n",
       "      <th>483320</th>\n",
       "      <td>cdff49f8-8663-4aa4-9ce8-e2e6dad503d9</td>\n",
       "      <td>1667721154</td>\n",
       "      <td>106001757029220378</td>\n",
       "      <td>13198</td>\n",
       "      <td>33</td>\n",
       "    </tr>\n",
       "    <tr>\n",
       "      <th>107846</th>\n",
       "      <td>37c1651e-269a-46f4-b11e-02985ed1a0d7</td>\n",
       "      <td>1667992571</td>\n",
       "      <td>106001757029220378</td>\n",
       "      <td>3576</td>\n",
       "      <td>33</td>\n",
       "    </tr>\n",
       "    <tr>\n",
       "      <th>...</th>\n",
       "      <td>...</td>\n",
       "      <td>...</td>\n",
       "      <td>...</td>\n",
       "      <td>...</td>\n",
       "      <td>...</td>\n",
       "    </tr>\n",
       "    <tr>\n",
       "      <th>552998</th>\n",
       "      <td>f5f6014e-4705-440c-a61e-81159fc8d8fb</td>\n",
       "      <td>1669613849</td>\n",
       "      <td>106001757029220378</td>\n",
       "      <td>15806</td>\n",
       "      <td>33</td>\n",
       "    </tr>\n",
       "    <tr>\n",
       "      <th>63005</th>\n",
       "      <td>2cc74a67-5f36-49b0-aead-43b3e0b6d222</td>\n",
       "      <td>1669725218</td>\n",
       "      <td>106001757029220378</td>\n",
       "      <td>2854</td>\n",
       "      <td>33</td>\n",
       "    </tr>\n",
       "    <tr>\n",
       "      <th>178142</th>\n",
       "      <td>3b265f20-8b23-4d24-be12-b6abebaf11a4</td>\n",
       "      <td>1665512560</td>\n",
       "      <td>106001757029220378</td>\n",
       "      <td>3791</td>\n",
       "      <td>33</td>\n",
       "    </tr>\n",
       "    <tr>\n",
       "      <th>2932</th>\n",
       "      <td>d7e49f54-a018-42a7-9767-d7db39c35030</td>\n",
       "      <td>1668407876</td>\n",
       "      <td>106001757029220378</td>\n",
       "      <td>13842</td>\n",
       "      <td>33</td>\n",
       "    </tr>\n",
       "    <tr>\n",
       "      <th>136</th>\n",
       "      <td>0c27b758-e2d1-4aac-b1b8-a5bc9a830fc1</td>\n",
       "      <td>1669122077</td>\n",
       "      <td>106001757029220378</td>\n",
       "      <td>779</td>\n",
       "      <td>33</td>\n",
       "    </tr>\n",
       "  </tbody>\n",
       "</table>\n",
       "<p>153 rows × 5 columns</p>\n",
       "</div>"
      ],
      "text/plain": [
       "                                     user_id  date_created  \\\n",
       "245167  6db7097f-7109-4e0a-b1d7-6941f9361231    1668170220   \n",
       "405687  c2c9f150-1462-4e06-b6ac-d8fb984470c9    1668763238   \n",
       "528956  e92b45f2-ea6c-4daa-bd3a-8bfab2e126dc    1671377316   \n",
       "483320  cdff49f8-8663-4aa4-9ce8-e2e6dad503d9    1667721154   \n",
       "107846  37c1651e-269a-46f4-b11e-02985ed1a0d7    1667992571   \n",
       "...                                      ...           ...   \n",
       "552998  f5f6014e-4705-440c-a61e-81159fc8d8fb    1669613849   \n",
       "63005   2cc74a67-5f36-49b0-aead-43b3e0b6d222    1669725218   \n",
       "178142  3b265f20-8b23-4d24-be12-b6abebaf11a4    1665512560   \n",
       "2932    d7e49f54-a018-42a7-9767-d7db39c35030    1668407876   \n",
       "136     0c27b758-e2d1-4aac-b1b8-a5bc9a830fc1    1669122077   \n",
       "\n",
       "                product_id  user_idx  product_idx  \n",
       "245167  106001757029220378      6988           33  \n",
       "405687  106001757029220378     12461           33  \n",
       "528956  106001757029220378     14975           33  \n",
       "483320  106001757029220378     13198           33  \n",
       "107846  106001757029220378      3576           33  \n",
       "...                    ...       ...          ...  \n",
       "552998  106001757029220378     15806           33  \n",
       "63005   106001757029220378      2854           33  \n",
       "178142  106001757029220378      3791           33  \n",
       "2932    106001757029220378     13842           33  \n",
       "136     106001757029220378       779           33  \n",
       "\n",
       "[153 rows x 5 columns]"
      ]
     },
     "execution_count": 12,
     "metadata": {},
     "output_type": "execute_result"
    }
   ],
   "source": [
    "vdf[vdf.product_idx==33]"
   ]
  },
  {
   "cell_type": "code",
   "execution_count": 13,
   "id": "68f05565-6ce2-4d46-a015-ddb8c6cebb16",
   "metadata": {},
   "outputs": [
    {
     "data": {
      "text/html": [
       "<div>\n",
       "<style scoped>\n",
       "    .dataframe tbody tr th:only-of-type {\n",
       "        vertical-align: middle;\n",
       "    }\n",
       "\n",
       "    .dataframe tbody tr th {\n",
       "        vertical-align: top;\n",
       "    }\n",
       "\n",
       "    .dataframe thead th {\n",
       "        text-align: right;\n",
       "    }\n",
       "</style>\n",
       "<table border=\"1\" class=\"dataframe\">\n",
       "  <thead>\n",
       "    <tr style=\"text-align: right;\">\n",
       "      <th></th>\n",
       "      <th>user_id</th>\n",
       "      <th>date_created</th>\n",
       "      <th>product_id</th>\n",
       "      <th>user_idx</th>\n",
       "      <th>product_idx</th>\n",
       "    </tr>\n",
       "  </thead>\n",
       "  <tbody>\n",
       "    <tr>\n",
       "      <th>552998</th>\n",
       "      <td>f5f6014e-4705-440c-a61e-81159fc8d8fb</td>\n",
       "      <td>1669613849</td>\n",
       "      <td>106001757029220378</td>\n",
       "      <td>15806</td>\n",
       "      <td>33</td>\n",
       "    </tr>\n",
       "    <tr>\n",
       "      <th>63005</th>\n",
       "      <td>2cc74a67-5f36-49b0-aead-43b3e0b6d222</td>\n",
       "      <td>1669725218</td>\n",
       "      <td>106001757029220378</td>\n",
       "      <td>2854</td>\n",
       "      <td>33</td>\n",
       "    </tr>\n",
       "    <tr>\n",
       "      <th>178142</th>\n",
       "      <td>3b265f20-8b23-4d24-be12-b6abebaf11a4</td>\n",
       "      <td>1665512560</td>\n",
       "      <td>106001757029220378</td>\n",
       "      <td>3791</td>\n",
       "      <td>33</td>\n",
       "    </tr>\n",
       "    <tr>\n",
       "      <th>2932</th>\n",
       "      <td>d7e49f54-a018-42a7-9767-d7db39c35030</td>\n",
       "      <td>1668407876</td>\n",
       "      <td>106001757029220378</td>\n",
       "      <td>13842</td>\n",
       "      <td>33</td>\n",
       "    </tr>\n",
       "    <tr>\n",
       "      <th>136</th>\n",
       "      <td>0c27b758-e2d1-4aac-b1b8-a5bc9a830fc1</td>\n",
       "      <td>1669122077</td>\n",
       "      <td>106001757029220378</td>\n",
       "      <td>779</td>\n",
       "      <td>33</td>\n",
       "    </tr>\n",
       "  </tbody>\n",
       "</table>\n",
       "</div>"
      ],
      "text/plain": [
       "                                     user_id  date_created  \\\n",
       "552998  f5f6014e-4705-440c-a61e-81159fc8d8fb    1669613849   \n",
       "63005   2cc74a67-5f36-49b0-aead-43b3e0b6d222    1669725218   \n",
       "178142  3b265f20-8b23-4d24-be12-b6abebaf11a4    1665512560   \n",
       "2932    d7e49f54-a018-42a7-9767-d7db39c35030    1668407876   \n",
       "136     0c27b758-e2d1-4aac-b1b8-a5bc9a830fc1    1669122077   \n",
       "\n",
       "                product_id  user_idx  product_idx  \n",
       "552998  106001757029220378     15806           33  \n",
       "63005   106001757029220378      2854           33  \n",
       "178142  106001757029220378      3791           33  \n",
       "2932    106001757029220378     13842           33  \n",
       "136     106001757029220378       779           33  "
      ]
     },
     "execution_count": 13,
     "metadata": {},
     "output_type": "execute_result"
    }
   ],
   "source": [
    "cdf[cdf.product_idx==33]"
   ]
  },
  {
   "cell_type": "markdown",
   "id": "db159369-ebb0-45ce-9d86-d72abe05153f",
   "metadata": {},
   "source": [
    "## Put Zazzle data in UserItemInteration Class object"
   ]
  },
  {
   "cell_type": "code",
   "execution_count": 14,
   "id": "89911099",
   "metadata": {},
   "outputs": [
    {
     "name": "stdout",
     "output_type": "stream",
     "text": [
      "----UserItemInteractions--ZAZZLE VIEW DATA\n",
      "# of users (active/total): 16414/16414\n",
      "# of items (active/total): 736254/736254\n",
      "# of interactions: 28497248\n",
      "Sparsity in the UI mat: 0.002358\n",
      "Memory used by sparse UI mat: 27.18 MB\n",
      "\n",
      "Generating train-test split..done\n",
      "CPU times: user 1min, sys: 1.82 s, total: 1min 2s\n",
      "Wall time: 1min 2s\n"
     ]
    }
   ],
   "source": [
    "%%time\n",
    "num_users = vdf['user_idx'].max()+1\n",
    "num_items = vdf['product_idx'].max()+1\n",
    "view_data = UserItemInteractions(\n",
    "    name='ZAZZLE VIEW DATA',\n",
    "    users_index=vdf['user_idx'],\n",
    "    items_index=vdf['product_idx']\n",
    ")\n",
    "view_data.generate_train_test(user_test_ratio=0.2)"
   ]
  },
  {
   "cell_type": "code",
   "execution_count": 15,
   "id": "0f943691-4edd-48b2-b47c-5b3edcbd78d5",
   "metadata": {},
   "outputs": [
    {
     "name": "stdout",
     "output_type": "stream",
     "text": [
      "----UserItemInteractions--ZAZZLE CLICK DATA\n",
      "# of users (active/total): 16317/16414\n",
      "# of items (active/total): 305854/736254\n",
      "# of interactions: 824856\n",
      "Sparsity in the UI mat: 6.8e-05\n",
      "Memory used by sparse UI mat: 0.79 MB\n",
      "\n",
      "Generating train-test split..done\n",
      "CPU times: user 3.38 s, sys: 13.1 ms, total: 3.39 s\n",
      "Wall time: 3.4 s\n"
     ]
    }
   ],
   "source": [
    "%%time\n",
    "click_data = UserItemInteractions(\n",
    "    name='ZAZZLE CLICK DATA',\n",
    "    users_index=cdf['user_idx'],\n",
    "    items_index=cdf['product_idx'],\n",
    "    num_users = num_users,\n",
    "    num_items = num_items\n",
    ")\n",
    "click_data.generate_train_test(user_test_ratio=0.2)"
   ]
  },
  {
   "cell_type": "code",
   "execution_count": 16,
   "id": "584899c2-55aa-4a29-bfd0-d437d51bb703",
   "metadata": {},
   "outputs": [
    {
     "name": "stdout",
     "output_type": "stream",
     "text": [
      "----UserItemInteractions--ZAZZLE ORDER DATA\n",
      "# of users (active/total): 16218/16414\n",
      "# of items (active/total): 136873/736254\n",
      "# of interactions: 263623\n",
      "Sparsity in the UI mat: 2.2e-05\n",
      "Memory used by sparse UI mat: 0.25 MB\n",
      "\n",
      "Generating train-test split..done\n",
      "CPU times: user 2.11 s, sys: 11.7 ms, total: 2.12 s\n",
      "Wall time: 2.11 s\n"
     ]
    }
   ],
   "source": [
    "%%time\n",
    "order_data = UserItemInteractions(\n",
    "    name='ZAZZLE ORDER DATA',\n",
    "    users_index=odf['user_idx'],\n",
    "    items_index=odf['product_idx'],\n",
    "    num_users = num_users,\n",
    "    num_items = num_items\n",
    ")\n",
    "order_data.generate_train_test(user_test_ratio=0.2)"
   ]
  },
  {
   "cell_type": "markdown",
   "id": "a9d6885d-e0f6-4543-8271-821796e48b72",
   "metadata": {},
   "source": [
    "## BPR "
   ]
  },
  {
   "cell_type": "code",
   "execution_count": 53,
   "id": "783a4e91-67c5-4602-835f-6582375ef52b",
   "metadata": {},
   "outputs": [],
   "source": [
    "bpr1 = BPR(\n",
    "    num_features=30,\n",
    "    reg_lambda=0.0001,\n",
    "    num_iters=500,\n",
    "    learning_rate = 0.02,\n",
    "    batch_size=200,\n",
    "    initial_std=0.001,\n",
    ")\n",
    "bpr1.initiate(uimat=view_data.mat)\n",
    "\n",
    "bpr2 = BPR(\n",
    "    num_features=50,\n",
    "    reg_lambda=0.0001,\n",
    "    num_iters=500,\n",
    "    learning_rate = 0.02,\n",
    "    batch_size=200,\n",
    "    initial_std=0.001,\n",
    ")\n",
    "bpr1.initiate(uimat=view_data.mat)\n"
   ]
  },
  {
   "cell_type": "code",
   "execution_count": 18,
   "id": "21267e5e-af25-422a-80d7-7f45632ea236",
   "metadata": {},
   "outputs": [
    {
     "name": "stdout",
     "output_type": "stream",
     "text": [
      "Fit: 100%|██████████| 10000/10000 [00:02<00:00, 4348.50it/s]\n"
     ]
    }
   ],
   "source": [
    "# bpr1.umat, bpr1.imat = random\n",
    "results = bpr_fit(bpr_obj=bpr1, iumat=view_data.mat_train, ncores=104)\n",
    "# bpr1.umat, bpr1.imat = optimized based on view data\n",
    "#bpr1.initiate(uimat=view_data.mat) = bpr1.umat, bpr1.imat = random\n",
    "# reuse the optimized bpr1.umat, bpr1.imat matrices from view_data+bpr\n",
    "results = bpr_fit(bpr_obj=bpr1, iumat=click_data.mat_train, ncores=104)\n",
    "#results = bpr_fit(bpr_obj=bpr1, iumat=order_data.mat_train, ncores=104)"
   ]
  },
  {
   "cell_type": "code",
   "execution_count": 54,
   "id": "e875ba76-0a74-4b0d-932d-6d07ff0cae24",
   "metadata": {},
   "outputs": [
    {
     "data": {
      "text/plain": [
       "(array([[ 4.71435164e-04, -1.19097569e-03,  1.43270697e-03, ...,\n",
       "         -1.81702723e-03, -1.83108540e-04,  1.05896919e-03],\n",
       "        [-3.97840228e-04,  3.37437654e-04,  1.04757857e-03, ...,\n",
       "         -3.55130253e-05,  5.65738306e-04,  1.54565880e-03],\n",
       "        [-9.74236334e-04, -7.03448771e-05,  3.07968855e-04, ...,\n",
       "          9.84919842e-04,  2.70835849e-04,  1.39198619e-03],\n",
       "        ...,\n",
       "        [ 9.40525513e-04, -1.61735474e-03,  1.11887761e-03, ...,\n",
       "         -2.08147712e-03, -1.13396655e-05,  1.40192829e-03],\n",
       "        [ 3.22198654e-04, -5.85506895e-04, -7.57560851e-04, ...,\n",
       "          3.69511923e-04,  6.40454740e-04,  1.30747529e-03],\n",
       "        [-1.05409526e-03, -4.49854298e-04, -3.60128825e-04, ...,\n",
       "          1.21015351e-03,  1.53883427e-03, -1.23499802e-03]]),\n",
       " array([[ 2.40535992e-03, -1.55488771e-04,  1.26797171e-03, ...,\n",
       "         -1.06594109e-03, -7.30695079e-04,  2.93247923e-04],\n",
       "        [-5.46111734e-06,  2.32809644e-04,  4.36806429e-04, ...,\n",
       "          9.69326898e-04, -9.73523851e-04,  3.34485974e-04],\n",
       "        [ 7.06387499e-04, -6.43521112e-04,  6.58946472e-04, ...,\n",
       "         -1.38742273e-03,  1.07501003e-03,  1.05228000e-03],\n",
       "        ...,\n",
       "        [ 1.52880355e-03,  4.73933415e-04,  1.73487874e-03, ...,\n",
       "         -3.20624879e-04,  1.69051904e-04,  7.99762333e-04],\n",
       "        [-4.39042796e-04,  8.95189716e-04,  7.40826810e-04, ...,\n",
       "         -1.90190751e-03, -1.49683689e-04, -9.98165484e-04],\n",
       "        [-1.22778414e-03, -1.95373719e-05, -1.47115879e-03, ...,\n",
       "          6.89231685e-04,  1.17474923e-03, -7.37318303e-04]]))"
      ]
     },
     "execution_count": 54,
     "metadata": {},
     "output_type": "execute_result"
    }
   ],
   "source": [
    "bpr1.umat, bpr1.imat"
   ]
  },
  {
   "cell_type": "code",
   "execution_count": 19,
   "id": "a4a44f3d-72ec-4a8f-a544-2c05040d3b8e",
   "metadata": {},
   "outputs": [
    {
     "data": {
      "text/plain": [
       "1200"
      ]
     },
     "execution_count": 19,
     "metadata": {},
     "output_type": "execute_result"
    }
   ],
   "source": [
    "# computes the performance metric\n",
    "compute_metric(bpr1.umat, bpr1.imat, order_data.mat, user_count=2000, num_recs=60)"
   ]
  },
  {
   "cell_type": "code",
   "execution_count": 36,
   "id": "9e0febc4-e7b0-4919-bfde-c3ec37e3344e",
   "metadata": {},
   "outputs": [],
   "source": [
    "rec_items = order_data.get_top_items_for_this_user(30, user_mat=bpr1.umat, item_mat=bpr1.imat, num_items=60, exclude_liked=True)"
   ]
  },
  {
   "cell_type": "code",
   "execution_count": 40,
   "id": "91db6ea1-bf97-4e8a-90b8-5615475f9ef3",
   "metadata": {},
   "outputs": [
    {
     "data": {
      "text/plain": [
       "(16414, 30)"
      ]
     },
     "execution_count": 40,
     "metadata": {},
     "output_type": "execute_result"
    }
   ],
   "source": [
    "bpr1.umat.shape"
   ]
  },
  {
   "cell_type": "code",
   "execution_count": 41,
   "id": "4a1d3aa6-8177-4e05-ad2c-8e587b60444c",
   "metadata": {},
   "outputs": [
    {
     "data": {
      "text/plain": [
       "100000"
      ]
     },
     "execution_count": 41,
     "metadata": {},
     "output_type": "execute_result"
    }
   ],
   "source": [
    "2000*5000"
   ]
  },
  {
   "cell_type": "code",
   "execution_count": 50,
   "id": "3faeeb19-16c4-42e3-9b77-6cc9dfdb0aab",
   "metadata": {},
   "outputs": [
    {
     "data": {
      "text/plain": [
       "22791229"
      ]
     },
     "execution_count": 50,
     "metadata": {},
     "output_type": "execute_result"
    }
   ],
   "source": [
    "view_data.mat_train.nnz"
   ]
  },
  {
   "cell_type": "code",
   "execution_count": 48,
   "id": "bae59ac8-40f6-42e6-a851-48a614310f50",
   "metadata": {},
   "outputs": [
    {
     "data": {
      "text/plain": [
       "0.00829436646327899"
      ]
     },
     "execution_count": 48,
     "metadata": {},
     "output_type": "execute_result"
    }
   ],
   "source": [
    "(2000*50000)/(16414*736254 - view_data.mat.nnz)"
   ]
  },
  {
   "cell_type": "code",
   "execution_count": 44,
   "id": "d5908497-59a4-4784-94f9-a998d6f2386e",
   "metadata": {},
   "outputs": [
    {
     "data": {
      "text/plain": [
       "28497248"
      ]
     },
     "execution_count": 44,
     "metadata": {},
     "output_type": "execute_result"
    }
   ],
   "source": [
    "view_data.mat.nnz"
   ]
  },
  {
   "cell_type": "code",
   "execution_count": null,
   "id": "8104c0e0-140e-447c-ac27-7421047eae0c",
   "metadata": {},
   "outputs": [],
   "source": [
    "view_data"
   ]
  }
 ],
 "metadata": {
  "kernelspec": {
   "display_name": "bpr_env",
   "language": "python",
   "name": "bpr_env"
  },
  "language_info": {
   "codemirror_mode": {
    "name": "ipython",
    "version": 3
   },
   "file_extension": ".py",
   "mimetype": "text/x-python",
   "name": "python",
   "nbconvert_exporter": "python",
   "pygments_lexer": "ipython3",
   "version": "3.12.1"
  }
 },
 "nbformat": 4,
 "nbformat_minor": 5
}
