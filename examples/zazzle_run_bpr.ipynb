{
 "cells": [
  {
   "cell_type": "markdown",
   "id": "dde5390d",
   "metadata": {},
   "source": [
    "## Application of BPR on Zazzle Data"
   ]
  },
  {
   "cell_type": "code",
   "execution_count": 1,
   "id": "4f4ca103",
   "metadata": {},
   "outputs": [],
   "source": [
    "%load_ext autoreload\n",
    "%autoreload 2"
   ]
  },
  {
   "cell_type": "code",
   "execution_count": 2,
   "id": "4af7d296",
   "metadata": {},
   "outputs": [
    {
     "name": "stdout",
     "output_type": "stream",
     "text": [
      "The history saving thread hit an unexpected error (OperationalError('database is locked')).History will not be written to the database.\n"
     ]
    }
   ],
   "source": [
    "import os\n",
    "import sys\n",
    "import itertools\n",
    "import numpy as np\n",
    "import pandas as pd\n",
    "from subprocess import call\n",
    "from pybpr import *\n",
    "import scipy.sparse as sp\n",
    "from functools import reduce\n",
    "import matplotlib.pyplot as plt\n",
    "from functools import partial"
   ]
  },
  {
   "cell_type": "markdown",
   "id": "db159369-ebb0-45ce-9d86-d72abe05153f",
   "metadata": {},
   "source": [
    "## Put Zazzle data in UserItemInteration Class object"
   ]
  },
  {
   "cell_type": "code",
   "execution_count": 3,
   "id": "17296352-cd76-464b-9ce7-dc0cff34d9cd",
   "metadata": {},
   "outputs": [],
   "source": [
    "DATA_DIR = '/projects/zazzle/rsandhu/pybpr/examples/output/zazzle_data'\n",
    "vdf = pd.read_parquet(os.path.join(DATA_DIR, 'view_data.parquet'))\n",
    "cdf = pd.read_parquet(os.path.join(DATA_DIR, 'click_data.parquet'))\n",
    "odf = pd.read_parquet(os.path.join(DATA_DIR, 'order_data.parquet'))"
   ]
  },
  {
   "cell_type": "code",
   "execution_count": 4,
   "id": "89911099",
   "metadata": {},
   "outputs": [
    {
     "name": "stdout",
     "output_type": "stream",
     "text": [
      "\n",
      "----UserItemInteractions--ZAZZLE VIEW DATA\n",
      "# of users (active/total): 16462/16462\n",
      "# of items (active/total): 779192/779192\n",
      "# of interactions: 28926971\n",
      "Sparsity in the UI mat: 0.002255\n",
      "Memory used by sparse UI mat: 27.59 MB\n",
      "Generating train-test split..Warning: Test matrix is set as empty/all-zeros\n",
      "CPU times: user 2.07 s, sys: 142 ms, total: 2.21 s\n",
      "Wall time: 2.19 s\n"
     ]
    }
   ],
   "source": [
    "%%time\n",
    "num_users = vdf['user_idx'].max()+1\n",
    "num_items = vdf['product_idx'].max()+1\n",
    "view_data = UserItemInteractions(\n",
    "    name='ZAZZLE VIEW DATA',\n",
    "    users_index=vdf['user_idx'],\n",
    "    items_index=vdf['product_idx']\n",
    ")\n",
    "view_data.generate_train_test(user_test_ratio=0.0)"
   ]
  },
  {
   "cell_type": "code",
   "execution_count": 5,
   "id": "0f943691-4edd-48b2-b47c-5b3edcbd78d5",
   "metadata": {},
   "outputs": [
    {
     "name": "stdout",
     "output_type": "stream",
     "text": [
      "\n",
      "----UserItemInteractions--ZAZZLE CLICK DATA\n",
      "# of users (active/total): 16375/16462\n",
      "# of items (active/total): 313420/779192\n",
      "# of interactions: 833645\n",
      "Sparsity in the UI mat: 6.5e-05\n",
      "Memory used by sparse UI mat: 0.8 MB\n",
      "Generating train-test split..Warning: Test matrix is set as empty/all-zeros\n",
      "CPU times: user 88.2 ms, sys: 1.2 ms, total: 89.4 ms\n",
      "Wall time: 89.3 ms\n"
     ]
    }
   ],
   "source": [
    "%%time\n",
    "click_data = UserItemInteractions(\n",
    "    name='ZAZZLE CLICK DATA',\n",
    "    users_index=cdf['user_idx'],\n",
    "    items_index=cdf['product_idx'],\n",
    "    num_users = num_users,\n",
    "    num_items = num_items\n",
    ")\n",
    "click_data.generate_train_test(user_test_ratio=0.0)"
   ]
  },
  {
   "cell_type": "code",
   "execution_count": 6,
   "id": "584899c2-55aa-4a29-bfd0-d437d51bb703",
   "metadata": {},
   "outputs": [
    {
     "name": "stdout",
     "output_type": "stream",
     "text": [
      "\n",
      "----UserItemInteractions--ZAZZLE ORDER DATA\n",
      "# of users (active/total): 16278/16462\n",
      "# of items (active/total): 139623/779192\n",
      "# of interactions: 266598\n",
      "Sparsity in the UI mat: 2.1e-05\n",
      "Memory used by sparse UI mat: 0.25 MB\n",
      "Generating train-test split..Warning: Test matrix is set as empty/all-zeros\n",
      "CPU times: user 29.4 ms, sys: 0 ns, total: 29.4 ms\n",
      "Wall time: 29.3 ms\n"
     ]
    }
   ],
   "source": [
    "%%time\n",
    "order_data = UserItemInteractions(\n",
    "    name='ZAZZLE ORDER DATA',\n",
    "    users_index=odf['user_idx'],\n",
    "    items_index=odf['product_idx'],\n",
    "    num_users = num_users,\n",
    "    num_items = num_items\n",
    ")\n",
    "order_data.generate_train_test(user_test_ratio=0.0)"
   ]
  },
  {
   "cell_type": "markdown",
   "id": "a9d6885d-e0f6-4543-8271-821796e48b72",
   "metadata": {},
   "source": [
    "## BPR "
   ]
  },
  {
   "cell_type": "code",
   "execution_count": 7,
   "id": "783a4e91-67c5-4602-835f-6582375ef52b",
   "metadata": {},
   "outputs": [],
   "source": [
    "bpr1 = BPR(\n",
    "    num_features=50,\n",
    "    reg_lambda=0.0,\n",
    "    num_iters=50,\n",
    "    learning_rate = 0.02,\n",
    "    batch_size=10000,\n",
    "    initial_std=0.0001,\n",
    ")\n",
    "bpr1.initiate(num_users=view_data.num_users, num_items=view_data.num_items)"
   ]
  },
  {
   "cell_type": "code",
   "execution_count": null,
   "id": "21267e5e-af25-422a-80d7-7f45632ea236",
   "metadata": {},
   "outputs": [
    {
     "name": "stdout",
     "output_type": "stream",
     "text": [
      "BPR-Fit: 100%|██████████| 500000/500000 [00:02<00:00, 167088.13it/s]\n"
     ]
    }
   ],
   "source": [
    "training_data = click_data.mat_train\n",
    "metric_log_train = []\n",
    "neg_sampler = partial(\n",
    "    uniform_negative_sampler, \n",
    "    uimat=training_data\n",
    ")\n",
    "for _ in range(10):\n",
    "    results = bpr_fit(\n",
    "        bpr_obj=bpr1, \n",
    "        neg_sampler=neg_sampler, \n",
    "        ncores=104\n",
    "    )\n",
    "    mfunc = partial(\n",
    "        bpr1.get_metric_v1,\n",
    "        perc_active_users=0.5,\n",
    "        perc_active_items=0.5,\n",
    "        num_recs=60\n",
    "    )\n",
    "    metric_log_train.append(mfunc(uimat=training_data))\n",
    "metric_log_train = np.asarray(metric_log_train)"
   ]
  },
  {
   "cell_type": "code",
   "execution_count": null,
   "id": "6ecd775e-b7a8-4aec-b2ea-780ba3cb9303",
   "metadata": {},
   "outputs": [],
   "source": []
  }
 ],
 "metadata": {
  "kernelspec": {
   "display_name": "bpr_env",
   "language": "python",
   "name": "bpr_env"
  },
  "language_info": {
   "codemirror_mode": {
    "name": "ipython",
    "version": 3
   },
   "file_extension": ".py",
   "mimetype": "text/x-python",
   "name": "python",
   "nbconvert_exporter": "python",
   "pygments_lexer": "ipython3",
   "version": "3.12.1"
  }
 },
 "nbformat": 4,
 "nbformat_minor": 5
}
