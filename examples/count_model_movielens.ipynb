{
 "cells": [
  {
   "attachments": {},
   "cell_type": "markdown",
   "id": "1971f6cf",
   "metadata": {},
   "source": [
    "## Application of count models on Movielens"
   ]
  },
  {
   "cell_type": "code",
   "execution_count": 1,
   "id": "6985b0da",
   "metadata": {},
   "outputs": [],
   "source": [
    "#%load_ext watermark\n",
    "%load_ext autoreload \n",
    "%autoreload 2"
   ]
  },
  {
   "cell_type": "code",
   "execution_count": 2,
   "id": "6f571098",
   "metadata": {},
   "outputs": [],
   "source": [
    "import os\n",
    "import sys\n",
    "from collections import deque\n",
    "import numpy as np\n",
    "import pandas as pd\n",
    "from subprocess import call\n",
    "from pybpr import *\n",
    "import pybpr\n",
    "import matplotlib.pyplot as plt\n",
    "from functools import partial\n"
   ]
  },
  {
   "cell_type": "code",
   "execution_count": 3,
   "id": "9df1be78",
   "metadata": {},
   "outputs": [
    {
     "name": "stdout",
     "output_type": "stream",
     "text": [
      "/home/ctripp/zazzle/pybpr/examples\n"
     ]
    }
   ],
   "source": [
    "print(os.getcwd())\n"
   ]
  },
  {
   "cell_type": "code",
   "execution_count": 4,
   "id": "bcd21924",
   "metadata": {},
   "outputs": [
    {
     "data": {
      "text/html": [
       "<div>\n",
       "<style scoped>\n",
       "    .dataframe tbody tr th:only-of-type {\n",
       "        vertical-align: middle;\n",
       "    }\n",
       "\n",
       "    .dataframe tbody tr th {\n",
       "        vertical-align: top;\n",
       "    }\n",
       "\n",
       "    .dataframe thead th {\n",
       "        text-align: right;\n",
       "    }\n",
       "</style>\n",
       "<table border=\"1\" class=\"dataframe\">\n",
       "  <thead>\n",
       "    <tr style=\"text-align: right;\">\n",
       "      <th></th>\n",
       "      <th>index</th>\n",
       "      <th>user_id</th>\n",
       "      <th>item_id</th>\n",
       "      <th>rating</th>\n",
       "      <th>timestamp</th>\n",
       "      <th>positive</th>\n",
       "    </tr>\n",
       "  </thead>\n",
       "  <tbody>\n",
       "    <tr>\n",
       "      <th>0</th>\n",
       "      <td>214</td>\n",
       "      <td>259</td>\n",
       "      <td>255</td>\n",
       "      <td>4</td>\n",
       "      <td>874724710</td>\n",
       "      <td>1</td>\n",
       "    </tr>\n",
       "    <tr>\n",
       "      <th>1</th>\n",
       "      <td>83965</td>\n",
       "      <td>259</td>\n",
       "      <td>286</td>\n",
       "      <td>4</td>\n",
       "      <td>874724727</td>\n",
       "      <td>1</td>\n",
       "    </tr>\n",
       "    <tr>\n",
       "      <th>2</th>\n",
       "      <td>43027</td>\n",
       "      <td>259</td>\n",
       "      <td>298</td>\n",
       "      <td>4</td>\n",
       "      <td>874724754</td>\n",
       "      <td>1</td>\n",
       "    </tr>\n",
       "    <tr>\n",
       "      <th>3</th>\n",
       "      <td>21396</td>\n",
       "      <td>259</td>\n",
       "      <td>185</td>\n",
       "      <td>4</td>\n",
       "      <td>874724781</td>\n",
       "      <td>1</td>\n",
       "    </tr>\n",
       "    <tr>\n",
       "      <th>4</th>\n",
       "      <td>82655</td>\n",
       "      <td>259</td>\n",
       "      <td>173</td>\n",
       "      <td>4</td>\n",
       "      <td>874724843</td>\n",
       "      <td>1</td>\n",
       "    </tr>\n",
       "  </tbody>\n",
       "</table>\n",
       "</div>"
      ],
      "text/plain": [
       "   index  user_id  item_id  rating  timestamp  positive\n",
       "0    214      259      255       4  874724710         1\n",
       "1  83965      259      286       4  874724727         1\n",
       "2  43027      259      298       4  874724754         1\n",
       "3  21396      259      185       4  874724781         1\n",
       "4  82655      259      173       4  874724843         1"
      ]
     },
     "execution_count": 4,
     "metadata": {},
     "output_type": "execute_result"
    }
   ],
   "source": [
    "# %%time\n",
    "# df = load_movielens_data('ml-1m')\n",
    "df = pybpr.load_movielens_data(\"ml-100k\")\n",
    "df.sort_values([\"timestamp\", \"user_id\"], inplace=True)\n",
    "df.reset_index(inplace=True)\n",
    "df[\"positive\"] = (df[\"rating\"] >= 4).astype(np.int8)\n",
    "df.head()\n"
   ]
  },
  {
   "cell_type": "code",
   "execution_count": 5,
   "id": "10fd7614",
   "metadata": {},
   "outputs": [
    {
     "data": {
      "text/html": [
       "<div>\n",
       "<style scoped>\n",
       "    .dataframe tbody tr th:only-of-type {\n",
       "        vertical-align: middle;\n",
       "    }\n",
       "\n",
       "    .dataframe tbody tr th {\n",
       "        vertical-align: top;\n",
       "    }\n",
       "\n",
       "    .dataframe thead th {\n",
       "        text-align: right;\n",
       "    }\n",
       "</style>\n",
       "<table border=\"1\" class=\"dataframe\">\n",
       "  <thead>\n",
       "    <tr style=\"text-align: right;\">\n",
       "      <th></th>\n",
       "      <th>index</th>\n",
       "      <th>user_id</th>\n",
       "      <th>item_id</th>\n",
       "      <th>rating</th>\n",
       "      <th>timestamp</th>\n",
       "      <th>positive</th>\n",
       "    </tr>\n",
       "  </thead>\n",
       "  <tbody>\n",
       "    <tr>\n",
       "      <th>7</th>\n",
       "      <td>26399</td>\n",
       "      <td>259</td>\n",
       "      <td>288</td>\n",
       "      <td>3</td>\n",
       "      <td>874724905</td>\n",
       "      <td>0</td>\n",
       "    </tr>\n",
       "    <tr>\n",
       "      <th>11</th>\n",
       "      <td>4029</td>\n",
       "      <td>259</td>\n",
       "      <td>405</td>\n",
       "      <td>3</td>\n",
       "      <td>874725120</td>\n",
       "      <td>0</td>\n",
       "    </tr>\n",
       "    <tr>\n",
       "      <th>12</th>\n",
       "      <td>76434</td>\n",
       "      <td>259</td>\n",
       "      <td>1074</td>\n",
       "      <td>3</td>\n",
       "      <td>874725264</td>\n",
       "      <td>0</td>\n",
       "    </tr>\n",
       "    <tr>\n",
       "      <th>16</th>\n",
       "      <td>97222</td>\n",
       "      <td>851</td>\n",
       "      <td>687</td>\n",
       "      <td>2</td>\n",
       "      <td>874728168</td>\n",
       "      <td>0</td>\n",
       "    </tr>\n",
       "    <tr>\n",
       "      <th>17</th>\n",
       "      <td>69246</td>\n",
       "      <td>851</td>\n",
       "      <td>696</td>\n",
       "      <td>3</td>\n",
       "      <td>874728338</td>\n",
       "      <td>0</td>\n",
       "    </tr>\n",
       "  </tbody>\n",
       "</table>\n",
       "</div>"
      ],
      "text/plain": [
       "    index  user_id  item_id  rating  timestamp  positive\n",
       "7   26399      259      288       3  874724905         0\n",
       "11   4029      259      405       3  874725120         0\n",
       "12  76434      259     1074       3  874725264         0\n",
       "16  97222      851      687       2  874728168         0\n",
       "17  69246      851      696       3  874728338         0"
      ]
     },
     "execution_count": 5,
     "metadata": {},
     "output_type": "execute_result"
    }
   ],
   "source": [
    "df[df[\"positive\"] == 0].head()\n"
   ]
  },
  {
   "cell_type": "code",
   "execution_count": 6,
   "id": "eec38ecb",
   "metadata": {},
   "outputs": [
    {
     "name": "stdout",
     "output_type": "stream",
     "text": [
      "100000 total entries. 20.0% = 20000\n",
      "test_timestamp: 878963305\n"
     ]
    }
   ],
   "source": [
    "# %%time\n",
    "test_proportion = 0.2\n",
    "\n",
    "total = len(df)\n",
    "slice_index = int(test_proportion * total)\n",
    "print(f\"{total} total entries. {test_proportion*100}% = {slice_index}\")\n",
    "\n",
    "# train_df = df.iloc[:slice_index].sort_values(['user_id', 'timestamp']).reset_index()\n",
    "# test_df = df.iloc[slice_index:].sort_values(['user_id', 'timestamp']).reset_index()\n",
    "train_df = df.iloc[:slice_index]\n",
    "test_df = df.iloc[slice_index:]\n",
    "test_timestamp = test_df[\"timestamp\"].iloc[0]\n",
    "print(f\"test_timestamp: {test_timestamp}\")\n"
   ]
  },
  {
   "cell_type": "code",
   "execution_count": 7,
   "id": "29580f3a",
   "metadata": {},
   "outputs": [
    {
     "data": {
      "text/html": [
       "<div>\n",
       "<style scoped>\n",
       "    .dataframe tbody tr th:only-of-type {\n",
       "        vertical-align: middle;\n",
       "    }\n",
       "\n",
       "    .dataframe tbody tr th {\n",
       "        vertical-align: top;\n",
       "    }\n",
       "\n",
       "    .dataframe thead th {\n",
       "        text-align: right;\n",
       "    }\n",
       "</style>\n",
       "<table border=\"1\" class=\"dataframe\">\n",
       "  <thead>\n",
       "    <tr style=\"text-align: right;\">\n",
       "      <th></th>\n",
       "      <th>index</th>\n",
       "      <th>user_id</th>\n",
       "      <th>item_id</th>\n",
       "      <th>rating</th>\n",
       "      <th>timestamp</th>\n",
       "      <th>positive</th>\n",
       "    </tr>\n",
       "  </thead>\n",
       "  <tbody>\n",
       "    <tr>\n",
       "      <th>20022</th>\n",
       "      <td>96941</td>\n",
       "      <td>181</td>\n",
       "      <td>280</td>\n",
       "      <td>4</td>\n",
       "      <td>878963381</td>\n",
       "      <td>1</td>\n",
       "    </tr>\n",
       "    <tr>\n",
       "      <th>20023</th>\n",
       "      <td>24271</td>\n",
       "      <td>181</td>\n",
       "      <td>974</td>\n",
       "      <td>4</td>\n",
       "      <td>878963417</td>\n",
       "      <td>1</td>\n",
       "    </tr>\n",
       "    <tr>\n",
       "      <th>20042</th>\n",
       "      <td>11930</td>\n",
       "      <td>267</td>\n",
       "      <td>475</td>\n",
       "      <td>5</td>\n",
       "      <td>878970368</td>\n",
       "      <td>1</td>\n",
       "    </tr>\n",
       "    <tr>\n",
       "      <th>20043</th>\n",
       "      <td>9176</td>\n",
       "      <td>267</td>\n",
       "      <td>250</td>\n",
       "      <td>5</td>\n",
       "      <td>878970399</td>\n",
       "      <td>1</td>\n",
       "    </tr>\n",
       "    <tr>\n",
       "      <th>20044</th>\n",
       "      <td>45928</td>\n",
       "      <td>267</td>\n",
       "      <td>100</td>\n",
       "      <td>5</td>\n",
       "      <td>878970427</td>\n",
       "      <td>1</td>\n",
       "    </tr>\n",
       "  </tbody>\n",
       "</table>\n",
       "</div>"
      ],
      "text/plain": [
       "       index  user_id  item_id  rating  timestamp  positive\n",
       "20022  96941      181      280       4  878963381         1\n",
       "20023  24271      181      974       4  878963417         1\n",
       "20042  11930      267      475       5  878970368         1\n",
       "20043   9176      267      250       5  878970399         1\n",
       "20044  45928      267      100       5  878970427         1"
      ]
     },
     "execution_count": 7,
     "metadata": {},
     "output_type": "execute_result"
    }
   ],
   "source": [
    "test_df[test_df[\"positive\"] == 1].head()\n"
   ]
  },
  {
   "cell_type": "code",
   "execution_count": 8,
   "id": "8478cdc0",
   "metadata": {},
   "outputs": [],
   "source": [
    "from count_model.link_counter import LinkCounter\n",
    "from count_model.uniform_prior_model import UniformPriorModel\n",
    "from count_model.window_counter import WindowCounter\n",
    "from count_model.permutation_counter import PermutationCounter\n",
    "from count_model.link_count_data import LinkCountData\n",
    "\n",
    "positive_counter = PermutationCounter(LinkCounter())\n",
    "negative_counter = PermutationCounter(LinkCounter())\n",
    "both_counter = PermutationCounter(LinkCounter())\n",
    "dest_counter = LinkCounter()\n",
    "# counter = WindowCounter(LinkCounter(), 10)\n"
   ]
  },
  {
   "cell_type": "code",
   "execution_count": 9,
   "id": "a2d61be1",
   "metadata": {},
   "outputs": [],
   "source": [
    "def make_action_tuple(row, positive=None):\n",
    "    return int(row[\"item_id\"]), (\n",
    "        bool(row[\"positive\"] == 1) if positive is None else positive\n",
    "    )\n",
    "\n",
    "\n",
    "def make_item_sequence(df):\n",
    "    return (row[\"item_id\"] for row_index, row in df.iterrows())\n",
    "\n",
    "\n",
    "def make_action_sequence(df):\n",
    "    return (make_action_tuple(row, None) for row_index, row in df.iterrows())\n"
   ]
  },
  {
   "cell_type": "code",
   "execution_count": 10,
   "id": "35283aef",
   "metadata": {},
   "outputs": [],
   "source": [
    "user_groups = df.groupby(\"user_id\")\n",
    "for user_id, group in user_groups:\n",
    "    user_df = user_groups.get_group(user_id)\n",
    "    # positive_interactions = user_df[user_df['positive'] >= 1]\n",
    "    for idx, row in user_df.iterrows():\n",
    "        dest_counter.observe_link(make_action_tuple(row, False), make_action_tuple(row))\n",
    "    positive_counter.observe_sequence(\n",
    "        make_action_sequence(user_df[user_df[\"positive\"] == 1])\n",
    "    )\n",
    "    negative_counter.observe_sequence(\n",
    "        make_action_sequence(user_df[user_df[\"positive\"] == 0])\n",
    "    )\n",
    "    both_counter.observe_sequence(make_action_sequence(user_df))\n"
   ]
  },
  {
   "cell_type": "code",
   "execution_count": 11,
   "id": "705cc0b3",
   "metadata": {},
   "outputs": [],
   "source": [
    "# probability_model = UniformPriorModel(counter.link_counter, 1.1, 1e5)\n"
   ]
  },
  {
   "cell_type": "code",
   "execution_count": 33,
   "id": "5ea22f6e",
   "metadata": {},
   "outputs": [],
   "source": [
    "def make_pos_neg_action(action):\n",
    "    return (action[0], False), (action[0], True)\n",
    "\n",
    "\n",
    "def make_opposite_action(action):\n",
    "    return (action[0], not action[1])\n",
    "\n",
    "\n",
    "def compute_with_links(\n",
    "    func,\n",
    "    dest_counter,\n",
    "    link_counter,\n",
    "    sources,\n",
    "    dest,\n",
    "):\n",
    "    negative_dest, positive_dest = make_pos_neg_action(dest)\n",
    "\n",
    "    dest_count = dest_counter.get_link_count(negative_dest, positive_dest)\n",
    "\n",
    "    source_counts = []\n",
    "    for source in sources:\n",
    "        opp_source = make_opposite_action(source)\n",
    "\n",
    "        source_counts.append((\n",
    "            link_counter.get_link_count(source, positive_dest),\n",
    "            link_counter.get_link_count(source, negative_dest),\n",
    "            link_counter.get_link_count(opp_source, positive_dest),\n",
    "            link_counter.get_link_count(opp_source, negative_dest),\n",
    "        ))\n",
    "\n",
    "    p = func(LinkCountData(dest_count.count, dest_count.total), source_counts)\n",
    "    if not dest[1]:\n",
    "        p = 1.0 - p\n",
    "    return np.log(p)\n",
    "\n",
    "\n",
    "def make_score_function(prob_func, dest_counter, link_counter):\n",
    "    return lambda sources, dest: compute_with_links(\n",
    "        prob_func,\n",
    "        dest_counter,\n",
    "        link_counter,\n",
    "        sources,\n",
    "        dest,\n",
    "    )\n"
   ]
  },
  {
   "cell_type": "code",
   "execution_count": 50,
   "id": "524f0581",
   "metadata": {},
   "outputs": [],
   "source": [
    "def compute_naive_bayes_posterior(\n",
    "    dest_counter,\n",
    "    link_counter,\n",
    "    prior_numerator,\n",
    "    prior_denominator,\n",
    "    feature_prior_numerator,\n",
    "    feature_prior_denominator,\n",
    "):\n",
    "    def compute(\n",
    "        dest_count,\n",
    "        source_counts,\n",
    "    ):\n",
    "        dest_prior = (prior_numerator + dest_count.count) / (prior_denominator + dest_count.total)\n",
    "        pos_acc = np.log(dest_prior)\n",
    "        neg_acc = np.log(1.0 - dest_prior)\n",
    "        for source_count in source_counts:\n",
    "            source_to_pos_dest, source_to_neg_dest, neg_source_to_pos_dest, neg_source_to_neg_dest = source_count\n",
    "            # P(source | dest) -> # source to dest / (# total both source to dest)\n",
    "            #  link_count(source, dest) / get_source_data(dest).total\n",
    "            cond_prob = (feature_prior_numerator + source_to_pos_dest.count) / (\n",
    "                feature_prior_denominator + source_to_pos_dest.count + neg_source_to_pos_dest.count)\n",
    "            pos_acc += np.log(cond_prob)\n",
    "\n",
    "            # source to -dest / total +/- source to -dest\n",
    "            neg_cond_prob = (feature_prior_numerator + source_to_neg_dest.count) / (\n",
    "                feature_prior_denominator + source_to_neg_dest.count + neg_source_to_neg_dest.count)\n",
    "            neg_acc += np.log(neg_cond_prob)\n",
    "            # evidence = (feature_prior_numerator source_count.source_count.count / source_count.source_count.total)\n",
    "            # ep += dest_prior * cond_prob\n",
    "            # s = source_count.source_count\n",
    "            # ep += np.log((s.count + feature_prior_numerator) / (feature_prior_denominator + s.total))\n",
    "        pos = np.exp(pos_acc)\n",
    "        neg = np.exp(neg_acc)\n",
    "        p = pos / (pos + neg)\n",
    "        # print(f'{p} {pos} {neg}')\n",
    "        return max(1e-12, min(1.0, p))\n",
    "\n",
    "    return make_score_function(compute, dest_counter, link_counter)\n"
   ]
  },
  {
   "cell_type": "code",
   "execution_count": 37,
   "id": "6492e013",
   "metadata": {},
   "outputs": [],
   "source": [
    "def compute_max_posterior(\n",
    "    dest_counter,\n",
    "    link_counter,\n",
    "    prior_numerator,\n",
    "    prior_denominator,\n",
    "    feature_prior_numerator,\n",
    "    feature_prior_denomenator,\n",
    "):\n",
    "    def compute(\n",
    "        dest_count,\n",
    "        source_counts,\n",
    "    ):\n",
    "        p = (prior_numerator + dest_count.count) / (\n",
    "            prior_denominator + dest_count.total\n",
    "        )\n",
    "        for source_to_pos_dest, source_to_neg_dest, neg_source_to_pos_dest, neg_source_to_neg_dest in source_counts:\n",
    "            fp = (feature_prior_numerator + source_to_pos_dest.count) / (\n",
    "                feature_prior_denomenator + source_to_pos_dest.count + source_to_neg_dest.count\n",
    "            )\n",
    "            p = max(p, fp)\n",
    "        return p\n",
    "\n",
    "    return make_score_function(compute, dest_counter, link_counter)\n"
   ]
  },
  {
   "cell_type": "code",
   "execution_count": 38,
   "id": "ca706233",
   "metadata": {},
   "outputs": [],
   "source": [
    "def compute_avg_posterior(\n",
    "    dest_counter,\n",
    "    link_counter,\n",
    "    prior_numerator,\n",
    "    prior_denominator,\n",
    "    feature_prior_numerator,\n",
    "    feature_prior_denomenator,\n",
    "):\n",
    "    def compute(\n",
    "        dest_count,\n",
    "        source_counts,\n",
    "    ):\n",
    "        p = (prior_numerator + dest_count.count) / (\n",
    "            prior_denominator + dest_count.total\n",
    "        )\n",
    "        n = 1\n",
    "        for source_to_pos_dest, source_to_neg_dest, neg_source_to_pos_dest, neg_source_to_neg_dest in source_counts:\n",
    "            fp = (feature_prior_numerator + source_to_pos_dest.count) / (\n",
    "                feature_prior_denomenator + source_to_pos_dest.count + source_to_neg_dest.count\n",
    "            )\n",
    "            p += fp\n",
    "            n += 1\n",
    "        return p / n\n",
    "\n",
    "    return make_score_function(compute, dest_counter, link_counter)\n"
   ]
  },
  {
   "cell_type": "code",
   "execution_count": 39,
   "id": "e6ec9d3e",
   "metadata": {},
   "outputs": [],
   "source": [
    "def compute_combined_posterior(\n",
    "    dest_counter,\n",
    "    link_counter,\n",
    "    prior_numerator,\n",
    "    prior_denominator,\n",
    "):\n",
    "    def compute(\n",
    "        dest_count,\n",
    "        source_counts,\n",
    "    ):\n",
    "        numerator = prior_numerator + dest_count.count\n",
    "        denominator = prior_denominator + dest_count.total\n",
    "        for source_to_pos_dest, source_to_neg_dest, neg_source_to_pos_dest, neg_source_to_neg_dest in source_counts:\n",
    "            numerator += source_to_pos_dest.count\n",
    "            denominator += source_to_pos_dest.count + source_to_neg_dest.count\n",
    "        return numerator / denominator\n",
    "\n",
    "    return make_score_function(compute, dest_counter, link_counter)\n"
   ]
  },
  {
   "cell_type": "code",
   "execution_count": 40,
   "id": "aaffca3f",
   "metadata": {},
   "outputs": [],
   "source": [
    "def compute_bayes_posterior(\n",
    "    dest_counter,\n",
    "    link_counter,\n",
    "    prior_numerator,\n",
    "    prior_denominator,\n",
    "):\n",
    "    def compute(\n",
    "        dest_count,\n",
    "        source_counts,\n",
    "    ):\n",
    "        numerator = prior_numerator + dest_count.count\n",
    "        denominator = prior_denominator + dest_count.total\n",
    "        return numerator / denominator\n",
    "\n",
    "    return make_score_function(compute, dest_counter, link_counter)\n"
   ]
  },
  {
   "cell_type": "code",
   "execution_count": 41,
   "id": "90740e8e",
   "metadata": {},
   "outputs": [],
   "source": [
    "def compute_score(\n",
    "    df,\n",
    "    test_df,\n",
    "    scoring_function,\n",
    "):\n",
    "    score = 0.0\n",
    "    pos_score = 0.0\n",
    "    neg_score = 0.0\n",
    "\n",
    "    num_pos = 0\n",
    "    user_groups = df.groupby(\"user_id\")\n",
    "    num_samples = len(test_df)\n",
    "    for action_index, test_action in test_df.iterrows():\n",
    "        conditioning_actions = df[df[\"user_id\"] == test_action[\"user_id\"]]\n",
    "        conditioning_actions = conditioning_actions[\n",
    "            conditioning_actions[\"timestamp\"] < test_action[\"timestamp\"]\n",
    "        ]\n",
    "\n",
    "        test_action_tuple = make_action_tuple(test_action)\n",
    "        is_positive = test_action_tuple[1]\n",
    "\n",
    "        element_score = scoring_function(\n",
    "            make_action_sequence(conditioning_actions),\n",
    "            test_action_tuple,\n",
    "        )\n",
    "        score += element_score\n",
    "\n",
    "        if is_positive:\n",
    "            num_pos += 1\n",
    "            pos_score += element_score\n",
    "        else:\n",
    "            neg_score += element_score\n",
    "\n",
    "    score /= num_samples\n",
    "    if num_pos > 0:\n",
    "        pos_score /= num_pos\n",
    "    if num_samples > num_pos:\n",
    "        neg_score /= num_samples - num_pos\n",
    "    return score, pos_score, neg_score\n"
   ]
  },
  {
   "cell_type": "code",
   "execution_count": 42,
   "id": "0fd6f5bd",
   "metadata": {},
   "outputs": [
    {
     "name": "stdout",
     "output_type": "stream",
     "text": [
      "1000\n"
     ]
    }
   ],
   "source": [
    "test_df_sample = test_df.sample(1000)\n",
    "print(len(test_df_sample))\n",
    "pos_df = df[df[\"positive\"] == 1]\n",
    "pos_test_df = test_df_sample[test_df_sample[\"positive\"] == 1]\n",
    "\n",
    "neg_df = df[df[\"positive\"] == 0]\n",
    "neg_test_df = test_df_sample[test_df_sample[\"positive\"] == 0]\n"
   ]
  },
  {
   "cell_type": "code",
   "execution_count": 43,
   "id": "05a6fc87",
   "metadata": {},
   "outputs": [
    {
     "name": "stdout",
     "output_type": "stream",
     "text": [
      "0.55975\n"
     ]
    }
   ],
   "source": [
    "pos_bayes = len(train_df[train_df[\"positive\"] == 1]) / len(train_df)\n",
    "print(pos_bayes)\n"
   ]
  },
  {
   "cell_type": "code",
   "execution_count": 53,
   "id": "70c69e6b",
   "metadata": {},
   "outputs": [
    {
     "name": "stdout",
     "output_type": "stream",
     "text": [
      "(-0.38289998491649235, -0.40686770521729776, -0.35099889332730777)\n"
     ]
    }
   ],
   "source": [
    "nb_scores = compute_score(\n",
    "    df,\n",
    "    test_df_sample,\n",
    "    compute_naive_bayes_posterior(\n",
    "        dest_counter,\n",
    "        both_counter.link_counter,\n",
    "        pos_bayes * 10,\n",
    "        10,\n",
    "        1e-1,\n",
    "        2e-1,\n",
    "    ),\n",
    ")\n",
    "\n",
    "print(nb_scores)\n"
   ]
  },
  {
   "cell_type": "code",
   "execution_count": 62,
   "id": "9e1a51f9",
   "metadata": {},
   "outputs": [
    {
     "name": "stdout",
     "output_type": "stream",
     "text": [
      "(-0.2860496369676836, -0.28469470757693166, -0.2878530511451177)\n"
     ]
    }
   ],
   "source": [
    "nb_scores = compute_score(\n",
    "    df,\n",
    "    test_df_sample,\n",
    "    compute_naive_bayes_posterior(\n",
    "        dest_counter,\n",
    "        both_counter.link_counter,\n",
    "        pos_bayes * 10,\n",
    "        10,\n",
    "        1e-4,\n",
    "        2e-4,\n",
    "    ),\n",
    ")\n",
    "\n",
    "print(nb_scores)\n"
   ]
  },
  {
   "cell_type": "code",
   "execution_count": 45,
   "id": "e9557f57",
   "metadata": {},
   "outputs": [
    {
     "name": "stdout",
     "output_type": "stream",
     "text": [
      "(-0.6394886213855521, -0.2811332869483238, -1.1164604068486228)\n"
     ]
    }
   ],
   "source": [
    "max_scores = compute_score(\n",
    "    df,\n",
    "    test_df_sample,\n",
    "    compute_max_posterior(\n",
    "        dest_counter,\n",
    "        both_counter.link_counter,\n",
    "        pos_bayes * 10,\n",
    "        10,\n",
    "        pos_bayes * 10,\n",
    "        10,\n",
    "    ),\n",
    ")\n",
    "\n",
    "print(max_scores)\n"
   ]
  },
  {
   "cell_type": "code",
   "execution_count": 46,
   "id": "1c0c8854",
   "metadata": {},
   "outputs": [
    {
     "name": "stdout",
     "output_type": "stream",
     "text": [
      "(-0.5917725626956546, -0.4903787865340702, -0.7267279151158518)\n"
     ]
    }
   ],
   "source": [
    "avg_scores = compute_score(\n",
    "    df,\n",
    "    test_df_sample,\n",
    "    compute_avg_posterior(\n",
    "        dest_counter,\n",
    "        both_counter.link_counter,\n",
    "        pos_bayes * 10,\n",
    "        10,\n",
    "        pos_bayes * 10,\n",
    "        10,\n",
    "    ),\n",
    ")\n",
    "\n",
    "print(avg_scores)\n"
   ]
  },
  {
   "cell_type": "code",
   "execution_count": 47,
   "id": "5ea19e61",
   "metadata": {},
   "outputs": [
    {
     "name": "stdout",
     "output_type": "stream",
     "text": [
      "(-0.5585496362184379, -0.47524863660728567, -0.6694234608757087)\n"
     ]
    }
   ],
   "source": [
    "combined_scores = compute_score(\n",
    "    df,\n",
    "    test_df_sample,\n",
    "    compute_combined_posterior(\n",
    "        dest_counter,\n",
    "        both_counter.link_counter,\n",
    "        pos_bayes * 10,\n",
    "        10,\n",
    "    ),\n",
    ")\n",
    "\n",
    "print(combined_scores)\n"
   ]
  },
  {
   "cell_type": "code",
   "execution_count": 48,
   "id": "3090f402",
   "metadata": {},
   "outputs": [
    {
     "name": "stdout",
     "output_type": "stream",
     "text": [
      "(-0.6088252065135693, -0.5046516503291835, -0.7474804526237897)\n"
     ]
    }
   ],
   "source": [
    "bayes_scores = compute_score(\n",
    "    df,\n",
    "    test_df_sample,\n",
    "    compute_bayes_posterior(\n",
    "        dest_counter,\n",
    "        both_counter.link_counter,\n",
    "        pos_bayes * 10,\n",
    "        10,\n",
    "    ),\n",
    ")\n",
    "\n",
    "print(bayes_scores)\n"
   ]
  },
  {
   "cell_type": "code",
   "execution_count": 49,
   "id": "b1f4e868",
   "metadata": {},
   "outputs": [
    {
     "ename": "NameError",
     "evalue": "name 'make_compute_nb' is not defined",
     "output_type": "error",
     "traceback": [
      "\u001b[0;31m---------------------------------------------------------------------------\u001b[0m",
      "\u001b[0;31mNameError\u001b[0m                                 Traceback (most recent call last)",
      "Cell \u001b[0;32mIn[49], line 4\u001b[0m\n\u001b[1;32m      1\u001b[0m nb_pos_scores \u001b[39m=\u001b[39m compute_score(\n\u001b[1;32m      2\u001b[0m     pos_df,\n\u001b[1;32m      3\u001b[0m     pos_test_df,\n\u001b[0;32m----> 4\u001b[0m     make_compute_nb(\n\u001b[1;32m      5\u001b[0m         dest_counter,\n\u001b[1;32m      6\u001b[0m         positive_counter\u001b[39m.\u001b[39mlink_counter,\n\u001b[1;32m      7\u001b[0m         \u001b[39m5\u001b[39m,\n\u001b[1;32m      8\u001b[0m         \u001b[39m1\u001b[39m,\n\u001b[1;32m      9\u001b[0m         \u001b[39m10\u001b[39m,\n\u001b[1;32m     10\u001b[0m     ),\n\u001b[1;32m     11\u001b[0m )\n\u001b[1;32m     13\u001b[0m \u001b[39mprint\u001b[39m(nb_pos_scores)\n",
      "\u001b[0;31mNameError\u001b[0m: name 'make_compute_nb' is not defined"
     ]
    }
   ],
   "source": [
    "nb_pos_scores = compute_score(\n",
    "    pos_df,\n",
    "    pos_test_df,\n",
    "    make_compute_nb(\n",
    "        dest_counter,\n",
    "        positive_counter.link_counter,\n",
    "        5,\n",
    "        1,\n",
    "        10,\n",
    "    ),\n",
    ")\n",
    "\n",
    "print(nb_pos_scores)\n"
   ]
  },
  {
   "cell_type": "code",
   "execution_count": 227,
   "id": "d65d42f6",
   "metadata": {},
   "outputs": [
    {
     "name": "stdout",
     "output_type": "stream",
     "text": [
      "(-0.519822756521293, -0.519822756521293, 0.0)\n"
     ]
    }
   ],
   "source": [
    "max_pos_scores = compute_score(\n",
    "    pos_df,\n",
    "    pos_test_df,\n",
    "    make_compute_mp(\n",
    "        dest_counter,\n",
    "        positive_counter.link_counter,\n",
    "        5,\n",
    "        10,\n",
    "        5,\n",
    "        10,\n",
    "    ),\n",
    ")\n",
    "\n",
    "print(max_pos_scores)\n"
   ]
  },
  {
   "cell_type": "code",
   "execution_count": 219,
   "id": "40679b15",
   "metadata": {},
   "outputs": [
    {
     "name": "stdout",
     "output_type": "stream",
     "text": [
      "(-100.06263639311518, -100.06263639311518, 0.0)\n"
     ]
    }
   ],
   "source": [
    "nb_neg_scores = compute_score(\n",
    "    neg_df,\n",
    "    neg_test_df,\n",
    "    make_compute_nb(\n",
    "        dest_counter,\n",
    "        negative_counter.link_counter,\n",
    "        5,\n",
    "        1,\n",
    "        10,\n",
    "    ),\n",
    ")\n",
    "\n",
    "print(nb_pos_scores)\n"
   ]
  },
  {
   "cell_type": "code",
   "execution_count": null,
   "id": "9ed93b7c",
   "metadata": {},
   "outputs": [],
   "source": []
  },
  {
   "cell_type": "code",
   "execution_count": 193,
   "id": "40752745",
   "metadata": {},
   "outputs": [],
   "source": [
    "def compute_scores(\n",
    "    df,\n",
    "    test_timestamp,\n",
    "    num_samples,\n",
    "):\n",
    "    max_log_score = 0.0\n",
    "    max_log_pos_score = 0.0\n",
    "    max_log_neg_score = 0.0\n",
    "    max_log_pos_only_score = 0.0\n",
    "    max_log_neg_only_score = 0.0\n",
    "\n",
    "    log_score = 0.0\n",
    "    pos_only_score = 0.0\n",
    "    pos_score = 0.0\n",
    "    neg_only_score = 0.0\n",
    "    neg_score = 0.0\n",
    "\n",
    "    prior_numerator = 5\n",
    "    interaction_prior_numerator = 1\n",
    "    prior_denominator = 10\n",
    "\n",
    "    num_pos = 0\n",
    "    user_groups = df.groupby(\"user_id\")\n",
    "    for action_index, test_action in (\n",
    "        df[df[\"timestamp\"] >= test_timestamp].sample(num_samples).iterrows()\n",
    "    ):\n",
    "        conditioning_actions = df[df[\"user_id\"] == test_action[\"user_id\"]]\n",
    "        conditioning_actions = conditioning_actions[\n",
    "            conditioning_actions[\"timestamp\"] < test_action[\"timestamp\"]\n",
    "        ]\n",
    "\n",
    "        is_positive = test_action[\"positive\"] == 1\n",
    "\n",
    "        test_action_tuple = make_action_tuple(test_action)\n",
    "\n",
    "        posterior = compute_naive_bayes_posterior(\n",
    "            dest_counter,\n",
    "            both_counter.link_counter,\n",
    "            prior_numerator,\n",
    "            interaction_prior_numerator,\n",
    "            prior_denominator,\n",
    "            make_action_sequence(conditioning_actions),\n",
    "            test_action_tuple,\n",
    "        )\n",
    "        log_score += posterior\n",
    "\n",
    "        max_posterior = compute_max_posterior(\n",
    "            dest_counter,\n",
    "            both_counter.link_counter,\n",
    "            prior_numerator,\n",
    "            prior_denominator,\n",
    "            prior_numerator,\n",
    "            prior_denominator,\n",
    "            make_action_sequence(conditioning_actions),\n",
    "            test_action_tuple,\n",
    "        )\n",
    "        max_log_score += max_posterior\n",
    "\n",
    "        if is_positive:\n",
    "            num_pos += 1\n",
    "            pos_score += posterior\n",
    "            max_log_pos_score += max_posterior\n",
    "            pos_posterior = compute_naive_bayes_posterior(\n",
    "                dest_counter,\n",
    "                positive_counter.link_counter,\n",
    "                prior_numerator,\n",
    "                interaction_prior_numerator,\n",
    "                prior_denominator,\n",
    "                make_action_sequence(\n",
    "                    conditioning_actions[conditioning_actions[\"positive\"] == 1]\n",
    "                ),\n",
    "                test_action_tuple,\n",
    "            )\n",
    "            pos_only_score += pos_posterior\n",
    "        else:\n",
    "            neg_score += posterior\n",
    "            max_log_neg_score += max_posterior\n",
    "            neg_posterior = compute_naive_bayes_posterior(\n",
    "                dest_counter,\n",
    "                negative_counter.link_counter,\n",
    "                prior_numerator,\n",
    "                interaction_prior_numerator,\n",
    "                prior_denominator,\n",
    "                make_action_sequence(\n",
    "                    conditioning_actions[conditioning_actions[\"positive\"] == 0]\n",
    "                ),\n",
    "                test_action_tuple,\n",
    "            )\n",
    "            neg_only_score += neg_posterior\n",
    "\n",
    "    num_neg = num_samples - num_pos\n",
    "    return (\n",
    "        log_score / num_samples,\n",
    "        max_log_score / num_samples,\n",
    "        pos_only_score / num_pos,\n",
    "        pos_score / num_pos,\n",
    "        max_log_pos_score / num_pos,\n",
    "        neg_only_score / num_neg,\n",
    "        neg_score / num_neg,\n",
    "        max_log_neg_score / num_neg,\n",
    "    )\n"
   ]
  },
  {
   "cell_type": "code",
   "execution_count": 194,
   "id": "1ca71fb7",
   "metadata": {},
   "outputs": [
    {
     "name": "stdout",
     "output_type": "stream",
     "text": [
      "-193.5066106819812 -0.591965420253416 -87.8531166153852 -160.99039073805392 -0.4903192721564039 -129.19700692314512 -232.14185669850804 -0.7127397275109146\n",
      "0.545704102043769\n"
     ]
    }
   ],
   "source": [
    "(\n",
    "    log_score,\n",
    "    max_log_score,\n",
    "    pos_only_score,\n",
    "    pos_score,\n",
    "    max_log_pos_score,\n",
    "    neg_only_score,\n",
    "    neg_score,\n",
    "    max_log_neg_score,\n",
    ") = compute_scores(df, test_timestamp, 1000)\n",
    "print(\n",
    "    log_score,\n",
    "    max_log_score,\n",
    "    pos_only_score,\n",
    "    pos_score,\n",
    "    max_log_pos_score,\n",
    "    neg_only_score,\n",
    "    neg_score,\n",
    "    max_log_neg_score,\n",
    ")\n",
    "print(pos_only_score / pos_score)\n"
   ]
  },
  {
   "cell_type": "code",
   "execution_count": 110,
   "id": "f9285bf9",
   "metadata": {},
   "outputs": [
    {
     "name": "stdout",
     "output_type": "stream",
     "text": [
      "-906.7507792407138 -450.96249475957217 -759.5979154703118 -581.1934268825369 -1075.376593089203\n",
      "0.5936857982033228\n"
     ]
    }
   ],
   "source": [
    "log_score, pos_only_score, pos_score, neg_only_score, neg_score = compute_scores(\n",
    "    df, 0, 1000\n",
    ")\n",
    "print(log_score, pos_only_score, pos_score, neg_only_score, neg_score)\n",
    "print(pos_only_score / pos_score)\n"
   ]
  },
  {
   "cell_type": "code",
   "execution_count": 9,
   "id": "b5946719",
   "metadata": {},
   "outputs": [
    {
     "data": {
      "text/plain": [
       "0.45679663853798047"
      ]
     },
     "execution_count": 9,
     "metadata": {},
     "output_type": "execute_result"
    }
   ],
   "source": [
    "ndcg_score\n"
   ]
  },
  {
   "cell_type": "markdown",
   "id": "635f488e",
   "metadata": {},
   "source": [
    "## Effect of num of features on ndcg"
   ]
  },
  {
   "cell_type": "code",
   "execution_count": 15,
   "id": "9252037b",
   "metadata": {},
   "outputs": [
    {
     "name": "stdout",
     "output_type": "stream",
     "text": [
      "1-5-9-13-17-21-25-29-33-37-41-45-49-53-57-61-65-69-73-77-81-85-89-93-97-"
     ]
    }
   ],
   "source": [
    "num_features_list = np.arange(1, 100, 4)\n",
    "ndcg_list = []\n",
    "for num_features in num_features_list:\n",
    "    print(num_features, end=\"-\", flush=True)\n",
    "    als = MF_ALS(\n",
    "        num_features=num_features,\n",
    "        reg_lambda=0.0,\n",
    "        num_iters=10,\n",
    "        initial_std=0.1,\n",
    "        seed=None,\n",
    "    )\n",
    "    als.fit(cf.R_train)\n",
    "    als_ndcg_func = partial(\n",
    "        cf.get_ndcg_metric, user_mat=als.user_mat, item_mat=als.item_mat, num_items=10\n",
    "    )\n",
    "    svd = MF_SVD(num_features=num_features, num_iters=100, seed=None)\n",
    "    svd.fit(cf.R_train)\n",
    "    svd_ndcg_func = partial(\n",
    "        cf.get_ndcg_metric, user_mat=svd.user_mat, item_mat=svd.item_mat, num_items=10\n",
    "    )\n",
    "    result_dict = {\n",
    "        \"num_features\": num_features,\n",
    "        \"als_test\": als_ndcg_func(test=True),\n",
    "        \"als_train\": als_ndcg_func(test=False),\n",
    "        \"svd_test\": svd_ndcg_func(test=True),\n",
    "        \"svd_train\": svd_ndcg_func(test=False),\n",
    "    }\n",
    "    ndcg_list.append(result_dict)\n",
    "ndcg_df = pd.DataFrame(ndcg_list)\n"
   ]
  },
  {
   "cell_type": "code",
   "execution_count": 16,
   "id": "af88e3bd",
   "metadata": {},
   "outputs": [
    {
     "data": {
      "text/html": [
       "<div>\n",
       "<style scoped>\n",
       "    .dataframe tbody tr th:only-of-type {\n",
       "        vertical-align: middle;\n",
       "    }\n",
       "\n",
       "    .dataframe tbody tr th {\n",
       "        vertical-align: top;\n",
       "    }\n",
       "\n",
       "    .dataframe thead th {\n",
       "        text-align: right;\n",
       "    }\n",
       "</style>\n",
       "<table border=\"1\" class=\"dataframe\">\n",
       "  <thead>\n",
       "    <tr style=\"text-align: right;\">\n",
       "      <th></th>\n",
       "      <th>num_features</th>\n",
       "      <th>als_test</th>\n",
       "      <th>als_train</th>\n",
       "      <th>svd_test</th>\n",
       "      <th>svd_train</th>\n",
       "    </tr>\n",
       "  </thead>\n",
       "  <tbody>\n",
       "    <tr>\n",
       "      <th>0</th>\n",
       "      <td>1</td>\n",
       "      <td>0.269689</td>\n",
       "      <td>0.458040</td>\n",
       "      <td>0.269689</td>\n",
       "      <td>0.458040</td>\n",
       "    </tr>\n",
       "    <tr>\n",
       "      <th>1</th>\n",
       "      <td>5</td>\n",
       "      <td>0.410831</td>\n",
       "      <td>0.658544</td>\n",
       "      <td>0.409970</td>\n",
       "      <td>0.658617</td>\n",
       "    </tr>\n",
       "    <tr>\n",
       "      <th>2</th>\n",
       "      <td>9</td>\n",
       "      <td>0.448681</td>\n",
       "      <td>0.716662</td>\n",
       "      <td>0.451182</td>\n",
       "      <td>0.717836</td>\n",
       "    </tr>\n",
       "    <tr>\n",
       "      <th>3</th>\n",
       "      <td>13</td>\n",
       "      <td>0.460963</td>\n",
       "      <td>0.757014</td>\n",
       "      <td>0.462949</td>\n",
       "      <td>0.753311</td>\n",
       "    </tr>\n",
       "    <tr>\n",
       "      <th>4</th>\n",
       "      <td>17</td>\n",
       "      <td>0.462086</td>\n",
       "      <td>0.793263</td>\n",
       "      <td>0.462804</td>\n",
       "      <td>0.797053</td>\n",
       "    </tr>\n",
       "  </tbody>\n",
       "</table>\n",
       "</div>"
      ],
      "text/plain": [
       "   num_features  als_test  als_train  svd_test  svd_train\n",
       "0             1  0.269689   0.458040  0.269689   0.458040\n",
       "1             5  0.410831   0.658544  0.409970   0.658617\n",
       "2             9  0.448681   0.716662  0.451182   0.717836\n",
       "3            13  0.460963   0.757014  0.462949   0.753311\n",
       "4            17  0.462086   0.793263  0.462804   0.797053"
      ]
     },
     "execution_count": 16,
     "metadata": {},
     "output_type": "execute_result"
    }
   ],
   "source": [
    "ndcg_df.head()\n"
   ]
  },
  {
   "cell_type": "code",
   "execution_count": 17,
   "id": "64549a02",
   "metadata": {},
   "outputs": [
    {
     "data": {
      "image/png": "[encoded data removed]",
      "text/plain": [
       "<Figure size 1000x300 with 2 Axes>"
      ]
     },
     "metadata": {},
     "output_type": "display_data"
    }
   ],
   "source": [
    "fig, ax = plt.subplots(1, 2, figsize=(10, 3))\n",
    "ax[0].plot(ndcg_df[\"num_features\"], ndcg_df[\"als_train\"], \"-r\", label=\"ALS-Train\")\n",
    "ax[0].plot(ndcg_df[\"num_features\"], ndcg_df[\"als_test\"], \"-b\", label=\"ALS-Test\")\n",
    "ax[1].plot(ndcg_df[\"num_features\"], ndcg_df[\"svd_train\"], \"-r\", label=\"SVD-Train\")\n",
    "ax[1].plot(ndcg_df[\"num_features\"], ndcg_df[\"svd_test\"], \"-b\", label=\"SVD-Test\")\n",
    "for iax in ax:\n",
    "    iax.grid(True)\n",
    "    # iax.set_ylim([0, 1])\n",
    "    iax.set_ylabel(\"NDCG\")\n",
    "    iax.set_xlabel(\"Num of features\")\n",
    "    iax.legend(loc=2, borderaxespad=0.1)\n"
   ]
  },
  {
   "cell_type": "markdown",
   "id": "84277d23",
   "metadata": {},
   "source": [
    "## Conclusions\n",
    "- Around 10-20 features seems to provide best NDCG for Movielens-100k data\n",
    "- ALS and SVD have same solution when using no regularization on ALS cost function\n",
    "- Changing the num_items when computing NDCG just scales the NDCG-num_of_features relation\n",
    "- Adding reularization to ALS makes sure it does not overfit for large num of features\n",
    "- ALS with regularization has the same optimal NDCG and num of features as SVD\n",
    "- ALS solution seems to converging at around 10 iterations"
   ]
  },
  {
   "cell_type": "code",
   "execution_count": null,
   "id": "b8576b70",
   "metadata": {},
   "outputs": [],
   "source": []
  }
 ],
 "metadata": {
  "kernelspec": {
   "display_name": "Python 3",
   "language": "python",
   "name": "python3"
  },
  "language_info": {
   "codemirror_mode": {
    "name": "ipython",
    "version": 3
   },
   "file_extension": ".py",
   "mimetype": "text/x-python",
   "name": "python",
   "nbconvert_exporter": "python",
   "pygments_lexer": "ipython3",
   "version": "3.10.9"
  }
 },
 "nbformat": 4,
 "nbformat_minor": 5
}
