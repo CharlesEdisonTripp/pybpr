{
 "cells": [
  {
   "cell_type": "markdown",
   "id": "1971f6cf",
   "metadata": {},
   "source": [
    "## Application of BPR on Zazzle data"
   ]
  },
  {
   "cell_type": "code",
   "execution_count": null,
   "id": "6985b0da",
   "metadata": {},
   "outputs": [],
   "source": [
    "#%load_ext watermark\n",
    "%load_ext autoreload \n",
    "%autoreload 2"
   ]
  },
  {
   "cell_type": "code",
   "execution_count": null,
   "id": "6f571098",
   "metadata": {},
   "outputs": [],
   "source": [
    "import os\n",
    "import sys\n",
    "import itertools\n",
    "import numpy as np\n",
    "import pandas as pd\n",
    "from subprocess import call\n",
    "from pybpr import *\n",
    "import matplotlib.pyplot as plt\n",
    "from functools import partial"
   ]
  },
  {
   "cell_type": "code",
   "execution_count": null,
   "id": "bcd21924",
   "metadata": {},
   "outputs": [],
   "source": [
    "%%time\n",
    "data_dir = os.path.join(os.path.curdir, 'data', 'zazzle')\n",
    "df = pd.read_parquet(os.path.join(os.path.join(data_dir,'BPR_0005_part_00.parquet')))\n",
    "df.columns\n",
    "#print(df.memory_usage().sum() / 1024 / 1024)"
   ]
  },
  {
   "cell_type": "code",
   "execution_count": null,
   "id": "d5706ff3",
   "metadata": {},
   "outputs": [],
   "source": [
    "print(df.memory_usage().sum() / 1024 / 1024)"
   ]
  },
  {
   "cell_type": "code",
   "execution_count": null,
   "id": "19b61f5e",
   "metadata": {},
   "outputs": [],
   "source": [
    "df.user_id.nunique(), df.product_id.nunique()"
   ]
  },
  {
   "cell_type": "code",
   "execution_count": null,
   "id": "fb8e23a7",
   "metadata": {},
   "outputs": [],
   "source": [
    "%%time\n",
    "cf = UserItemInteractions(\n",
    "    name='Zazzle',\n",
    "    users=df['user_id'],\n",
    "    items=df['product_id'],\n",
    "    min_num_rating_per_user=200,\n",
    "    min_num_rating_per_item=50,\n",
    "    num_cores = 1\n",
    ")\n",
    "cf.print_memory_usage()\n"
   ]
  },
  {
   "cell_type": "code",
   "execution_count": null,
   "id": "b0de3b42",
   "metadata": {},
   "outputs": [],
   "source": [
    "cf.num_users, cf.num_items, cf.sparsity"
   ]
  },
  {
   "cell_type": "code",
   "execution_count": null,
   "id": "a030b677",
   "metadata": {},
   "outputs": [],
   "source": [
    "fig, ax = plt.subplots(1,2,figsize=(10,3))\n",
    "ax = ax.flatten()\n",
    "cf.df_user.NumRatings.hist(bins=100, ax=ax[0], range=(0,1000))\n",
    "#cf.df_user.NumRatings.divide(cf.num_items).hist(bins=100, ax=ax[0], range=(0,0.01))\n",
    "ax[0].set_ylabel('# of interactions per user')\n",
    "cf.df_item.NumRatings.hist(bins=100, ax=ax[1], range=(0,1000))\n",
    "#cf.df_item.NumRatings.divide(cf.num_users).hist(bins=100, ax=ax[1], range=(0,0.01))\n",
    "ax[1].set_ylabel('# of interactions per product')\n",
    "fig.tight_layout()"
   ]
  },
  {
   "cell_type": "code",
   "execution_count": null,
   "id": "8823423e",
   "metadata": {},
   "outputs": [],
   "source": [
    "%%time\n",
    "cf.generate_train_test(user_test_ratio=0.1)"
   ]
  },
  {
   "cell_type": "code",
   "execution_count": null,
   "id": "66bb09af",
   "metadata": {},
   "outputs": [],
   "source": [
    "%%time\n",
    "bpr = BPR(\n",
    "    num_features=20,\n",
    "    reg_lambda=0.,\n",
    "    num_iters=200,\n",
    "    learning_rate = 0.4,\n",
    "    batch_size=10,\n",
    "    initial_std=0.001,\n",
    "    seed=None\n",
    ")\n",
    "bpr_ndcg_func = partial(\n",
    "    cf.get_ndcg_metric,\n",
    "    num_items=10,\n",
    "    truncate=False\n",
    ")\n",
    "bpr.fit(cf.R_train, ndcg_func=bpr_ndcg_func)"
   ]
  },
  {
   "cell_type": "code",
   "execution_count": null,
   "id": "2b946437",
   "metadata": {},
   "outputs": [],
   "source": [
    "ndcg_df = pd.DataFrame(bpr.ndcg_metric)\n",
    "fig, ax = plt.subplots(1, 2, figsize=(10,3))\n",
    "ax[0].plot(ndcg_df['train'])\n",
    "ax[0].set_ylabel('NDCG@10 Training')\n",
    "ax[1].plot(ndcg_df['test'])\n",
    "ax[1].set_ylabel('NDCG@10 Testing')"
   ]
  },
  {
   "cell_type": "code",
   "execution_count": null,
   "id": "376d9efe",
   "metadata": {},
   "outputs": [],
   "source": [
    "ndcg_df"
   ]
  },
  {
   "cell_type": "code",
   "execution_count": null,
   "id": "0c664145",
   "metadata": {},
   "outputs": [],
   "source": [
    "bpr_ndcg_func(test=True), bpr_ndcg_func(test=False)"
   ]
  },
  {
   "cell_type": "code",
   "execution_count": null,
   "id": "c303dad8",
   "metadata": {},
   "outputs": [],
   "source": []
  }
 ],
 "metadata": {
  "kernelspec": {
   "display_name": "bpr_env",
   "language": "python",
   "name": "bpr_env"
  },
  "language_info": {
   "codemirror_mode": {
    "name": "ipython",
    "version": 3
   },
   "file_extension": ".py",
   "mimetype": "text/x-python",
   "name": "python",
   "nbconvert_exporter": "python",
   "pygments_lexer": "ipython3",
   "version": "3.10.6"
  }
 },
 "nbformat": 4,
 "nbformat_minor": 5
}
