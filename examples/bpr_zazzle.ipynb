{
 "cells": [
  {
   "cell_type": "markdown",
   "id": "1971f6cf",
   "metadata": {},
   "source": [
    "## Application of BPR on Zazzle data"
   ]
  },
  {
   "cell_type": "code",
   "execution_count": 1,
   "id": "6985b0da",
   "metadata": {},
   "outputs": [],
   "source": [
    "#%load_ext watermark\n",
    "%load_ext autoreload \n",
    "%autoreload 2"
   ]
  },
  {
   "cell_type": "code",
   "execution_count": 2,
   "id": "6f571098",
   "metadata": {},
   "outputs": [],
   "source": [
    "import os\n",
    "import sys\n",
    "import itertools\n",
    "import numpy as np\n",
    "import pandas as pd\n",
    "from subprocess import call\n",
    "from pybpr import *\n",
    "import matplotlib.pyplot as plt\n",
    "from functools import partial"
   ]
  },
  {
   "cell_type": "code",
   "execution_count": 3,
   "id": "bcd21924",
   "metadata": {},
   "outputs": [
    {
     "name": "stdout",
     "output_type": "stream",
     "text": [
      "CPU times: user 3.98 s, sys: 1.92 s, total: 5.9 s\n",
      "Wall time: 2.55 s\n"
     ]
    },
    {
     "data": {
      "text/plain": [
       "Index(['product_id', 'user_id', 'click_created', 'search_url',\n",
       "       'search_created', 'title', 'long_description', 'final_department_id',\n",
       "       'price_us_usd', 'date_created', 'date_modified', 'is_customizable',\n",
       "       'seller_id', 'store_id', 'group_id', 'product_url_en_us',\n",
       "       'product_design_image_url_en_us', 'product_image_url_en_us',\n",
       "       'product_type'],\n",
       "      dtype='object')"
      ]
     },
     "execution_count": 3,
     "metadata": {},
     "output_type": "execute_result"
    }
   ],
   "source": [
    "%%time\n",
    "data_dir = os.path.join(os.path.curdir, 'data', 'zazzle')\n",
    "df = pd.read_parquet(os.path.join(os.path.join(data_dir,'BPR_0005_part_00.parquet')))\n",
    "df.columns\n",
    "#print(df.memory_usage().sum() / 1024 / 1024)"
   ]
  },
  {
   "cell_type": "code",
   "execution_count": 4,
   "id": "d5706ff3",
   "metadata": {},
   "outputs": [
    {
     "name": "stdout",
     "output_type": "stream",
     "text": [
      "616.9274301528931\n"
     ]
    }
   ],
   "source": [
    "print(df.memory_usage().sum() / 1024 / 1024)"
   ]
  },
  {
   "cell_type": "code",
   "execution_count": 5,
   "id": "19b61f5e",
   "metadata": {},
   "outputs": [
    {
     "data": {
      "text/plain": [
       "(350388, 11401)"
      ]
     },
     "execution_count": 5,
     "metadata": {},
     "output_type": "execute_result"
    }
   ],
   "source": [
    "df.user_id.nunique(), df.product_id.nunique()"
   ]
  },
  {
   "cell_type": "code",
   "execution_count": 6,
   "id": "fb8e23a7",
   "metadata": {},
   "outputs": [
    {
     "name": "stdout",
     "output_type": "stream",
     "text": [
      "--- Memory usage for Zazzle:\n",
      "Sparse User-Item matrix = 0.01 MB\n",
      "User-Item dataframe df = 47.27 MB\n",
      "Item dataframe df_item = 0.4 MB\n",
      "Item dataframe df_user = 10.77 MB\n",
      "---\n",
      "CPU times: user 3.18 s, sys: 210 ms, total: 3.39 s\n",
      "Wall time: 3.38 s\n"
     ]
    }
   ],
   "source": [
    "%%time\n",
    "cf = UserItemInteractions(\n",
    "    name='Zazzle',\n",
    "    users=df['user_id'],\n",
    "    items=df['product_id'],\n",
    "    min_num_rating_per_user=200,\n",
    "    min_num_rating_per_item=50,\n",
    "    num_cores = 1\n",
    ")\n",
    "cf.print_memory_usage()"
   ]
  },
  {
   "cell_type": "code",
   "execution_count": 7,
   "id": "b0de3b42",
   "metadata": {},
   "outputs": [
    {
     "data": {
      "text/plain": [
       "(1780, 3284, 0.295093)"
      ]
     },
     "execution_count": 7,
     "metadata": {},
     "output_type": "execute_result"
    }
   ],
   "source": [
    "cf.num_users, cf.num_items, cf.sparsity"
   ]
  },
  {
   "cell_type": "code",
   "execution_count": 8,
   "id": "a030b677",
   "metadata": {},
   "outputs": [
    {
     "data": {
      "image/png": "[encoded data removed]",
      "text/plain": [
       "<Figure size 1000x300 with 2 Axes>"
      ]
     },
     "metadata": {},
     "output_type": "display_data"
    }
   ],
   "source": [
    "fig, ax = plt.subplots(1,2,figsize=(10,3))\n",
    "ax = ax.flatten()\n",
    "cf.df_user.NumRatings.hist(bins=100, ax=ax[0], range=(0,1000))\n",
    "#cf.df_user.NumRatings.divide(cf.num_items).hist(bins=100, ax=ax[0], range=(0,0.01))\n",
    "ax[0].set_ylabel('# of interactions per user')\n",
    "cf.df_item.NumRatings.hist(bins=100, ax=ax[1], range=(0,1000))\n",
    "#cf.df_item.NumRatings.divide(cf.num_users).hist(bins=100, ax=ax[1], range=(0,0.01))\n",
    "ax[1].set_ylabel('# of interactions per product')\n",
    "fig.tight_layout()"
   ]
  },
  {
   "cell_type": "code",
   "execution_count": 102,
   "id": "8823423e",
   "metadata": {},
   "outputs": [
    {
     "name": "stdout",
     "output_type": "stream",
     "text": [
      "CPU times: user 3.45 s, sys: 563 µs, total: 3.45 s\n",
      "Wall time: 3.45 s\n"
     ]
    }
   ],
   "source": [
    "%%time\n",
    "cf.generate_train_test(user_test_ratio=0.1)"
   ]
  },
  {
   "cell_type": "code",
   "execution_count": 114,
   "id": "66bb09af",
   "metadata": {},
   "outputs": [
    {
     "name": "stderr",
     "output_type": "stream",
     "text": [
      "BPR: 100%|██████████████████████████████████████████████| 200/200 [08:19<00:00,  2.50s/it]"
     ]
    },
    {
     "name": "stdout",
     "output_type": "stream",
     "text": [
      "CPU times: user 1h 16min 21s, sys: 3h 8min 29s, total: 4h 24min 50s\n",
      "Wall time: 8min 20s\n"
     ]
    },
    {
     "name": "stderr",
     "output_type": "stream",
     "text": [
      "\n"
     ]
    }
   ],
   "source": [
    "%%time\n",
    "bpr = BPR(\n",
    "    num_features=20,\n",
    "    reg_lambda=0.,\n",
    "    num_iters=200,\n",
    "    learning_rate = 0.4,\n",
    "    batch_size=10,\n",
    "    initial_std=0.001,\n",
    "    seed=None\n",
    ")\n",
    "bpr_ndcg_func = partial(\n",
    "    cf.get_ndcg_metric,\n",
    "    num_items=10,\n",
    "    truncate=False\n",
    ")\n",
    "bpr.fit(cf.R, ndcg_func=bpr_ndcg_func)"
   ]
  },
  {
   "cell_type": "code",
   "execution_count": 115,
   "id": "2b946437",
   "metadata": {},
   "outputs": [
    {
     "data": {
      "text/plain": [
       "Text(0, 0.5, 'NDCG@10 Testing')"
      ]
     },
     "execution_count": 115,
     "metadata": {},
     "output_type": "execute_result"
    },
    {
     "data": {
      "image/png": "[encoded data removed]",
      "text/plain": [
       "<Figure size 1000x300 with 2 Axes>"
      ]
     },
     "metadata": {},
     "output_type": "display_data"
    }
   ],
   "source": [
    "ndcg_df = pd.DataFrame(bpr.ndcg_metric)\n",
    "fig, ax = plt.subplots(1, 2, figsize=(10,3))\n",
    "ax[0].plot(ndcg_df['train'])\n",
    "ax[0].set_ylabel('NDCG@10 Training')\n",
    "ax[1].plot(ndcg_df['test'])\n",
    "ax[1].set_ylabel('NDCG@10 Testing')"
   ]
  },
  {
   "cell_type": "code",
   "execution_count": 105,
   "id": "376d9efe",
   "metadata": {},
   "outputs": [
    {
     "data": {
      "text/html": [
       "<div>\n",
       "<style scoped>\n",
       "    .dataframe tbody tr th:only-of-type {\n",
       "        vertical-align: middle;\n",
       "    }\n",
       "\n",
       "    .dataframe tbody tr th {\n",
       "        vertical-align: top;\n",
       "    }\n",
       "\n",
       "    .dataframe thead th {\n",
       "        text-align: right;\n",
       "    }\n",
       "</style>\n",
       "<table border=\"1\" class=\"dataframe\">\n",
       "  <thead>\n",
       "    <tr style=\"text-align: right;\">\n",
       "      <th></th>\n",
       "      <th>test</th>\n",
       "      <th>train</th>\n",
       "    </tr>\n",
       "  </thead>\n",
       "  <tbody>\n",
       "    <tr>\n",
       "      <th>0</th>\n",
       "      <td>0.001648</td>\n",
       "      <td>0.001291</td>\n",
       "    </tr>\n",
       "    <tr>\n",
       "      <th>1</th>\n",
       "      <td>0.002865</td>\n",
       "      <td>0.002421</td>\n",
       "    </tr>\n",
       "    <tr>\n",
       "      <th>2</th>\n",
       "      <td>0.005343</td>\n",
       "      <td>0.005043</td>\n",
       "    </tr>\n",
       "    <tr>\n",
       "      <th>3</th>\n",
       "      <td>0.010364</td>\n",
       "      <td>0.008655</td>\n",
       "    </tr>\n",
       "    <tr>\n",
       "      <th>4</th>\n",
       "      <td>0.017160</td>\n",
       "      <td>0.013694</td>\n",
       "    </tr>\n",
       "    <tr>\n",
       "      <th>5</th>\n",
       "      <td>0.022928</td>\n",
       "      <td>0.020551</td>\n",
       "    </tr>\n",
       "    <tr>\n",
       "      <th>6</th>\n",
       "      <td>0.028321</td>\n",
       "      <td>0.025273</td>\n",
       "    </tr>\n",
       "    <tr>\n",
       "      <th>7</th>\n",
       "      <td>0.033239</td>\n",
       "      <td>0.030047</td>\n",
       "    </tr>\n",
       "    <tr>\n",
       "      <th>8</th>\n",
       "      <td>0.037117</td>\n",
       "      <td>0.035687</td>\n",
       "    </tr>\n",
       "    <tr>\n",
       "      <th>9</th>\n",
       "      <td>0.040470</td>\n",
       "      <td>0.040793</td>\n",
       "    </tr>\n",
       "    <tr>\n",
       "      <th>10</th>\n",
       "      <td>0.043154</td>\n",
       "      <td>0.045062</td>\n",
       "    </tr>\n",
       "    <tr>\n",
       "      <th>11</th>\n",
       "      <td>0.045312</td>\n",
       "      <td>0.048218</td>\n",
       "    </tr>\n",
       "    <tr>\n",
       "      <th>12</th>\n",
       "      <td>0.046544</td>\n",
       "      <td>0.051238</td>\n",
       "    </tr>\n",
       "    <tr>\n",
       "      <th>13</th>\n",
       "      <td>0.047695</td>\n",
       "      <td>0.053175</td>\n",
       "    </tr>\n",
       "    <tr>\n",
       "      <th>14</th>\n",
       "      <td>0.047768</td>\n",
       "      <td>0.055511</td>\n",
       "    </tr>\n",
       "    <tr>\n",
       "      <th>15</th>\n",
       "      <td>0.047593</td>\n",
       "      <td>0.057078</td>\n",
       "    </tr>\n",
       "    <tr>\n",
       "      <th>16</th>\n",
       "      <td>0.048511</td>\n",
       "      <td>0.058258</td>\n",
       "    </tr>\n",
       "    <tr>\n",
       "      <th>17</th>\n",
       "      <td>0.048522</td>\n",
       "      <td>0.058022</td>\n",
       "    </tr>\n",
       "    <tr>\n",
       "      <th>18</th>\n",
       "      <td>0.047909</td>\n",
       "      <td>0.059157</td>\n",
       "    </tr>\n",
       "    <tr>\n",
       "      <th>19</th>\n",
       "      <td>0.047403</td>\n",
       "      <td>0.059863</td>\n",
       "    </tr>\n",
       "  </tbody>\n",
       "</table>\n",
       "</div>"
      ],
      "text/plain": [
       "        test     train\n",
       "0   0.001648  0.001291\n",
       "1   0.002865  0.002421\n",
       "2   0.005343  0.005043\n",
       "3   0.010364  0.008655\n",
       "4   0.017160  0.013694\n",
       "5   0.022928  0.020551\n",
       "6   0.028321  0.025273\n",
       "7   0.033239  0.030047\n",
       "8   0.037117  0.035687\n",
       "9   0.040470  0.040793\n",
       "10  0.043154  0.045062\n",
       "11  0.045312  0.048218\n",
       "12  0.046544  0.051238\n",
       "13  0.047695  0.053175\n",
       "14  0.047768  0.055511\n",
       "15  0.047593  0.057078\n",
       "16  0.048511  0.058258\n",
       "17  0.048522  0.058022\n",
       "18  0.047909  0.059157\n",
       "19  0.047403  0.059863"
      ]
     },
     "execution_count": 105,
     "metadata": {},
     "output_type": "execute_result"
    }
   ],
   "source": [
    "ndcg_df"
   ]
  },
  {
   "cell_type": "code",
   "execution_count": 79,
   "id": "0c664145",
   "metadata": {},
   "outputs": [
    {
     "ename": "TypeError",
     "evalue": "UserItemInteractions.get_ndcg_metric() missing 2 required positional arguments: 'user_mat' and 'item_mat'",
     "output_type": "error",
     "traceback": [
      "\u001b[0;31m---------------------------------------------------------------------------\u001b[0m",
      "\u001b[0;31mTypeError\u001b[0m                                 Traceback (most recent call last)",
      "Input \u001b[0;32mIn [79]\u001b[0m, in \u001b[0;36m<cell line: 1>\u001b[0;34m()\u001b[0m\n\u001b[0;32m----> 1\u001b[0m \u001b[43mbpr_ndcg_func\u001b[49m\u001b[43m(\u001b[49m\u001b[43mtest\u001b[49m\u001b[38;5;241;43m=\u001b[39;49m\u001b[38;5;28;43;01mTrue\u001b[39;49;00m\u001b[43m)\u001b[49m, bpr_ndcg_func(test\u001b[38;5;241m=\u001b[39m\u001b[38;5;28;01mFalse\u001b[39;00m)\n",
      "\u001b[0;31mTypeError\u001b[0m: UserItemInteractions.get_ndcg_metric() missing 2 required positional arguments: 'user_mat' and 'item_mat'"
     ]
    }
   ],
   "source": [
    "bpr_ndcg_func(test=True), bpr_ndcg_func(test=False)"
   ]
  },
  {
   "cell_type": "code",
   "execution_count": null,
   "id": "c303dad8",
   "metadata": {},
   "outputs": [],
   "source": []
  }
 ],
 "metadata": {
  "kernelspec": {
   "display_name": "bpr_env",
   "language": "python",
   "name": "bpr_env"
  },
  "language_info": {
   "codemirror_mode": {
    "name": "ipython",
    "version": 3
   },
   "file_extension": ".py",
   "mimetype": "text/x-python",
   "name": "python",
   "nbconvert_exporter": "python",
   "pygments_lexer": "ipython3",
   "version": "3.10.6"
  }
 },
 "nbformat": 4,
 "nbformat_minor": 5
}
