{
 "cells": [
  {
   "cell_type": "markdown",
   "id": "dde5390d",
   "metadata": {},
   "source": [
    "## Application of BPR on Zazzle Data"
   ]
  },
  {
   "cell_type": "code",
   "execution_count": 1,
   "id": "4f4ca103",
   "metadata": {},
   "outputs": [],
   "source": [
    "%load_ext autoreload\n",
    "%autoreload 2"
   ]
  },
  {
   "cell_type": "code",
   "execution_count": 2,
   "id": "4af7d296",
   "metadata": {},
   "outputs": [],
   "source": [
    "import os\n",
    "import sys\n",
    "import itertools\n",
    "import numpy as np\n",
    "import pandas as pd\n",
    "from subprocess import call\n",
    "from pybpr import *\n",
    "import scipy.sparse as sp\n",
    "from functools import reduce\n",
    "import matplotlib.pyplot as plt\n",
    "from functools import partial"
   ]
  },
  {
   "cell_type": "markdown",
   "id": "43c1561b-beb6-4222-b3a7-1ac4a51e5452",
   "metadata": {},
   "source": [
    "## Process data from Zazzle"
   ]
  },
  {
   "cell_type": "code",
   "execution_count": null,
   "id": "ee706802",
   "metadata": {},
   "outputs": [],
   "source": [
    "%%time\n",
    "data_dir = os.path.join(os.path.curdir, 'data', 'NREL')\n",
    "files = [os.path.join(data_dir,f'Clicks_{str(ix).zfill(4)}_part_00.parquet') for ix in range(80)]\n",
    "df = pd.concat([pd.read_parquet(ifile) for ifile in files])\n",
    "cdf = df[df['is_click']].copy() # click data\n",
    "vdf = df[~df['is_click']].copy() # not click is view data\n",
    "#df_click = df_click[~df_click['is_click']].copy()"
   ]
  },
  {
   "cell_type": "code",
   "execution_count": null,
   "id": "fae7ffba",
   "metadata": {},
   "outputs": [],
   "source": [
    "%%time\n",
    "files = [os.path.join(data_dir,f'OrderItems_{str(ix).zfill(4)}_part_00.parquet') for ix in range(80)]\n",
    "odf = pd.concat([pd.read_parquet(ifile) for ifile in files])"
   ]
  },
  {
   "cell_type": "code",
   "execution_count": null,
   "id": "3b1c792e",
   "metadata": {},
   "outputs": [],
   "source": [
    "%%time\n",
    "files = [os.path.join(data_dir,f'Products_{str(ix).zfill(4)}_part_00.parquet') for ix in range(80)]\n",
    "pdf = pd.concat([pd.read_parquet(ifile) for ifile in files])"
   ]
  },
  {
   "cell_type": "code",
   "execution_count": null,
   "id": "0ff44497",
   "metadata": {},
   "outputs": [],
   "source": [
    "vdf.drop(columns=['is_click','cleaned_url'], inplace=True, errors='ignore')\n",
    "cdf.drop(columns=['is_click','cleaned_url'], inplace=True, errors='ignore')\n",
    "cdf = pd.concat([cdf, odf]) # ensures order data is part of click data\n",
    "vdf = pd.concat([vdf, cdf]) # ensures click data is part of view data"
   ]
  },
  {
   "cell_type": "code",
   "execution_count": null,
   "id": "2af0015f-9bc4-48b4-8494-70d5bda5128a",
   "metadata": {},
   "outputs": [],
   "source": [
    "odf.head()"
   ]
  },
  {
   "cell_type": "code",
   "execution_count": null,
   "id": "bb30d18f",
   "metadata": {},
   "outputs": [],
   "source": [
    "# remove repeated entries\n",
    "cdf.drop_duplicates(subset=['user_id','product_id'], keep='last', inplace=True)\n",
    "vdf.drop_duplicates(subset=['user_id','product_id'], keep='last', inplace=True)\n",
    "odf.drop_duplicates(subset=['user_id','product_id'], keep='last', inplace=True)"
   ]
  },
  {
   "cell_type": "code",
   "execution_count": null,
   "id": "696efd75-1cca-4e35-85ca-2279063dc82b",
   "metadata": {},
   "outputs": [],
   "source": [
    "print(f'Views:  int={vdf.shape[0]} u={vdf.user_id.nunique()} i={vdf.product_id.nunique()}')\n",
    "print(f'Clicks: int={cdf.shape[0]} u={cdf.user_id.nunique()} i={cdf.product_id.nunique()}')\n",
    "print(f'Orders: int={odf.shape[0]} u={odf.user_id.nunique()} i={odf.product_id.nunique()}')"
   ]
  },
  {
   "cell_type": "code",
   "execution_count": null,
   "id": "c4d4238b",
   "metadata": {},
   "outputs": [],
   "source": [
    "# \n",
    "idf = vdf.groupby('user_id')['product_id'].count().gt(10)\n",
    "valid_users = idf[idf].index.to_numpy()\n",
    "jdf = vdf.groupby('product_id')['user_id'].count().gt(10)\n",
    "valid_items = jdf[jdf].index.to_numpy()\n",
    "print(f'Valid Users = {valid_users.shape[0]}')\n",
    "print(f'Valid Items = {valid_items.shape[0]}')"
   ]
  },
  {
   "cell_type": "code",
   "execution_count": null,
   "id": "3ec55c86",
   "metadata": {},
   "outputs": [],
   "source": [
    "common_users = reduce(np.intersect1d, (vdf.user_id, cdf.user_id, odf.user_id, valid_users))\n",
    "common_users = valid_users\n",
    "vdf = vdf[vdf.user_id.isin(common_users)].copy()\n",
    "cdf = cdf[cdf.user_id.isin(common_users)].copy()\n",
    "odf = odf[odf.user_id.isin(common_users)].copy()\n",
    "print(vdf.user_id.nunique(), cdf.user_id.nunique(), odf.user_id.nunique())\n",
    "common_items = reduce(np.intersect1d, (vdf.product_id, cdf.product_id, odf.product_id, valid_items))\n",
    "common_items=valid_items\n",
    "vdf = vdf[vdf.product_id.isin(common_items)].copy()\n",
    "cdf = cdf[cdf.product_id.isin(common_items)].copy()\n",
    "odf = odf[odf.product_id.isin(common_items)].copy()\n",
    "print(vdf.product_id.nunique(), cdf.product_id.nunique(), odf.product_id.nunique())"
   ]
  },
  {
   "cell_type": "code",
   "execution_count": null,
   "id": "de7f0ef1",
   "metadata": {},
   "outputs": [],
   "source": [
    "%%time\n",
    "# get indices for users and products\n",
    "for cname in ['user_id','product_id']:\n",
    "    vdf[cname] = vdf[cname].astype('category')\n",
    "    vdf[f'{cname}x'] = vdf[cname].cat.codes.astype(int)\n",
    "    cdf[cname] = pd.Categorical(\n",
    "        cdf[cname], \n",
    "        categories=vdf[cname].unique(), \n",
    "        ordered=False\n",
    "    )\n",
    "    cdf[f'{cname}x'] = cdf[cname].cat.codes.astype(int)\n",
    "    odf[cname] = pd.Categorical(\n",
    "        odf[cname], \n",
    "        categories=vdf[cname].unique(), \n",
    "        ordered=False\n",
    "    )\n",
    "    odf[f'{cname}x'] = odf[cname].cat.codes.astype(int)\n",
    "cname='product_id'\n",
    "pdf[cname] = pd.Categorical(\n",
    "    pdf[cname], \n",
    "    categories=vdf[cname].unique(), \n",
    "    ordered=False\n",
    ")\n",
    "pdf[f'{cname}x'] = pdf[cname].cat.codes.astype(int)\n",
    "# odf.groupby('product_id')['user_id'].count().sort_values()"
   ]
  },
  {
   "cell_type": "code",
   "execution_count": null,
   "id": "12a89ba5-47d7-49aa-87e3-39cd350498a7",
   "metadata": {},
   "outputs": [],
   "source": [
    "vdf, [cdf, odf] = generate_user_item_indices(\n",
    "    parent_df = vdf, \n",
    "    children_dfs = [cdf, odf],\n",
    "    userid_column = 'user_id',\n",
    "    itemid_column = 'product_id',\n",
    "    index_suffix='x_new'\n",
    ")"
   ]
  },
  {
   "cell_type": "code",
   "execution_count": null,
   "id": "15db2a52-f55a-4109-acc3-e4040e655e96",
   "metadata": {},
   "outputs": [],
   "source": [
    "vdf['user_idx'].compare(vdf['user_idx_new'])"
   ]
  },
  {
   "cell_type": "code",
   "execution_count": null,
   "id": "b0e9ea4b-a3b8-46e5-9ec8-bbac14c30430",
   "metadata": {},
   "outputs": [],
   "source": [
    "cdf[cdf.product_idx==33]"
   ]
  },
  {
   "cell_type": "code",
   "execution_count": null,
   "id": "49b7b240-500c-49d5-9276-72665ab73e99",
   "metadata": {},
   "outputs": [],
   "source": [
    "vdf[vdf.product_idx==33]"
   ]
  },
  {
   "cell_type": "code",
   "execution_count": null,
   "id": "68f05565-6ce2-4d46-a015-ddb8c6cebb16",
   "metadata": {},
   "outputs": [],
   "source": [
    "cdf[cdf.product_idx==33]"
   ]
  },
  {
   "cell_type": "code",
   "execution_count": null,
   "id": "73ba399c-c4e7-448b-bba8-492aa6941d5d",
   "metadata": {},
   "outputs": [],
   "source": [
    "vdf.to_parquet(os.path.join(os.path.curdir, 'output', 'zazzle_data', 'view_data.parquet'))\n",
    "cdf.to_parquet(os.path.join(os.path.curdir, 'output', 'zazzle_data', 'click_data.parquet'))\n",
    "odf.to_parquet(os.path.join(os.path.curdir, 'output', 'zazzle_data', 'order_data.parquet'))"
   ]
  },
  {
   "cell_type": "markdown",
   "id": "568209fa-a0e8-457b-8caa-ee5ede1bbcc0",
   "metadata": {},
   "source": [
    "## Plotting"
   ]
  },
  {
   "cell_type": "code",
   "execution_count": null,
   "id": "1e9e2329-fbd3-41ed-9f81-5e13d646bdbf",
   "metadata": {},
   "outputs": [],
   "source": [
    "fig, ax = plt.subplots(figsize=(5,3))\n",
    "iter_dict = {'Views': vdf, 'Clicks':cdf, 'Orders':odf}\n",
    "for ilbl, idf in iter_dict.items():\n",
    "    data = idf.groupby('user_idx')['product_idx'].count().values\n",
    "    xbins, ylocs = get_cdf(data, bins=100, range=(0,200))\n",
    "    ax.plot(xbins, ylocs, label=ilbl) \n",
    "ax.legend()\n",
    "ax.grid(True)\n",
    "ax.set_xlabel('Number of interactions')\n",
    "ax.set_ylabel('CDF')"
   ]
  },
  {
   "cell_type": "markdown",
   "id": "db159369-ebb0-45ce-9d86-d72abe05153f",
   "metadata": {},
   "source": [
    "## Put Zazzle data in UserItemInteration Class object"
   ]
  },
  {
   "cell_type": "code",
   "execution_count": null,
   "id": "89911099",
   "metadata": {},
   "outputs": [],
   "source": [
    "%%time\n",
    "num_users = vdf['user_idx'].max()+1\n",
    "num_items = vdf['product_idx'].max()+1\n",
    "view_data = UserItemInteractions(\n",
    "    name='ZAZZLE VIEW DATA',\n",
    "    users_index=vdf['user_idx'],\n",
    "    items_index=vdf['product_idx']\n",
    ")\n",
    "#view_data.generate_train_test(user_test_ratio=0.2)"
   ]
  },
  {
   "cell_type": "code",
   "execution_count": null,
   "id": "845bcef3-2ad3-4e7f-b987-c1d238b28fc7",
   "metadata": {},
   "outputs": [],
   "source": [
    "view_data.mat"
   ]
  },
  {
   "cell_type": "code",
   "execution_count": null,
   "id": "0f943691-4edd-48b2-b47c-5b3edcbd78d5",
   "metadata": {},
   "outputs": [],
   "source": [
    "%%time\n",
    "click_data = UserItemInteractions(\n",
    "    name='ZAZZLE CLICK DATA',\n",
    "    users_index=cdf['user_idx'],\n",
    "    items_index=cdf['product_idx'],\n",
    "    num_users = num_users,\n",
    "    num_items = num_items\n",
    ")\n",
    "click_data.generate_train_test(user_test_ratio=0.2)"
   ]
  },
  {
   "cell_type": "code",
   "execution_count": null,
   "id": "584899c2-55aa-4a29-bfd0-d437d51bb703",
   "metadata": {},
   "outputs": [],
   "source": [
    "%%time\n",
    "order_data = UserItemInteractions(\n",
    "    name='ZAZZLE ORDER DATA',\n",
    "    users_index=odf['user_idx'],\n",
    "    items_index=odf['product_idx'],\n",
    "    num_users = num_users,\n",
    "    num_items = num_items\n",
    ")\n",
    "order_data.generate_train_test(user_test_ratio=0.2)"
   ]
  },
  {
   "cell_type": "code",
   "execution_count": null,
   "id": "080a0229-3df0-4cce-9d3a-df1091bf7325",
   "metadata": {},
   "outputs": [],
   "source": [
    "view_data.mat != click_data.mat"
   ]
  },
  {
   "cell_type": "markdown",
   "id": "a9d6885d-e0f6-4543-8271-821796e48b72",
   "metadata": {},
   "source": [
    "## BPR "
   ]
  },
  {
   "cell_type": "code",
   "execution_count": null,
   "id": "783a4e91-67c5-4602-835f-6582375ef52b",
   "metadata": {},
   "outputs": [],
   "source": [
    "bpr1 = BPR(\n",
    "    num_features=100,\n",
    "    reg_lambda=0.0,\n",
    "    num_iters=50,\n",
    "    learning_rate = 0.02,\n",
    "    batch_size=10000,\n",
    "    initial_std=0.001,\n",
    ")\n",
    "bpr1.initiate(uimat=order_data.mat)"
   ]
  },
  {
   "cell_type": "code",
   "execution_count": null,
   "id": "3413fa9e-4fd4-4aa1-a6e5-38893973b894",
   "metadata": {},
   "outputs": [],
   "source": [
    "xx = click_data.get_metric_v1(\n",
    "        umat=bpr1.umat, \n",
    "        imat=bpr1.imat, \n",
    "        perc_active_users=0.5,\n",
    "        perc_active_items=0.5,\n",
    "        num_recs=60\n",
    ")"
   ]
  },
  {
   "cell_type": "code",
   "execution_count": null,
   "id": "13654a7e-fdc3-4d76-a7d0-9d37ad6e127e",
   "metadata": {},
   "outputs": [],
   "source": [
    "xxx = xx != click_data.mat"
   ]
  },
  {
   "cell_type": "code",
   "execution_count": null,
   "id": "f41447b8-bfd8-448d-9023-44c76135617c",
   "metadata": {},
   "outputs": [],
   "source": [
    "click_data.mat"
   ]
  },
  {
   "cell_type": "code",
   "execution_count": null,
   "id": "61bda20e-d774-43f0-9e0e-88c6c3d58cab",
   "metadata": {},
   "outputs": [],
   "source": [
    "rec1 = np.asarray(xx.sum(axis=1)).reshape(-1)"
   ]
  },
  {
   "cell_type": "code",
   "execution_count": null,
   "id": "fed3e4f2-d0d6-4dbe-a7dd-59512ab58b91",
   "metadata": {},
   "outputs": [],
   "source": [
    "rec2 = np.asarray(click_data.mat.sum(axis=1)).reshape(-1)"
   ]
  },
  {
   "cell_type": "code",
   "execution_count": null,
   "id": "570accc5-b42a-422e-99e7-fa965d03de42",
   "metadata": {},
   "outputs": [],
   "source": [
    "rec2.take([2,3,4,5,10])"
   ]
  },
  {
   "cell_type": "code",
   "execution_count": null,
   "id": "9f39dbc9-44ce-405a-93f1-a26a389e6fd8",
   "metadata": {},
   "outputs": [],
   "source": [
    "np.repeat([10,20],10)"
   ]
  },
  {
   "cell_type": "raw",
   "id": "b6cbebaa-abb0-48f3-a8d9-351bc3bf719d",
   "metadata": {},
   "source": []
  },
  {
   "cell_type": "code",
   "execution_count": null,
   "id": "458fcd8f-63c7-465d-bb3f-86dff788c74b",
   "metadata": {},
   "outputs": [],
   "source": [
    "bb = csr_matrix(\n",
    "    ([True, True,True,True], ([0, 2,1,0], [0,0,1,2])),\n",
    "    shape=(3, 3),\n",
    "    dtype=bool\n",
    ")\n",
    "cc = csr_matrix(\n",
    "    ([True,True,True], ([1,2,2], [1,1,2])),\n",
    "    shape=(3, 3),\n",
    "    dtype=bool\n",
    ")"
   ]
  },
  {
   "cell_type": "code",
   "execution_count": null,
   "id": "099ba8da-7523-4797-b8fe-b140f21a1a51",
   "metadata": {},
   "outputs": [],
   "source": [
    "bb.toarray(), cc.toarray()"
   ]
  },
  {
   "cell_type": "code",
   "execution_count": null,
   "id": "3f8748ae-1cfc-4e24-9185-3ecab00aa749",
   "metadata": {},
   "outputs": [],
   "source": [
    "(bb-cc).toarray()"
   ]
  },
  {
   "cell_type": "code",
   "execution_count": null,
   "id": "8df7e529-76ea-4035-b443-e219c6e19222",
   "metadata": {},
   "outputs": [],
   "source": [
    "dd = np.asarray((bb-cc).sum(axis=1)).reshape(-1)"
   ]
  },
  {
   "cell_type": "code",
   "execution_count": null,
   "id": "7d04d742-27bb-4c78-b578-1d7a3e16a5b3",
   "metadata": {},
   "outputs": [],
   "source": [
    "self.mat."
   ]
  },
  {
   "cell_type": "code",
   "execution_count": null,
   "id": "21267e5e-af25-422a-80d7-7f45632ea236",
   "metadata": {},
   "outputs": [],
   "source": [
    "# bpr1.umat, bpr1.imat = random\n",
    "for _ in range(10):\n",
    "    results = bpr_fit(bpr_obj=bpr1, iumat=order_data.mat, ncores=104)\n",
    "    imetric = click_data.get_metric_v1(\n",
    "        umat=bpr1.umat, \n",
    "        imat=bpr1.imat, \n",
    "        perc_active_users=0.5,\n",
    "        perc_active_items=0.5,\n",
    "        num_recs=60\n",
    "    )\n",
    "    print(imetric)"
   ]
  },
  {
   "cell_type": "code",
   "execution_count": null,
   "id": "e875ba76-0a74-4b0d-932d-6d07ff0cae24",
   "metadata": {},
   "outputs": [],
   "source": [
    "%%time\n",
    "metric1 = order_data.get_metric_v1(\n",
    "    umat=bpr1.umat, \n",
    "    imat=bpr1.imat, \n",
    "    perc_active_users=0.25, \n",
    "    perc_active_items=0.25,\n",
    "    num_recs=60\n",
    ")"
   ]
  },
  {
   "cell_type": "code",
   "execution_count": null,
   "id": "05143ecd-b800-43dc-8a38-94d2188023bb",
   "metadata": {},
   "outputs": [],
   "source": [
    "metric1"
   ]
  },
  {
   "cell_type": "code",
   "execution_count": null,
   "id": "7e20463b-c6ab-4ed7-87d4-22387eae3a99",
   "metadata": {},
   "outputs": [],
   "source": [
    "order_data.num_users*60"
   ]
  },
  {
   "cell_type": "code",
   "execution_count": null,
   "id": "daf08994-b959-4a99-84dd-9c647afa4826",
   "metadata": {},
   "outputs": [],
   "source": [
    "order_data.mat"
   ]
  },
  {
   "cell_type": "code",
   "execution_count": null,
   "id": "242b2273-aef4-4067-a1c0-634edd35a800",
   "metadata": {},
   "outputs": [],
   "source": [
    "(xx + order_data.mat).count_nonzero()"
   ]
  },
  {
   "cell_type": "code",
   "execution_count": null,
   "id": "82b8e0a1-2f3f-48ca-8d98-dce511295a51",
   "metadata": {},
   "outputs": [],
   "source": [
    "xx.nnz + order_data.mat.nnz - (xx + order_data.mat).count_nonzero()"
   ]
  },
  {
   "cell_type": "code",
   "execution_count": null,
   "id": "1c9e4a58-b6c3-480c-b336-34076cd5da66",
   "metadata": {},
   "outputs": [],
   "source": [
    "active_users = order_data.users_sorted_by_activity()"
   ]
  },
  {
   "cell_type": "code",
   "execution_count": null,
   "id": "ee1edd9c-cc65-4424-94a4-5956a16ba8ce",
   "metadata": {},
   "outputs": [],
   "source": [
    "umat_sliced = bpr1.umat.take(active_users, axis=0)\n",
    "rec_mat = umat_sliced.dot(bpr1.imat.T)"
   ]
  },
  {
   "cell_type": "code",
   "execution_count": null,
   "id": "95ecc908-de0d-4618-bbed-461e6d11563d",
   "metadata": {},
   "outputs": [],
   "source": [
    "np.amax(rec_mat)"
   ]
  },
  {
   "cell_type": "code",
   "execution_count": null,
   "id": "a6934acf-0b3f-4943-be76-09cac0f151cc",
   "metadata": {},
   "outputs": [],
   "source": [
    "np.argsort(rec_mat)"
   ]
  },
  {
   "cell_type": "code",
   "execution_count": null,
   "id": "a4a44f3d-72ec-4a8f-a544-2c05040d3b8e",
   "metadata": {},
   "outputs": [],
   "source": [
    "# computes the performance metric\n",
    "click_data.get_zazzle_metric_v1(umat=bpr1.umat, imat=bpr1.imat, user_count=2000, num_recs=60)"
   ]
  },
  {
   "cell_type": "code",
   "execution_count": null,
   "id": "9e0febc4-e7b0-4919-bfde-c3ec37e3344e",
   "metadata": {},
   "outputs": [],
   "source": [
    "rec_items = order_data.get_top_items_for_this_user(30, user_mat=bpr1.umat, item_mat=bpr1.imat, num_items=60, exclude_liked=True)"
   ]
  },
  {
   "cell_type": "code",
   "execution_count": null,
   "id": "91db6ea1-bf97-4e8a-90b8-5615475f9ef3",
   "metadata": {},
   "outputs": [],
   "source": [
    "bpr1.umat.shape"
   ]
  },
  {
   "cell_type": "code",
   "execution_count": null,
   "id": "4a1d3aa6-8177-4e05-ad2c-8e587b60444c",
   "metadata": {},
   "outputs": [],
   "source": [
    "2000*5000"
   ]
  },
  {
   "cell_type": "code",
   "execution_count": null,
   "id": "3faeeb19-16c4-42e3-9b77-6cc9dfdb0aab",
   "metadata": {},
   "outputs": [],
   "source": [
    "view_data.mat_train.nnz"
   ]
  },
  {
   "cell_type": "code",
   "execution_count": null,
   "id": "bae59ac8-40f6-42e6-a851-48a614310f50",
   "metadata": {},
   "outputs": [],
   "source": [
    "(2000*50000)/(16414*736254 - view_data.mat.nnz)"
   ]
  },
  {
   "cell_type": "code",
   "execution_count": null,
   "id": "d5908497-59a4-4784-94f9-a998d6f2386e",
   "metadata": {},
   "outputs": [],
   "source": [
    "view_data.mat.nnz"
   ]
  },
  {
   "cell_type": "code",
   "execution_count": null,
   "id": "8104c0e0-140e-447c-ac27-7421047eae0c",
   "metadata": {},
   "outputs": [],
   "source": [
    "xx = []\n",
    "for i in range(10):\n",
    "    xx.append(i)"
   ]
  },
  {
   "cell_type": "code",
   "execution_count": null,
   "id": "01ce781f-9b1e-4d6b-80b7-e89468ec6783",
   "metadata": {},
   "outputs": [],
   "source": [
    "xx"
   ]
  },
  {
   "cell_type": "code",
   "execution_count": null,
   "id": "346da807-2f45-4524-af1b-a161b26836c1",
   "metadata": {},
   "outputs": [],
   "source": []
  },
  {
   "cell_type": "code",
   "execution_count": null,
   "id": "f0a2a04d-39d7-452a-9604-2c13c7d4695e",
   "metadata": {},
   "outputs": [],
   "source": []
  },
  {
   "cell_type": "code",
   "execution_count": null,
   "id": "96fa8959-785a-4b87-8055-32bc9bf8af69",
   "metadata": {},
   "outputs": [],
   "source": []
  },
  {
   "cell_type": "code",
   "execution_count": 36,
   "id": "a76993f7-689c-4ba0-969b-17796d1650fb",
   "metadata": {},
   "outputs": [
    {
     "name": "stdout",
     "output_type": "stream",
     "text": [
      "----UserItemInteractions--Sample\n",
      "# of users (active/total): 8/8\n",
      "# of items (active/total): 10/10\n",
      "# of interactions: 28\n",
      "Sparsity in the UI mat: 0.35\n",
      "Memory used by sparse UI mat: 0.0 MB\n",
      "\n"
     ]
    }
   ],
   "source": [
    "test1 = UserItemInteractions(\n",
    "    users_index=np.array([1, 1, 1, 1, 1, 2, 2, 2, 3, 3, 3, 4, 4, 4,\n",
    "                          5, 5, 5, 5, 5, 6, 6, 6, 7, 7, 7, 8, 8, 8])-1,\n",
    "    items_index=np.array([1, 2, 3, 4, 5, 1, 2, 3, 3, 4, 5, 2, 3, 4,\n",
    "                          6, 7, 8, 9, 10, 6, 7, 8, 8, 9, 10, 7, 8, 9])-1,\n",
    "    num_items=10,\n",
    "    num_users=8\n",
    ")"
   ]
  },
  {
   "cell_type": "code",
   "execution_count": null,
   "id": "49e7836a-6941-4755-a2b0-c706c2365803",
   "metadata": {},
   "outputs": [],
   "source": []
  },
  {
   "cell_type": "code",
   "execution_count": 37,
   "id": "e293710e-c552-41e9-8765-6df50c23f095",
   "metadata": {},
   "outputs": [
    {
     "data": {
      "text/plain": [
       "array([[1, 1, 1, 1, 1, 0, 0, 0, 0, 0],\n",
       "       [1, 1, 1, 0, 0, 0, 0, 0, 0, 0],\n",
       "       [0, 0, 1, 1, 1, 0, 0, 0, 0, 0],\n",
       "       [0, 1, 1, 1, 0, 0, 0, 0, 0, 0],\n",
       "       [0, 0, 0, 0, 0, 1, 1, 1, 1, 1],\n",
       "       [0, 0, 0, 0, 0, 1, 1, 1, 0, 0],\n",
       "       [0, 0, 0, 0, 0, 0, 0, 1, 1, 1],\n",
       "       [0, 0, 0, 0, 0, 0, 1, 1, 1, 0]])"
      ]
     },
     "execution_count": 37,
     "metadata": {},
     "output_type": "execute_result"
    }
   ],
   "source": [
    "test1.mat.toarray().astype(int)"
   ]
  },
  {
   "cell_type": "code",
   "execution_count": 50,
   "id": "6f1abcfe-7c22-4e6d-a33d-351850310f64",
   "metadata": {},
   "outputs": [
    {
     "name": "stdout",
     "output_type": "stream",
     "text": [
      "WARNING: Batch size assigned > # of users\n",
      "Setting batch size to 8\n"
     ]
    }
   ],
   "source": [
    "bpr1 = BPR(\n",
    "    num_features=2,\n",
    "    reg_lambda=0.0,\n",
    "    num_iters=200,\n",
    "    learning_rate = 0.2,\n",
    "    batch_size=500,\n",
    "    initial_std=0.01,\n",
    ")\n",
    "bpr1.initiate(uimat=test1.mat)"
   ]
  },
  {
   "cell_type": "code",
   "execution_count": 51,
   "id": "678292f3-a161-4b98-abe9-cff484446a7f",
   "metadata": {},
   "outputs": [
    {
     "name": "stdout",
     "output_type": "stream",
     "text": [
      "BPR-Fit: 100%|██████████| 1600/1600 [00:00<00:00, 27432.13it/s]\n"
     ]
    }
   ],
   "source": [
    "bpr_fit(bpr_obj=bpr1, iumat=test1.mat, ncores=1)"
   ]
  },
  {
   "cell_type": "code",
   "execution_count": 52,
   "id": "306f04d6-c283-4a77-b8f2-5d6a47d58a99",
   "metadata": {},
   "outputs": [
    {
     "name": "stdout",
     "output_type": "stream",
     "text": [
      "(10,)\n"
     ]
    },
    {
     "data": {
      "text/plain": [
       "[2]"
      ]
     },
     "execution_count": 52,
     "metadata": {},
     "output_type": "execute_result"
    }
   ],
   "source": [
    "bpr1.get_recomendations_for_this_user(0, num_recs=1)"
   ]
  },
  {
   "cell_type": "code",
   "execution_count": null,
   "id": "801b962d-9209-4c2b-8272-ec4f1ae6a81e",
   "metadata": {},
   "outputs": [],
   "source": [
    "aa, bb, cc = test1.get_metric_v1(\n",
    "    umat=bpr1.umat,\n",
    "    imat=bpr1.imat,\n",
    "    perc_active_users=1.0,\n",
    "    perc_active_items=1.0,\n",
    "    num_recs=3\n",
    ")"
   ]
  },
  {
   "cell_type": "code",
   "execution_count": null,
   "id": "e88c90cc-0eed-4e2c-81a2-840ca015ad6c",
   "metadata": {},
   "outputs": [],
   "source": [
    "aa, bb, cc"
   ]
  },
  {
   "cell_type": "code",
   "execution_count": null,
   "id": "80771e2f-20e9-441b-a849-87c8e28ce54e",
   "metadata": {},
   "outputs": [],
   "source": [
    "xmat = bpr1.umat.dot(bpr1.imat.T)"
   ]
  },
  {
   "cell_type": "code",
   "execution_count": null,
   "id": "6e960d08-08b7-4f6a-815f-cbdb25bf4e68",
   "metadata": {},
   "outputs": [],
   "source": [
    "yy = np.around(xmat,1)\n",
    "yy"
   ]
  },
  {
   "cell_type": "code",
   "execution_count": null,
   "id": "ec8277ca-5583-4693-a1b8-367804bfefbe",
   "metadata": {},
   "outputs": [],
   "source": [
    "nn = np.argpartition(\n",
    "    a=-1*yy,  # the recomendation matrix, -1 to counter ascending sort\n",
    "    kth=3,  # where to partition\n",
    "    axis=1  # sort it along the column, i.e. for each user\n",
    ")\n",
    "nn = nn[:,:3]\n",
    "nn"
   ]
  },
  {
   "cell_type": "code",
   "execution_count": null,
   "id": "6063f28d-de07-4ca4-a2cd-f551c75b09ed",
   "metadata": {},
   "outputs": [],
   "source": []
  },
  {
   "cell_type": "code",
   "execution_count": null,
   "id": "dbcbf206-b4fb-496f-b3d9-b1a60539404a",
   "metadata": {},
   "outputs": [],
   "source": []
  },
  {
   "cell_type": "code",
   "execution_count": null,
   "id": "9546130f-cf7c-4c11-964d-bdb824aa4e23",
   "metadata": {},
   "outputs": [],
   "source": [
    "# how to fast sort this matrix\n",
    "# rewrite bpr_* functions into class and try parralel pool to see if it works"
   ]
  },
  {
   "cell_type": "code",
   "execution_count": null,
   "id": "cfd7c5c0-674a-40b3-8569-56aefb031aad",
   "metadata": {},
   "outputs": [],
   "source": [
    "np.random.seed(123)\n",
    "#xx = np.random.choice(int(1e8), size=int(1e8))\n",
    "xx = np.random.randn(10, int(1e5))"
   ]
  },
  {
   "cell_type": "code",
   "execution_count": null,
   "id": "4b1af8b6-7742-48f4-841c-db4df3530de7",
   "metadata": {},
   "outputs": [],
   "source": [
    "xx"
   ]
  },
  {
   "cell_type": "code",
   "execution_count": null,
   "id": "03a0caee-6e7d-42cf-8015-440392490ba4",
   "metadata": {},
   "outputs": [],
   "source": [
    "#%%timeit\n",
    "yy1 = np.argsort(xx, axis=1)[:, ::-1]"
   ]
  },
  {
   "cell_type": "code",
   "execution_count": null,
   "id": "18348a28-a546-4e7c-aac1-3e60dfe78f1a",
   "metadata": {},
   "outputs": [],
   "source": [
    "data = np.asarray(order_data.mat.sum(axis=1)).reshape(-1)\n",
    "count, bins_count = np.histogram(data, bins=100, range=(0,200)) \n",
    "pdf = count / sum(count) \n",
    "cdf = np.cumsum(pdf) \n",
    "plt.plot(bins_count[1:], cdf,  '-r', label=\"Order\") \n",
    "plt.xlim([0,100])\n",
    "\n",
    "data = np.asarray(click_data.mat.sum(axis=1)).reshape(-1)\n",
    "count, bins_count = np.histogram(data, bins=200, range=(0,200)) \n",
    "pdf = count / sum(count) \n",
    "cdf = np.cumsum(pdf) \n",
    "plt.plot(bins_count[1:], cdf,  '-b', label=\"Click\") \n",
    "plt.legend()\n",
    "plt.grid(True)"
   ]
  },
  {
   "cell_type": "code",
   "execution_count": null,
   "id": "0be4ecef-a3d9-4330-9bcc-bc27bf1b63f6",
   "metadata": {},
   "outputs": [],
   "source": [
    "#%%timeit\n",
    "yy2 = np.argpartition(xx, kth=xx.shape[1]-60, axis=1)[:,::-1][:,:60]\n",
    "yy2.shape"
   ]
  },
  {
   "cell_type": "code",
   "execution_count": null,
   "id": "79239bf3-a222-48ec-8347-2e9acfd598b9",
   "metadata": {},
   "outputs": [],
   "source": [
    "yy2[1,:]"
   ]
  },
  {
   "cell_type": "code",
   "execution_count": null,
   "id": "8e0ad252-3639-457d-9141-d75fea91d790",
   "metadata": {},
   "outputs": [],
   "source": [
    "np.ravel(yy2)[58:62]"
   ]
  },
  {
   "cell_type": "code",
   "execution_count": null,
   "id": "f44ca77f-31f6-4944-9def-a70dd92fe0e2",
   "metadata": {},
   "outputs": [],
   "source": [
    "yy2[0, :60]"
   ]
  },
  {
   "cell_type": "code",
   "execution_count": null,
   "id": "89d7f424-e56b-4d41-a720-3a7c8b0b5eea",
   "metadata": {},
   "outputs": [],
   "source": [
    "xxx = np.array([[1,2,3,-1,0,6,7,-4,-2],[10,20,30,-10,0,60,70,-40,-20]])\n",
    "np.argsort(xxx, axis=1)[::-1]"
   ]
  },
  {
   "cell_type": "code",
   "execution_count": null,
   "id": "7087cbef-03da-4053-b888-9db1b96284c2",
   "metadata": {},
   "outputs": [],
   "source": [
    "np.argpartition(xxx, 6)[::-1]"
   ]
  },
  {
   "cell_type": "code",
   "execution_count": null,
   "id": "6ecd775e-b7a8-4aec-b2ea-780ba3cb9303",
   "metadata": {},
   "outputs": [],
   "source": []
  }
 ],
 "metadata": {
  "kernelspec": {
   "display_name": "bpr_env",
   "language": "python",
   "name": "bpr_env"
  },
  "language_info": {
   "codemirror_mode": {
    "name": "ipython",
    "version": 3
   },
   "file_extension": ".py",
   "mimetype": "text/x-python",
   "name": "python",
   "nbconvert_exporter": "python",
   "pygments_lexer": "ipython3",
   "version": "3.12.1"
  }
 },
 "nbformat": 4,
 "nbformat_minor": 5
}
